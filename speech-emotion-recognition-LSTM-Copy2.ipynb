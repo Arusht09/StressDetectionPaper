{
 "cells": [
  {
   "cell_type": "markdown",
   "metadata": {},
   "source": [
    "# Speech Emotion Recognition\n",
    "\n",
    "The objective of this notebook is to classify from raw sound waves to six emotions: happy, sad, neutral, fear, angry, and disgust. \n",
    "\n",
    "1. Gathering data\n",
    "2. Quick EDA\n",
    "3. Preprocess\n",
    "4. Extract features\n",
    "5. Build a LSTM\n",
    "6. Evaluate and conclude\n",
    "\n",
    "Datasets:\n",
    "* Crowd-sourced Emotional Multimodal Actors Dataset (Crema-D)\n",
    "* Ryerson Audio-Visual Database of Emotional Speech and Song (Ravdess)\n",
    "* Surrey Audio-Visual Expressed Emotion (Savee)\n",
    "* Toronto Emotional Speech Set (Tessa)"
   ]
  },
  {
   "cell_type": "markdown",
   "metadata": {},
   "source": [
    "# 1. Gathering data\n",
    "\n",
    "We will gather speech data from four datasets and store it in a single dataframe along with the corresponding file paths, gender labels and emotion labels. The size of each respective dataframe will be specified, along with an example filename in which the emotion label is bolded. "
   ]
  },
  {
   "cell_type": "code",
   "execution_count": 35,
   "metadata": {
    "_cell_guid": "b1076dfc-b9ad-4769-8c92-a6c4dae69d19",
    "_uuid": "8f2839f25d086af736a60e9eeb907d3b93b6e0e5",
    "execution": {
     "iopub.execute_input": "2023-07-01T03:01:23.831013Z",
     "iopub.status.busy": "2023-07-01T03:01:23.830448Z",
     "iopub.status.idle": "2023-07-01T03:01:23.871293Z",
     "shell.execute_reply": "2023-07-01T03:01:23.869906Z",
     "shell.execute_reply.started": "2023-07-01T03:01:23.830954Z"
    }
   },
   "outputs": [],
   "source": [
    "import os\n",
    "import pandas as pd\n",
    "import numpy as np"
   ]
  },
  {
   "cell_type": "code",
   "execution_count": 36,
   "metadata": {
    "execution": {
     "iopub.execute_input": "2023-07-01T03:01:23.876646Z",
     "iopub.status.busy": "2023-07-01T03:01:23.874782Z",
     "iopub.status.idle": "2023-07-01T03:01:23.883477Z",
     "shell.execute_reply": "2023-07-01T03:01:23.881907Z",
     "shell.execute_reply.started": "2023-07-01T03:01:23.876487Z"
    }
   },
   "outputs": [],
   "source": [
    "RAVDESS = \"/Users/arushtripathi/Downloads/sentiment-predictor-for-stress-detection-main/Audio_Speech_Actors_01-24/\"\n",
    "CREMA = \"/Users/arushtripathi/Downloads/crema/\"\n",
    "TESS = \"/Users/arushtripathi/Downloads/TESS Toronto emotional speech set data/tess toronto emotional speech set data/\"\n",
    "SAVEE = \"/Users/arushtripathi/Downloads/save/\""
   ]
  },
  {
   "cell_type": "markdown",
   "metadata": {},
   "source": [
    "**1. Ravdess Dataframe**\n",
    "\n",
    "There are 1440 audio files, for example, 03-01-**06**-01-02-01-12.wav."
   ]
  },
  {
   "cell_type": "code",
   "execution_count": 37,
   "metadata": {
    "execution": {
     "iopub.execute_input": "2023-07-01T03:01:23.886873Z",
     "iopub.status.busy": "2023-07-01T03:01:23.885753Z",
     "iopub.status.idle": "2023-07-01T03:01:24.260412Z",
     "shell.execute_reply": "2023-07-01T03:01:24.259192Z",
     "shell.execute_reply.started": "2023-07-01T03:01:23.88675Z"
    }
   },
   "outputs": [
    {
     "data": {
      "text/html": [
       "<div>\n",
       "<style scoped>\n",
       "    .dataframe tbody tr th:only-of-type {\n",
       "        vertical-align: middle;\n",
       "    }\n",
       "\n",
       "    .dataframe tbody tr th {\n",
       "        vertical-align: top;\n",
       "    }\n",
       "\n",
       "    .dataframe thead th {\n",
       "        text-align: right;\n",
       "    }\n",
       "</style>\n",
       "<table border=\"1\" class=\"dataframe\">\n",
       "  <thead>\n",
       "    <tr style=\"text-align: right;\">\n",
       "      <th></th>\n",
       "      <th>path</th>\n",
       "      <th>sex</th>\n",
       "      <th>emotion</th>\n",
       "    </tr>\n",
       "  </thead>\n",
       "  <tbody>\n",
       "    <tr>\n",
       "      <th>0</th>\n",
       "      <td>/Users/arushtripathi/Downloads/sentiment-predi...</td>\n",
       "      <td>female</td>\n",
       "      <td>angry</td>\n",
       "    </tr>\n",
       "    <tr>\n",
       "      <th>1</th>\n",
       "      <td>/Users/arushtripathi/Downloads/sentiment-predi...</td>\n",
       "      <td>female</td>\n",
       "      <td>fear</td>\n",
       "    </tr>\n",
       "    <tr>\n",
       "      <th>2</th>\n",
       "      <td>/Users/arushtripathi/Downloads/sentiment-predi...</td>\n",
       "      <td>female</td>\n",
       "      <td>fear</td>\n",
       "    </tr>\n",
       "    <tr>\n",
       "      <th>3</th>\n",
       "      <td>/Users/arushtripathi/Downloads/sentiment-predi...</td>\n",
       "      <td>female</td>\n",
       "      <td>angry</td>\n",
       "    </tr>\n",
       "    <tr>\n",
       "      <th>4</th>\n",
       "      <td>/Users/arushtripathi/Downloads/sentiment-predi...</td>\n",
       "      <td>female</td>\n",
       "      <td>disgust</td>\n",
       "    </tr>\n",
       "  </tbody>\n",
       "</table>\n",
       "</div>"
      ],
      "text/plain": [
       "                                                path     sex  emotion\n",
       "0  /Users/arushtripathi/Downloads/sentiment-predi...  female    angry\n",
       "1  /Users/arushtripathi/Downloads/sentiment-predi...  female     fear\n",
       "2  /Users/arushtripathi/Downloads/sentiment-predi...  female     fear\n",
       "3  /Users/arushtripathi/Downloads/sentiment-predi...  female    angry\n",
       "4  /Users/arushtripathi/Downloads/sentiment-predi...  female  disgust"
      ]
     },
     "execution_count": 37,
     "metadata": {},
     "output_type": "execute_result"
    }
   ],
   "source": [
    "ravdess_dir_lis = os.listdir(RAVDESS)\n",
    "path_list = []\n",
    "gender_list = []\n",
    "emotion_list = []\n",
    "\n",
    "emotion_dic = {\n",
    "    '03' : 'happy',\n",
    "    '01' : 'neutral',\n",
    "    '04' : 'sad',\n",
    "    '05' : 'angry',\n",
    "    '06' : 'fear',\n",
    "    '07' : 'disgust',\n",
    "}\n",
    "\n",
    "for directory in ravdess_dir_lis:\n",
    "    actor_files = os.listdir(os.path.join(RAVDESS, directory))\n",
    "    for audio_file in actor_files: \n",
    "        part = audio_file.split('.')[0]\n",
    "        key = part.split('-')[2]\n",
    "        if key in emotion_dic:\n",
    "            gender_code = int(part.split('-')[6])\n",
    "            path_list.append(f\"{RAVDESS}{directory}/{audio_file}\")\n",
    "            gender_list.append('female' if gender_code & 1 == 0 else 'male')\n",
    "            emotion_list.append(emotion_dic[key])\n",
    "            \n",
    "ravdess_df = pd.concat([\n",
    "    pd.DataFrame(path_list, columns=['path']),\n",
    "    pd.DataFrame(gender_list, columns=['sex']),\n",
    "    pd.DataFrame(emotion_list, columns=['emotion'])\n",
    "], axis=1)\n",
    "\n",
    "ravdess_df.head()"
   ]
  },
  {
   "cell_type": "markdown",
   "metadata": {},
   "source": [
    "**2. Crema-D Dataframe**\n",
    "\n",
    "There are 7,442 audio files, for example, 1001_DFA_**ANG**_XX.wav."
   ]
  },
  {
   "cell_type": "code",
   "execution_count": 38,
   "metadata": {
    "execution": {
     "iopub.execute_input": "2023-07-01T03:01:24.262523Z",
     "iopub.status.busy": "2023-07-01T03:01:24.261825Z",
     "iopub.status.idle": "2023-07-01T03:01:24.555083Z",
     "shell.execute_reply": "2023-07-01T03:01:24.553876Z",
     "shell.execute_reply.started": "2023-07-01T03:01:24.262476Z"
    }
   },
   "outputs": [
    {
     "data": {
      "text/html": [
       "<div>\n",
       "<style scoped>\n",
       "    .dataframe tbody tr th:only-of-type {\n",
       "        vertical-align: middle;\n",
       "    }\n",
       "\n",
       "    .dataframe tbody tr th {\n",
       "        vertical-align: top;\n",
       "    }\n",
       "\n",
       "    .dataframe thead th {\n",
       "        text-align: right;\n",
       "    }\n",
       "</style>\n",
       "<table border=\"1\" class=\"dataframe\">\n",
       "  <thead>\n",
       "    <tr style=\"text-align: right;\">\n",
       "      <th></th>\n",
       "      <th>path</th>\n",
       "      <th>sex</th>\n",
       "      <th>emotion</th>\n",
       "    </tr>\n",
       "  </thead>\n",
       "  <tbody>\n",
       "    <tr>\n",
       "      <th>0</th>\n",
       "      <td>/Users/arushtripathi/Downloads/crema/1028_IEO_...</td>\n",
       "      <td>female</td>\n",
       "      <td>sad</td>\n",
       "    </tr>\n",
       "    <tr>\n",
       "      <th>1</th>\n",
       "      <td>/Users/arushtripathi/Downloads/crema/1048_IEO_...</td>\n",
       "      <td>male</td>\n",
       "      <td>angry</td>\n",
       "    </tr>\n",
       "    <tr>\n",
       "      <th>2</th>\n",
       "      <td>/Users/arushtripathi/Downloads/crema/1027_IEO_...</td>\n",
       "      <td>male</td>\n",
       "      <td>disgust</td>\n",
       "    </tr>\n",
       "    <tr>\n",
       "      <th>3</th>\n",
       "      <td>/Users/arushtripathi/Downloads/crema/1032_IEO_...</td>\n",
       "      <td>male</td>\n",
       "      <td>disgust</td>\n",
       "    </tr>\n",
       "    <tr>\n",
       "      <th>4</th>\n",
       "      <td>/Users/arushtripathi/Downloads/crema/1080_IEO_...</td>\n",
       "      <td>male</td>\n",
       "      <td>happy</td>\n",
       "    </tr>\n",
       "  </tbody>\n",
       "</table>\n",
       "</div>"
      ],
      "text/plain": [
       "                                                path     sex  emotion\n",
       "0  /Users/arushtripathi/Downloads/crema/1028_IEO_...  female      sad\n",
       "1  /Users/arushtripathi/Downloads/crema/1048_IEO_...    male    angry\n",
       "2  /Users/arushtripathi/Downloads/crema/1027_IEO_...    male  disgust\n",
       "3  /Users/arushtripathi/Downloads/crema/1032_IEO_...    male  disgust\n",
       "4  /Users/arushtripathi/Downloads/crema/1080_IEO_...    male    happy"
      ]
     },
     "execution_count": 38,
     "metadata": {},
     "output_type": "execute_result"
    }
   ],
   "source": [
    "crema_dir_list = os.listdir(CREMA)\n",
    "path_list = []\n",
    "gender_list = []\n",
    "emotion_list = []\n",
    "\n",
    "emotion_dic = {\n",
    "    'HAP' : 'happy',\n",
    "    'NEU' : 'neutral',\n",
    "    'SAD' : 'sad',\n",
    "    'ANG' : 'angry',\n",
    "    'FEA' : 'fear',\n",
    "    'DIS' : 'disgust',\n",
    "}\n",
    "\n",
    "female_id_list = [\n",
    "    '1002', '1003', '1004', '1006', '1007', '1008', '1009', '1010', '1012', '1013', '1018', \n",
    "    '1020', '1021', '1024', '1025', '1028', '1029', '1030', '1037', '1043', '1046', '1047', \n",
    "    '1049', '1052', '1053', '1054', '1055', '1056', '1058', '1060', '1061', '1063', '1072', \n",
    "    '1073', '1074', '1075', '1076', '1078', '1079', '1082', '1084', '1089', '1091',\n",
    "]\n",
    "\n",
    "for audio_file in crema_dir_list:\n",
    "    part = audio_file.split('_')\n",
    "    key = part[2]\n",
    "    if key in emotion_dic and part[3] == 'HI.wav':\n",
    "        path_list.append(f\"{CREMA}{audio_file}\")\n",
    "        gender_list.append('female' if part[0] in female_id_list else 'male')\n",
    "        emotion_list.append(emotion_dic[key])\n",
    "\n",
    "crema_df = pd.concat([\n",
    "    pd.DataFrame(path_list, columns=['path']),\n",
    "    pd.DataFrame(gender_list, columns=['sex']),\n",
    "    pd.DataFrame(emotion_list, columns=['emotion'])\n",
    "], axis=1)\n",
    "\n",
    "crema_df.head()"
   ]
  },
  {
   "cell_type": "markdown",
   "metadata": {},
   "source": [
    "**3. Tess Dataframe**\n",
    "\n",
    "There are 2,800 audio files, for example, OAF_base_**fear**.wav."
   ]
  },
  {
   "cell_type": "code",
   "execution_count": 39,
   "metadata": {
    "execution": {
     "iopub.execute_input": "2023-07-01T03:01:24.559974Z",
     "iopub.status.busy": "2023-07-01T03:01:24.559094Z",
     "iopub.status.idle": "2023-07-01T03:01:25.233141Z",
     "shell.execute_reply": "2023-07-01T03:01:25.231954Z",
     "shell.execute_reply.started": "2023-07-01T03:01:24.559941Z"
    }
   },
   "outputs": [
    {
     "data": {
      "text/html": [
       "<div>\n",
       "<style scoped>\n",
       "    .dataframe tbody tr th:only-of-type {\n",
       "        vertical-align: middle;\n",
       "    }\n",
       "\n",
       "    .dataframe tbody tr th {\n",
       "        vertical-align: top;\n",
       "    }\n",
       "\n",
       "    .dataframe thead th {\n",
       "        text-align: right;\n",
       "    }\n",
       "</style>\n",
       "<table border=\"1\" class=\"dataframe\">\n",
       "  <thead>\n",
       "    <tr style=\"text-align: right;\">\n",
       "      <th></th>\n",
       "      <th>path</th>\n",
       "      <th>sex</th>\n",
       "      <th>emotion</th>\n",
       "    </tr>\n",
       "  </thead>\n",
       "  <tbody>\n",
       "    <tr>\n",
       "      <th>0</th>\n",
       "      <td>/Users/arushtripathi/Downloads/TESS Toronto em...</td>\n",
       "      <td>female</td>\n",
       "      <td>disgust</td>\n",
       "    </tr>\n",
       "    <tr>\n",
       "      <th>1</th>\n",
       "      <td>/Users/arushtripathi/Downloads/TESS Toronto em...</td>\n",
       "      <td>female</td>\n",
       "      <td>disgust</td>\n",
       "    </tr>\n",
       "    <tr>\n",
       "      <th>2</th>\n",
       "      <td>/Users/arushtripathi/Downloads/TESS Toronto em...</td>\n",
       "      <td>female</td>\n",
       "      <td>disgust</td>\n",
       "    </tr>\n",
       "    <tr>\n",
       "      <th>3</th>\n",
       "      <td>/Users/arushtripathi/Downloads/TESS Toronto em...</td>\n",
       "      <td>female</td>\n",
       "      <td>disgust</td>\n",
       "    </tr>\n",
       "    <tr>\n",
       "      <th>4</th>\n",
       "      <td>/Users/arushtripathi/Downloads/TESS Toronto em...</td>\n",
       "      <td>female</td>\n",
       "      <td>disgust</td>\n",
       "    </tr>\n",
       "  </tbody>\n",
       "</table>\n",
       "</div>"
      ],
      "text/plain": [
       "                                                path     sex  emotion\n",
       "0  /Users/arushtripathi/Downloads/TESS Toronto em...  female  disgust\n",
       "1  /Users/arushtripathi/Downloads/TESS Toronto em...  female  disgust\n",
       "2  /Users/arushtripathi/Downloads/TESS Toronto em...  female  disgust\n",
       "3  /Users/arushtripathi/Downloads/TESS Toronto em...  female  disgust\n",
       "4  /Users/arushtripathi/Downloads/TESS Toronto em...  female  disgust"
      ]
     },
     "execution_count": 39,
     "metadata": {},
     "output_type": "execute_result"
    }
   ],
   "source": [
    "tess_dir_list = os.listdir(TESS)\n",
    "path_list = []\n",
    "gender_list = []\n",
    "emotion_list = [] \n",
    "\n",
    "emotion_dic = {\n",
    "    'happy'   : 'happy',\n",
    "    'neutral' : 'neutral',\n",
    "    'sad'     : 'sad',\n",
    "    'Sad'     : 'sad',\n",
    "    'angry'   : 'angry',\n",
    "    'fear'    : 'fear',\n",
    "    'disgust'  : 'disgust',\n",
    "}\n",
    "\n",
    "for directory in tess_dir_list:\n",
    "    audio_files = os.listdir(os.path.join(TESS, directory))\n",
    "    for audio_file in audio_files:\n",
    "        part = audio_file.split('.')[0]\n",
    "        key = part.split('_')[2]\n",
    "        if key in emotion_dic:\n",
    "            path_list.append(f\"{TESS}{directory}/{audio_file}\") \n",
    "            gender_list.append('female') # female only dataset\n",
    "            emotion_list.append(emotion_dic[key])\n",
    "            \n",
    "tess_df = pd.concat([\n",
    "    pd.DataFrame(path_list, columns=['path']),\n",
    "    pd.DataFrame(gender_list, columns=['sex']),\n",
    "    pd.DataFrame(emotion_list, columns=['emotion'])\n",
    "], axis=1)\n",
    "\n",
    "tess_df.head()"
   ]
  },
  {
   "cell_type": "markdown",
   "metadata": {},
   "source": [
    "**4. Savee Dataframe**\n",
    "\n",
    "There are 480 audio files, for example, DC_**a**02.wav."
   ]
  },
  {
   "cell_type": "code",
   "execution_count": 40,
   "metadata": {
    "execution": {
     "iopub.execute_input": "2023-07-01T03:01:25.235459Z",
     "iopub.status.busy": "2023-07-01T03:01:25.234987Z",
     "iopub.status.idle": "2023-07-01T03:01:25.366586Z",
     "shell.execute_reply": "2023-07-01T03:01:25.365318Z",
     "shell.execute_reply.started": "2023-07-01T03:01:25.235408Z"
    }
   },
   "outputs": [
    {
     "data": {
      "text/html": [
       "<div>\n",
       "<style scoped>\n",
       "    .dataframe tbody tr th:only-of-type {\n",
       "        vertical-align: middle;\n",
       "    }\n",
       "\n",
       "    .dataframe tbody tr th {\n",
       "        vertical-align: top;\n",
       "    }\n",
       "\n",
       "    .dataframe thead th {\n",
       "        text-align: right;\n",
       "    }\n",
       "</style>\n",
       "<table border=\"1\" class=\"dataframe\">\n",
       "  <thead>\n",
       "    <tr style=\"text-align: right;\">\n",
       "      <th></th>\n",
       "      <th>path</th>\n",
       "      <th>sex</th>\n",
       "      <th>emotion</th>\n",
       "    </tr>\n",
       "  </thead>\n",
       "  <tbody>\n",
       "    <tr>\n",
       "      <th>0</th>\n",
       "      <td>/Users/arushtripathi/Downloads/save/JK_sa01.wav</td>\n",
       "      <td>male</td>\n",
       "      <td>sad</td>\n",
       "    </tr>\n",
       "    <tr>\n",
       "      <th>1</th>\n",
       "      <td>/Users/arushtripathi/Downloads/save/JK_sa15.wav</td>\n",
       "      <td>male</td>\n",
       "      <td>sad</td>\n",
       "    </tr>\n",
       "    <tr>\n",
       "      <th>2</th>\n",
       "      <td>/Users/arushtripathi/Downloads/save/DC_n13.wav</td>\n",
       "      <td>male</td>\n",
       "      <td>neutral</td>\n",
       "    </tr>\n",
       "    <tr>\n",
       "      <th>3</th>\n",
       "      <td>/Users/arushtripathi/Downloads/save/DC_n07.wav</td>\n",
       "      <td>male</td>\n",
       "      <td>neutral</td>\n",
       "    </tr>\n",
       "    <tr>\n",
       "      <th>4</th>\n",
       "      <td>/Users/arushtripathi/Downloads/save/JK_n20.wav</td>\n",
       "      <td>male</td>\n",
       "      <td>neutral</td>\n",
       "    </tr>\n",
       "  </tbody>\n",
       "</table>\n",
       "</div>"
      ],
      "text/plain": [
       "                                              path   sex  emotion\n",
       "0  /Users/arushtripathi/Downloads/save/JK_sa01.wav  male      sad\n",
       "1  /Users/arushtripathi/Downloads/save/JK_sa15.wav  male      sad\n",
       "2   /Users/arushtripathi/Downloads/save/DC_n13.wav  male  neutral\n",
       "3   /Users/arushtripathi/Downloads/save/DC_n07.wav  male  neutral\n",
       "4   /Users/arushtripathi/Downloads/save/JK_n20.wav  male  neutral"
      ]
     },
     "execution_count": 40,
     "metadata": {},
     "output_type": "execute_result"
    }
   ],
   "source": [
    "savee_dir_list = os.listdir(SAVEE)\n",
    "path_list = []\n",
    "gender_list = []\n",
    "emotion_list = []\n",
    "\n",
    "emotion_dic = {\n",
    "    'h'  : 'happy',\n",
    "    'n'  : 'neutral',\n",
    "    'sa' : 'sad',\n",
    "    'a'  : 'angry',\n",
    "    'f'  : 'fear',\n",
    "    'd'  : 'disgust'\n",
    "}\n",
    "\n",
    "for audio_file in savee_dir_list:\n",
    "    part = audio_file.split('_')[1]\n",
    "    key = part[:-6]\n",
    "    if key in emotion_dic:\n",
    "        path_list.append(f\"{SAVEE}{audio_file}\")\n",
    "        gender_list.append('male') # male only dataset\n",
    "        emotion_list.append(emotion_dic[key])\n",
    "        \n",
    "savee_df = pd.concat([\n",
    "    pd.DataFrame(path_list, columns=['path']),\n",
    "    pd.DataFrame(gender_list, columns=['sex']),\n",
    "    pd.DataFrame(emotion_list, columns=['emotion'])\n",
    "], axis=1)\n",
    "\n",
    "savee_df.head()"
   ]
  },
  {
   "cell_type": "code",
   "execution_count": 41,
   "metadata": {
    "execution": {
     "iopub.execute_input": "2023-07-01T03:01:25.369357Z",
     "iopub.status.busy": "2023-07-01T03:01:25.368538Z",
     "iopub.status.idle": "2023-07-01T03:01:25.387397Z",
     "shell.execute_reply": "2023-07-01T03:01:25.38611Z",
     "shell.execute_reply.started": "2023-07-01T03:01:25.369311Z"
    }
   },
   "outputs": [
    {
     "data": {
      "text/html": [
       "<div>\n",
       "<style scoped>\n",
       "    .dataframe tbody tr th:only-of-type {\n",
       "        vertical-align: middle;\n",
       "    }\n",
       "\n",
       "    .dataframe tbody tr th {\n",
       "        vertical-align: top;\n",
       "    }\n",
       "\n",
       "    .dataframe thead th {\n",
       "        text-align: right;\n",
       "    }\n",
       "</style>\n",
       "<table border=\"1\" class=\"dataframe\">\n",
       "  <thead>\n",
       "    <tr style=\"text-align: right;\">\n",
       "      <th></th>\n",
       "      <th>path</th>\n",
       "      <th>sex</th>\n",
       "      <th>emotion</th>\n",
       "    </tr>\n",
       "  </thead>\n",
       "  <tbody>\n",
       "    <tr>\n",
       "      <th>0</th>\n",
       "      <td>/Users/arushtripathi/Downloads/sentiment-predi...</td>\n",
       "      <td>female</td>\n",
       "      <td>angry</td>\n",
       "    </tr>\n",
       "    <tr>\n",
       "      <th>1</th>\n",
       "      <td>/Users/arushtripathi/Downloads/sentiment-predi...</td>\n",
       "      <td>female</td>\n",
       "      <td>fear</td>\n",
       "    </tr>\n",
       "    <tr>\n",
       "      <th>2</th>\n",
       "      <td>/Users/arushtripathi/Downloads/sentiment-predi...</td>\n",
       "      <td>female</td>\n",
       "      <td>fear</td>\n",
       "    </tr>\n",
       "    <tr>\n",
       "      <th>3</th>\n",
       "      <td>/Users/arushtripathi/Downloads/sentiment-predi...</td>\n",
       "      <td>female</td>\n",
       "      <td>angry</td>\n",
       "    </tr>\n",
       "    <tr>\n",
       "      <th>4</th>\n",
       "      <td>/Users/arushtripathi/Downloads/sentiment-predi...</td>\n",
       "      <td>female</td>\n",
       "      <td>disgust</td>\n",
       "    </tr>\n",
       "  </tbody>\n",
       "</table>\n",
       "</div>"
      ],
      "text/plain": [
       "                                                path     sex  emotion\n",
       "0  /Users/arushtripathi/Downloads/sentiment-predi...  female    angry\n",
       "1  /Users/arushtripathi/Downloads/sentiment-predi...  female     fear\n",
       "2  /Users/arushtripathi/Downloads/sentiment-predi...  female     fear\n",
       "3  /Users/arushtripathi/Downloads/sentiment-predi...  female    angry\n",
       "4  /Users/arushtripathi/Downloads/sentiment-predi...  female  disgust"
      ]
     },
     "execution_count": 41,
     "metadata": {},
     "output_type": "execute_result"
    }
   ],
   "source": [
    "df = pd.concat([\n",
    "    ravdess_df, \n",
    "    crema_df, \n",
    "    tess_df, \n",
    "    savee_df\n",
    "], axis=0)\n",
    "df.head()"
   ]
  },
  {
   "cell_type": "markdown",
   "metadata": {},
   "source": [
    "# 2. Quick EDA\n",
    "\n",
    "We check for imbalances like male to female ratio. "
   ]
  },
  {
   "cell_type": "code",
   "execution_count": 42,
   "metadata": {
    "execution": {
     "iopub.execute_input": "2023-07-01T03:01:25.390167Z",
     "iopub.status.busy": "2023-07-01T03:01:25.389331Z",
     "iopub.status.idle": "2023-07-01T03:01:25.404297Z",
     "shell.execute_reply": "2023-07-01T03:01:25.4031Z",
     "shell.execute_reply.started": "2023-07-01T03:01:25.390097Z"
    }
   },
   "outputs": [],
   "source": [
    "import librosa\n",
    "import matplotlib.pyplot as plt\n",
    "\n",
    "plt.style.use('ggplot')"
   ]
  },
  {
   "cell_type": "code",
   "execution_count": 43,
   "metadata": {
    "execution": {
     "iopub.execute_input": "2023-07-01T03:01:25.406154Z",
     "iopub.status.busy": "2023-07-01T03:01:25.405772Z",
     "iopub.status.idle": "2023-07-01T03:01:25.76566Z",
     "shell.execute_reply": "2023-07-01T03:01:25.764203Z",
     "shell.execute_reply.started": "2023-07-01T03:01:25.406094Z"
    }
   },
   "outputs": [
    {
     "data": {
      "image/png": "[encoded data removed]",
      "text/plain": [
       "<Figure size 600x300 with 1 Axes>"
      ]
     },
     "metadata": {},
     "output_type": "display_data"
    }
   ],
   "source": [
    "def plot_distribution(df): \n",
    "    countTable = df.groupby(['emotion', 'sex']).count()\n",
    "    pivotTable = countTable.pivot_table(index='emotion', columns='sex', values='path')\n",
    "\n",
    "    pivotTable.plot(kind='bar', figsize=(6, 3), color=['pink', 'blue'])\n",
    "    plt.title('Emotion and Gender Distribution')\n",
    "    plt.xlabel('Emotion')\n",
    "    plt.ylabel('Count')\n",
    "    plt.show()\n",
    "    \n",
    "plot_distribution(df)"
   ]
  },
  {
   "cell_type": "code",
   "execution_count": 44,
   "metadata": {
    "execution": {
     "iopub.execute_input": "2023-07-01T03:01:25.770659Z",
     "iopub.status.busy": "2023-07-01T03:01:25.769891Z",
     "iopub.status.idle": "2023-07-01T03:01:26.048571Z",
     "shell.execute_reply": "2023-07-01T03:01:26.047199Z",
     "shell.execute_reply.started": "2023-07-01T03:01:25.770616Z"
    }
   },
   "outputs": [
    {
     "data": {
      "image/png": "[encoded data removed]",
      "text/plain": [
       "<Figure size 600x300 with 1 Axes>"
      ]
     },
     "metadata": {},
     "output_type": "display_data"
    }
   ],
   "source": [
    "# I decided to go with a female specific model \n",
    "df = df[df['sex'] == 'female']\n",
    "plot_distribution(df)"
   ]
  },
  {
   "cell_type": "code",
   "execution_count": 45,
   "metadata": {
    "execution": {
     "iopub.execute_input": "2023-07-01T03:01:26.051086Z",
     "iopub.status.busy": "2023-07-01T03:01:26.050609Z",
     "iopub.status.idle": "2023-07-01T03:01:26.064932Z",
     "shell.execute_reply": "2023-07-01T03:01:26.063599Z",
     "shell.execute_reply.started": "2023-07-01T03:01:26.051038Z"
    }
   },
   "outputs": [
    {
     "data": {
      "text/html": [
       "<div>\n",
       "<style scoped>\n",
       "    .dataframe tbody tr th:only-of-type {\n",
       "        vertical-align: middle;\n",
       "    }\n",
       "\n",
       "    .dataframe tbody tr th {\n",
       "        vertical-align: top;\n",
       "    }\n",
       "\n",
       "    .dataframe thead th {\n",
       "        text-align: right;\n",
       "    }\n",
       "</style>\n",
       "<table border=\"1\" class=\"dataframe\">\n",
       "  <thead>\n",
       "    <tr style=\"text-align: right;\">\n",
       "      <th></th>\n",
       "      <th>path</th>\n",
       "      <th>emotion</th>\n",
       "    </tr>\n",
       "  </thead>\n",
       "  <tbody>\n",
       "    <tr>\n",
       "      <th>0</th>\n",
       "      <td>/Users/arushtripathi/Downloads/sentiment-predi...</td>\n",
       "      <td>angry</td>\n",
       "    </tr>\n",
       "    <tr>\n",
       "      <th>1</th>\n",
       "      <td>/Users/arushtripathi/Downloads/sentiment-predi...</td>\n",
       "      <td>fear</td>\n",
       "    </tr>\n",
       "    <tr>\n",
       "      <th>2</th>\n",
       "      <td>/Users/arushtripathi/Downloads/sentiment-predi...</td>\n",
       "      <td>fear</td>\n",
       "    </tr>\n",
       "    <tr>\n",
       "      <th>3</th>\n",
       "      <td>/Users/arushtripathi/Downloads/sentiment-predi...</td>\n",
       "      <td>angry</td>\n",
       "    </tr>\n",
       "    <tr>\n",
       "      <th>4</th>\n",
       "      <td>/Users/arushtripathi/Downloads/sentiment-predi...</td>\n",
       "      <td>disgust</td>\n",
       "    </tr>\n",
       "  </tbody>\n",
       "</table>\n",
       "</div>"
      ],
      "text/plain": [
       "                                                path  emotion\n",
       "0  /Users/arushtripathi/Downloads/sentiment-predi...    angry\n",
       "1  /Users/arushtripathi/Downloads/sentiment-predi...     fear\n",
       "2  /Users/arushtripathi/Downloads/sentiment-predi...     fear\n",
       "3  /Users/arushtripathi/Downloads/sentiment-predi...    angry\n",
       "4  /Users/arushtripathi/Downloads/sentiment-predi...  disgust"
      ]
     },
     "execution_count": 45,
     "metadata": {},
     "output_type": "execute_result"
    }
   ],
   "source": [
    "df.drop('sex', axis=1, inplace=True)\n",
    "df.head()"
   ]
  },
  {
   "cell_type": "code",
   "execution_count": 46,
   "metadata": {
    "execution": {
     "iopub.execute_input": "2023-07-01T03:01:26.068313Z",
     "iopub.status.busy": "2023-07-01T03:01:26.06737Z",
     "iopub.status.idle": "2023-07-01T03:01:26.07571Z",
     "shell.execute_reply": "2023-07-01T03:01:26.074409Z",
     "shell.execute_reply.started": "2023-07-01T03:01:26.068264Z"
    }
   },
   "outputs": [],
   "source": [
    "from IPython.display import Audio\n",
    "\n",
    "def create_waveplot(y, sr, title):\n",
    "    plt.figure(figsize=(8, 2))\n",
    "    plt.title(title)\n",
    "    librosa.display.waveshow(y, sr=sr)\n",
    "    plt.show()"
   ]
  },
  {
   "cell_type": "code",
   "execution_count": 47,
   "metadata": {
    "execution": {
     "iopub.execute_input": "2023-07-01T03:01:26.078822Z",
     "iopub.status.busy": "2023-07-01T03:01:26.077892Z",
     "iopub.status.idle": "2023-07-01T03:01:37.084499Z",
     "shell.execute_reply": "2023-07-01T03:01:37.083512Z",
     "shell.execute_reply.started": "2023-07-01T03:01:26.078774Z"
    }
   },
   "outputs": [
    {
     "ename": "AttributeError",
     "evalue": "module 'librosa' has no attribute 'display'",
     "output_type": "error",
     "traceback": [
      "\u001b[0;31m---------------------------------------------------------------------------\u001b[0m",
      "\u001b[0;31mAttributeError\u001b[0m                            Traceback (most recent call last)",
      "Cell \u001b[0;32mIn[47], line 6\u001b[0m\n\u001b[1;32m      3\u001b[0m path \u001b[38;5;241m=\u001b[39m np\u001b[38;5;241m.\u001b[39marray(df\u001b[38;5;241m.\u001b[39mpath[df\u001b[38;5;241m.\u001b[39memotion \u001b[38;5;241m==\u001b[39m emotion_label])[\u001b[38;5;241m1\u001b[39m]\n\u001b[1;32m      4\u001b[0m y, sr \u001b[38;5;241m=\u001b[39m librosa\u001b[38;5;241m.\u001b[39mload(path)\n\u001b[0;32m----> 6\u001b[0m \u001b[43mcreate_waveplot\u001b[49m\u001b[43m(\u001b[49m\u001b[43my\u001b[49m\u001b[43m,\u001b[49m\u001b[43m \u001b[49m\u001b[43msr\u001b[49m\u001b[43m,\u001b[49m\u001b[43m \u001b[49m\u001b[43mtitle\u001b[49m\u001b[43m)\u001b[49m\n\u001b[1;32m      7\u001b[0m Audio(path)\n",
      "Cell \u001b[0;32mIn[46], line 6\u001b[0m, in \u001b[0;36mcreate_waveplot\u001b[0;34m(y, sr, title)\u001b[0m\n\u001b[1;32m      4\u001b[0m plt\u001b[38;5;241m.\u001b[39mfigure(figsize\u001b[38;5;241m=\u001b[39m(\u001b[38;5;241m8\u001b[39m, \u001b[38;5;241m2\u001b[39m))\n\u001b[1;32m      5\u001b[0m plt\u001b[38;5;241m.\u001b[39mtitle(title)\n\u001b[0;32m----> 6\u001b[0m \u001b[43mlibrosa\u001b[49m\u001b[38;5;241;43m.\u001b[39;49m\u001b[43mdisplay\u001b[49m\u001b[38;5;241m.\u001b[39mwaveshow(y, sr\u001b[38;5;241m=\u001b[39msr)\n\u001b[1;32m      7\u001b[0m plt\u001b[38;5;241m.\u001b[39mshow()\n",
      "\u001b[0;31mAttributeError\u001b[0m: module 'librosa' has no attribute 'display'"
     ]
    },
    {
     "data": {
      "image/png": "[encoded data removed]",
      "text/plain": [
       "<Figure size 800x200 with 1 Axes>"
      ]
     },
     "metadata": {},
     "output_type": "display_data"
    }
   ],
   "source": [
    "emotion_label = 'sad'\n",
    "title = f\"Waveplot for {emotion_label} emotion\"\n",
    "path = np.array(df.path[df.emotion == emotion_label])[1]\n",
    "y, sr = librosa.load(path)\n",
    "\n",
    "create_waveplot(y, sr, title)\n",
    "Audio(path)"
   ]
  },
  {
   "cell_type": "markdown",
   "metadata": {},
   "source": [
    "# 3. Preprocess\n",
    "\n",
    "The following steps will be followed to preprocess the audio: \n",
    "\n",
    "1. Get an array of samples\n",
    "2. Trim the silence  \n",
    "3. Padding for equal length"
   ]
  },
  {
   "cell_type": "code",
   "execution_count": 48,
   "metadata": {
    "execution": {
     "iopub.execute_input": "2023-07-01T03:01:37.090944Z",
     "iopub.status.busy": "2023-07-01T03:01:37.0901Z",
     "iopub.status.idle": "2023-07-01T03:01:37.116461Z",
     "shell.execute_reply": "2023-07-01T03:01:37.115428Z",
     "shell.execute_reply.started": "2023-07-01T03:01:37.090903Z"
    }
   },
   "outputs": [],
   "source": [
    "from pydub import AudioSegment, effects"
   ]
  },
  {
   "cell_type": "code",
   "execution_count": 49,
   "metadata": {
    "execution": {
     "iopub.execute_input": "2023-07-01T03:01:37.118706Z",
     "iopub.status.busy": "2023-07-01T03:01:37.118088Z",
     "iopub.status.idle": "2023-07-01T03:01:37.127269Z",
     "shell.execute_reply": "2023-07-01T03:01:37.125154Z",
     "shell.execute_reply.started": "2023-07-01T03:01:37.118664Z"
    }
   },
   "outputs": [],
   "source": [
    "def preprocess_audio(path):\n",
    "    _, sr = librosa.load(path)\n",
    "    raw_audio = AudioSegment.from_file(path)\n",
    "    \n",
    "    samples = np.array(raw_audio.get_array_of_samples(), dtype='float32')\n",
    "    trimmed, _ = librosa.effects.trim(samples, top_db=25)\n",
    "    padded = np.pad(trimmed, (0, 180000-len(trimmed)), 'constant')\n",
    "    return padded, sr"
   ]
  },
  {
   "cell_type": "code",
   "execution_count": 50,
   "metadata": {
    "execution": {
     "iopub.execute_input": "2023-07-01T03:01:37.130132Z",
     "iopub.status.busy": "2023-07-01T03:01:37.129335Z",
     "iopub.status.idle": "2023-07-01T03:01:37.138314Z",
     "shell.execute_reply": "2023-07-01T03:01:37.137501Z",
     "shell.execute_reply.started": "2023-07-01T03:01:37.130056Z"
    }
   },
   "outputs": [],
   "source": [
    "emotion_dic = {\n",
    "    'neutral' : 0,\n",
    "    'happy'   : 1,\n",
    "    'sad'     : 2, \n",
    "    'angry'   : 3, \n",
    "    'fear'    : 4, \n",
    "    'disgust' : 5\n",
    "}\n",
    "\n",
    "def encode(label):\n",
    "    return emotion_dic.get(label)"
   ]
  },
  {
   "cell_type": "markdown",
   "metadata": {},
   "source": [
    "# 4. Extract features\n",
    "\n",
    "We will only extract these features: \n",
    "\n",
    "1. Mel-Frequency Cepstral Coefficients: captures the shape of the spectral envelope of a signal\n",
    "2. Zero Crossing Rate: captures the number of times a signal changes sign per second\n",
    "3. Root Mean Square Energy: captures the root mean square amplitude of the audio signal"
   ]
  },
  {
   "cell_type": "code",
   "execution_count": 51,
   "metadata": {
    "execution": {
     "iopub.execute_input": "2023-07-01T03:01:37.140656Z",
     "iopub.status.busy": "2023-07-01T03:01:37.139876Z"
    }
   },
   "outputs": [
    {
     "name": "stdout",
     "output_type": "stream",
     "text": [
      "Failed for path: /Users/arushtripathi/Downloads/sentiment-predictor-for-stress-detection-main/Audio_Speech_Actors_01-24/Actor_20/03-01-06-01-01-02-20.wav\n"
     ]
    }
   ],
   "source": [
    "zcr_list = []\n",
    "rms_list = []\n",
    "mfccs_list = []\n",
    "emotion_list = []\n",
    "\n",
    "FRAME_LENGTH = 2048\n",
    "HOP_LENGTH = 512\n",
    "\n",
    "for row in df.itertuples(index=False):\n",
    "    try: \n",
    "        y, sr = preprocess_audio(row.path)\n",
    "\n",
    "        zcr = librosa.feature.zero_crossing_rate(y, frame_length=FRAME_LENGTH, hop_length=HOP_LENGTH)\n",
    "        rms = librosa.feature.rms(y=y, frame_length=FRAME_LENGTH, hop_length=HOP_LENGTH)\n",
    "        mfccs = librosa.feature.mfcc(y=y, sr=sr, n_mfcc=13, hop_length=HOP_LENGTH)\n",
    "\n",
    "        zcr_list.append(zcr)\n",
    "        rms_list.append(rms)\n",
    "        mfccs_list.append(mfccs)\n",
    "\n",
    "        emotion_list.append(encode(row.emotion))\n",
    "    except:\n",
    "        print(f\"Failed for path: {row.path}\")"
   ]
  },
  {
   "cell_type": "code",
   "execution_count": 52,
   "metadata": {},
   "outputs": [],
   "source": [
    "X = np.concatenate((\n",
    "    np.swapaxes(zcr_list, 1, 2), \n",
    "    np.swapaxes(rms_list, 1, 2), \n",
    "    np.swapaxes(mfccs_list, 1, 2)), \n",
    "    axis=2\n",
    ")\n",
    "X = X.astype('float32')\n",
    "\n",
    "y = np.asarray(emotion_list)\n",
    "y = np.expand_dims(y, axis=1).astype('int8')"
   ]
  },
  {
   "cell_type": "code",
   "execution_count": 54,
   "metadata": {},
   "outputs": [
    {
     "data": {
      "text/plain": [
       "(3142, 352, 15)"
      ]
     },
     "execution_count": 54,
     "metadata": {},
     "output_type": "execute_result"
    }
   ],
   "source": [
    "X.shape"
   ]
  },
  {
   "cell_type": "code",
   "execution_count": 55,
   "metadata": {},
   "outputs": [
    {
     "data": {
      "text/plain": [
       "(3142, 1)"
      ]
     },
     "execution_count": 55,
     "metadata": {},
     "output_type": "execute_result"
    }
   ],
   "source": [
    "y.shape"
   ]
  },
  {
   "cell_type": "markdown",
   "metadata": {},
   "source": [
    "# 5. Build a LSTM\n",
    "\n",
    "Before building the model, we will have to setup the data. LSTM are great for sequences.  "
   ]
  },
  {
   "cell_type": "code",
   "execution_count": 66,
   "metadata": {},
   "outputs": [
    {
     "name": "stdout",
     "output_type": "stream",
     "text": [
      "Model: \"sequential_4\"\n",
      "_________________________________________________________________\n",
      " Layer (type)                Output Shape              Param #   \n",
      "=================================================================\n",
      " lstm_4 (LSTM)               (None, 123)               68388     \n",
      "                                                                 \n",
      " dense_12 (Dense)            (None, 64)                7936      \n",
      "                                                                 \n",
      " dropout_8 (Dropout)         (None, 64)                0         \n",
      "                                                                 \n",
      " dense_13 (Dense)            (None, 32)                2080      \n",
      "                                                                 \n",
      " dropout_9 (Dropout)         (None, 32)                0         \n",
      "                                                                 \n",
      " dense_14 (Dense)            (None, 7)                 231       \n",
      "                                                                 \n",
      "=================================================================\n",
      "Total params: 78635 (307.17 KB)\n",
      "Trainable params: 78635 (307.17 KB)\n",
      "Non-trainable params: 0 (0.00 Byte)\n",
      "_________________________________________________________________\n",
      "Epoch 1/200\n",
      "69/69 [==============================] - 10s 132ms/step - loss: 1.8329 - accuracy: 0.1896 - val_loss: 1.7272 - val_accuracy: 0.1909\n",
      "Epoch 2/200\n",
      "69/69 [==============================] - 9s 133ms/step - loss: 1.6600 - accuracy: 0.2769 - val_loss: 1.6197 - val_accuracy: 0.2927\n",
      "Epoch 3/200\n",
      "69/69 [==============================] - 10s 151ms/step - loss: 1.5767 - accuracy: 0.3156 - val_loss: 1.5173 - val_accuracy: 0.3775\n",
      "Epoch 4/200\n",
      "69/69 [==============================] - 10s 148ms/step - loss: 1.4645 - accuracy: 0.3392 - val_loss: 1.4107 - val_accuracy: 0.3945\n",
      "Epoch 5/200\n",
      "69/69 [==============================] - 9s 135ms/step - loss: 1.4128 - accuracy: 0.3633 - val_loss: 1.3241 - val_accuracy: 0.4486\n",
      "Epoch 6/200\n",
      "69/69 [==============================] - 10s 141ms/step - loss: 1.3518 - accuracy: 0.4084 - val_loss: 1.3510 - val_accuracy: 0.4274\n",
      "Epoch 7/200\n",
      "69/69 [==============================] - 9s 131ms/step - loss: 1.2933 - accuracy: 0.4256 - val_loss: 1.2063 - val_accuracy: 0.5207\n",
      "Epoch 8/200\n",
      "69/69 [==============================] - 9s 130ms/step - loss: 1.2185 - accuracy: 0.4761 - val_loss: 1.1640 - val_accuracy: 0.5557\n",
      "Epoch 9/200\n",
      "69/69 [==============================] - 9s 130ms/step - loss: 1.2144 - accuracy: 0.4820 - val_loss: 1.1809 - val_accuracy: 0.5599\n",
      "Epoch 10/200\n",
      "69/69 [==============================] - 9s 133ms/step - loss: 1.1396 - accuracy: 0.5043 - val_loss: 1.0740 - val_accuracy: 0.5599\n",
      "Epoch 11/200\n",
      "69/69 [==============================] - 10s 142ms/step - loss: 1.0873 - accuracy: 0.5357 - val_loss: 1.0960 - val_accuracy: 0.5801\n",
      "Epoch 12/200\n",
      "69/69 [==============================] - 9s 134ms/step - loss: 1.1005 - accuracy: 0.5221 - val_loss: 1.0618 - val_accuracy: 0.5684\n",
      "Epoch 13/200\n",
      "69/69 [==============================] - 9s 135ms/step - loss: 1.0314 - accuracy: 0.5757 - val_loss: 1.0843 - val_accuracy: 0.6076\n",
      "Epoch 14/200\n",
      "69/69 [==============================] - 9s 134ms/step - loss: 1.0501 - accuracy: 0.5607 - val_loss: 1.0199 - val_accuracy: 0.6182\n",
      "Epoch 15/200\n",
      "69/69 [==============================] - 9s 134ms/step - loss: 1.0123 - accuracy: 0.5603 - val_loss: 0.9787 - val_accuracy: 0.6416\n",
      "Epoch 16/200\n",
      "69/69 [==============================] - 10s 140ms/step - loss: 0.9795 - accuracy: 0.5994 - val_loss: 0.8925 - val_accuracy: 0.6903\n",
      "Epoch 17/200\n",
      "69/69 [==============================] - 10s 139ms/step - loss: 0.9431 - accuracy: 0.6153 - val_loss: 0.8716 - val_accuracy: 0.6872\n",
      "Epoch 18/200\n",
      "69/69 [==============================] - 9s 136ms/step - loss: 0.8987 - accuracy: 0.6371 - val_loss: 0.8962 - val_accuracy: 0.6310\n",
      "Epoch 19/200\n",
      "69/69 [==============================] - 9s 135ms/step - loss: 0.9220 - accuracy: 0.6421 - val_loss: 0.8639 - val_accuracy: 0.6660\n",
      "Epoch 20/200\n",
      "69/69 [==============================] - 9s 133ms/step - loss: 0.8672 - accuracy: 0.6453 - val_loss: 0.8645 - val_accuracy: 0.6511\n",
      "Epoch 21/200\n",
      "69/69 [==============================] - 9s 135ms/step - loss: 0.8835 - accuracy: 0.6535 - val_loss: 0.8357 - val_accuracy: 0.6776\n",
      "Epoch 22/200\n",
      "69/69 [==============================] - 9s 133ms/step - loss: 0.8692 - accuracy: 0.6676 - val_loss: 0.8025 - val_accuracy: 0.6957\n",
      "Epoch 23/200\n",
      "69/69 [==============================] - 9s 135ms/step - loss: 0.8795 - accuracy: 0.6585 - val_loss: 0.7772 - val_accuracy: 0.7116\n",
      "Epoch 24/200\n",
      "69/69 [==============================] - 10s 141ms/step - loss: 0.8206 - accuracy: 0.6880 - val_loss: 0.7853 - val_accuracy: 0.6967\n",
      "Epoch 25/200\n",
      "69/69 [==============================] - 9s 137ms/step - loss: 0.8426 - accuracy: 0.6753 - val_loss: 0.7784 - val_accuracy: 0.6882\n",
      "Epoch 26/200\n",
      "69/69 [==============================] - 9s 135ms/step - loss: 0.8578 - accuracy: 0.6598 - val_loss: 0.8721 - val_accuracy: 0.6596\n",
      "Epoch 27/200\n",
      "69/69 [==============================] - 9s 136ms/step - loss: 0.7815 - accuracy: 0.7112 - val_loss: 0.7384 - val_accuracy: 0.7391\n",
      "Epoch 28/200\n",
      "69/69 [==============================] - 10s 139ms/step - loss: 0.7812 - accuracy: 0.7085 - val_loss: 0.7652 - val_accuracy: 0.7338\n",
      "Epoch 29/200\n",
      "69/69 [==============================] - 9s 134ms/step - loss: 0.7605 - accuracy: 0.7108 - val_loss: 0.6810 - val_accuracy: 0.7646\n",
      "Epoch 30/200\n",
      "69/69 [==============================] - 10s 139ms/step - loss: 0.7375 - accuracy: 0.7121 - val_loss: 0.7650 - val_accuracy: 0.7381\n",
      "Epoch 31/200\n",
      "69/69 [==============================] - 9s 136ms/step - loss: 0.7253 - accuracy: 0.7249 - val_loss: 0.7168 - val_accuracy: 0.7455\n",
      "Epoch 32/200\n",
      "69/69 [==============================] - 9s 134ms/step - loss: 0.7109 - accuracy: 0.7376 - val_loss: 0.8916 - val_accuracy: 0.6617\n",
      "Epoch 33/200\n",
      "69/69 [==============================] - 9s 134ms/step - loss: 0.7288 - accuracy: 0.7276 - val_loss: 0.6778 - val_accuracy: 0.7699\n",
      "Epoch 34/200\n",
      "69/69 [==============================] - 9s 132ms/step - loss: 0.6621 - accuracy: 0.7526 - val_loss: 0.6987 - val_accuracy: 0.7561\n",
      "Epoch 35/200\n",
      "69/69 [==============================] - 9s 135ms/step - loss: 0.6620 - accuracy: 0.7672 - val_loss: 0.6923 - val_accuracy: 0.7466\n",
      "Epoch 36/200\n",
      "69/69 [==============================] - 10s 149ms/step - loss: 0.6855 - accuracy: 0.7485 - val_loss: 0.6851 - val_accuracy: 0.7455\n",
      "Epoch 37/200\n",
      "69/69 [==============================] - 9s 137ms/step - loss: 0.6710 - accuracy: 0.7767 - val_loss: 0.6881 - val_accuracy: 0.7678\n",
      "Epoch 38/200\n",
      "69/69 [==============================] - 9s 135ms/step - loss: 0.6804 - accuracy: 0.7563 - val_loss: 0.6333 - val_accuracy: 0.7858\n",
      "Epoch 39/200\n",
      "69/69 [==============================] - 9s 135ms/step - loss: 0.6338 - accuracy: 0.7767 - val_loss: 0.7016 - val_accuracy: 0.7561\n",
      "Epoch 40/200\n",
      "69/69 [==============================] - 10s 146ms/step - loss: 0.6373 - accuracy: 0.7690 - val_loss: 0.7015 - val_accuracy: 0.7423\n",
      "Epoch 41/200\n",
      "69/69 [==============================] - 10s 139ms/step - loss: 0.6746 - accuracy: 0.7444 - val_loss: 0.7497 - val_accuracy: 0.7328\n",
      "Epoch 42/200\n",
      "69/69 [==============================] - 9s 136ms/step - loss: 0.6649 - accuracy: 0.7704 - val_loss: 0.6310 - val_accuracy: 0.7741\n",
      "Epoch 43/200\n",
      "69/69 [==============================] - 10s 142ms/step - loss: 0.6273 - accuracy: 0.7781 - val_loss: 0.7130 - val_accuracy: 0.7434\n",
      "Epoch 44/200\n",
      "69/69 [==============================] - 9s 136ms/step - loss: 0.6215 - accuracy: 0.7813 - val_loss: 0.6824 - val_accuracy: 0.7370\n",
      "Epoch 45/200\n",
      "69/69 [==============================] - 9s 134ms/step - loss: 0.6356 - accuracy: 0.7658 - val_loss: 0.6236 - val_accuracy: 0.7762\n",
      "Epoch 46/200\n",
      "69/69 [==============================] - 9s 135ms/step - loss: 0.6350 - accuracy: 0.7867 - val_loss: 0.6096 - val_accuracy: 0.7922\n",
      "Epoch 47/200\n",
      "69/69 [==============================] - 9s 135ms/step - loss: 0.6245 - accuracy: 0.7826 - val_loss: 0.6183 - val_accuracy: 0.7837\n",
      "Epoch 48/200\n",
      "69/69 [==============================] - 9s 136ms/step - loss: 0.5952 - accuracy: 0.7935 - val_loss: 0.6663 - val_accuracy: 0.7529\n",
      "Epoch 49/200\n"
     ]
    },
    {
     "name": "stdout",
     "output_type": "stream",
     "text": [
      "69/69 [==============================] - 10s 141ms/step - loss: 0.5995 - accuracy: 0.7808 - val_loss: 0.6478 - val_accuracy: 0.7656\n",
      "Epoch 50/200\n",
      "69/69 [==============================] - 9s 132ms/step - loss: 0.6085 - accuracy: 0.7890 - val_loss: 0.7666 - val_accuracy: 0.7253\n",
      "Epoch 51/200\n",
      "69/69 [==============================] - 9s 132ms/step - loss: 0.6419 - accuracy: 0.7744 - val_loss: 0.6048 - val_accuracy: 0.7900\n",
      "Epoch 52/200\n",
      "69/69 [==============================] - 9s 135ms/step - loss: 0.6063 - accuracy: 0.7808 - val_loss: 0.6114 - val_accuracy: 0.7678\n",
      "Epoch 53/200\n",
      "69/69 [==============================] - 9s 135ms/step - loss: 0.5809 - accuracy: 0.8004 - val_loss: 0.6759 - val_accuracy: 0.7699\n",
      "Epoch 54/200\n",
      "69/69 [==============================] - 9s 135ms/step - loss: 0.5661 - accuracy: 0.8063 - val_loss: 0.5700 - val_accuracy: 0.7964\n",
      "Epoch 55/200\n",
      "69/69 [==============================] - 9s 135ms/step - loss: 0.6019 - accuracy: 0.7831 - val_loss: 0.5912 - val_accuracy: 0.7741\n",
      "Epoch 56/200\n",
      "69/69 [==============================] - 10s 142ms/step - loss: 0.6362 - accuracy: 0.7676 - val_loss: 0.6086 - val_accuracy: 0.7805\n",
      "Epoch 57/200\n",
      "69/69 [==============================] - 9s 133ms/step - loss: 0.5680 - accuracy: 0.7954 - val_loss: 0.6567 - val_accuracy: 0.7741\n",
      "Epoch 58/200\n",
      "69/69 [==============================] - 9s 135ms/step - loss: 0.5653 - accuracy: 0.8013 - val_loss: 0.5757 - val_accuracy: 0.7975\n",
      "Epoch 59/200\n",
      "69/69 [==============================] - 9s 133ms/step - loss: 0.5305 - accuracy: 0.8108 - val_loss: 0.5517 - val_accuracy: 0.8049\n",
      "Epoch 60/200\n",
      "69/69 [==============================] - 9s 135ms/step - loss: 0.5717 - accuracy: 0.7894 - val_loss: 0.6117 - val_accuracy: 0.7964\n",
      "Epoch 61/200\n",
      "69/69 [==============================] - 9s 132ms/step - loss: 0.5277 - accuracy: 0.8167 - val_loss: 0.5249 - val_accuracy: 0.8112\n",
      "Epoch 62/200\n",
      "69/69 [==============================] - 10s 140ms/step - loss: 0.5214 - accuracy: 0.8108 - val_loss: 0.5683 - val_accuracy: 0.7985\n",
      "Epoch 63/200\n",
      "69/69 [==============================] - 9s 134ms/step - loss: 0.4815 - accuracy: 0.8263 - val_loss: 0.5438 - val_accuracy: 0.7985\n",
      "Epoch 64/200\n",
      "69/69 [==============================] - 9s 133ms/step - loss: 0.5118 - accuracy: 0.8145 - val_loss: 0.5513 - val_accuracy: 0.8017\n",
      "Epoch 65/200\n",
      "69/69 [==============================] - 9s 136ms/step - loss: 0.4733 - accuracy: 0.8258 - val_loss: 0.5549 - val_accuracy: 0.7953\n",
      "Epoch 66/200\n",
      "69/69 [==============================] - 9s 134ms/step - loss: 0.4612 - accuracy: 0.8340 - val_loss: 0.5050 - val_accuracy: 0.8059\n",
      "Epoch 67/200\n",
      "69/69 [==============================] - 9s 134ms/step - loss: 0.4633 - accuracy: 0.8349 - val_loss: 0.5231 - val_accuracy: 0.7964\n",
      "Epoch 68/200\n",
      "69/69 [==============================] - 10s 139ms/step - loss: 0.5316 - accuracy: 0.8035 - val_loss: 0.5584 - val_accuracy: 0.7858\n",
      "Epoch 69/200\n",
      "69/69 [==============================] - 9s 135ms/step - loss: 0.4710 - accuracy: 0.8226 - val_loss: 0.5229 - val_accuracy: 0.8134\n",
      "Epoch 70/200\n",
      "69/69 [==============================] - 9s 134ms/step - loss: 0.4793 - accuracy: 0.8226 - val_loss: 0.5602 - val_accuracy: 0.8091\n",
      "Epoch 71/200\n",
      "69/69 [==============================] - 9s 134ms/step - loss: 0.5036 - accuracy: 0.8186 - val_loss: 0.5352 - val_accuracy: 0.8017\n",
      "Epoch 72/200\n",
      "69/69 [==============================] - 9s 135ms/step - loss: 0.4606 - accuracy: 0.8331 - val_loss: 0.5090 - val_accuracy: 0.8059\n",
      "Epoch 73/200\n",
      "69/69 [==============================] - 9s 131ms/step - loss: 0.4272 - accuracy: 0.8386 - val_loss: 0.4979 - val_accuracy: 0.8165\n",
      "Epoch 74/200\n",
      "69/69 [==============================] - 9s 135ms/step - loss: 0.4454 - accuracy: 0.8436 - val_loss: 0.4939 - val_accuracy: 0.8070\n",
      "Epoch 75/200\n",
      "69/69 [==============================] - 9s 136ms/step - loss: 0.4265 - accuracy: 0.8449 - val_loss: 0.5262 - val_accuracy: 0.7943\n",
      "Epoch 76/200\n",
      "69/69 [==============================] - 9s 135ms/step - loss: 0.4317 - accuracy: 0.8363 - val_loss: 0.5243 - val_accuracy: 0.8134\n",
      "Epoch 77/200\n",
      "69/69 [==============================] - 9s 132ms/step - loss: 0.4981 - accuracy: 0.8181 - val_loss: 0.5933 - val_accuracy: 0.7858\n",
      "Epoch 78/200\n",
      "69/69 [==============================] - 9s 135ms/step - loss: 0.5451 - accuracy: 0.8054 - val_loss: 0.5598 - val_accuracy: 0.8081\n",
      "Epoch 79/200\n",
      "69/69 [==============================] - 9s 134ms/step - loss: 0.4917 - accuracy: 0.8272 - val_loss: 0.4991 - val_accuracy: 0.8091\n",
      "Epoch 80/200\n",
      "69/69 [==============================] - 9s 135ms/step - loss: 0.4556 - accuracy: 0.8377 - val_loss: 0.5189 - val_accuracy: 0.8187\n",
      "Epoch 81/200\n",
      "69/69 [==============================] - 10s 141ms/step - loss: 0.4719 - accuracy: 0.8276 - val_loss: 0.5943 - val_accuracy: 0.7922\n",
      "Epoch 82/200\n",
      "69/69 [==============================] - 9s 135ms/step - loss: 0.4691 - accuracy: 0.8267 - val_loss: 0.5191 - val_accuracy: 0.8028\n",
      "Epoch 83/200\n",
      "69/69 [==============================] - 9s 136ms/step - loss: 0.4695 - accuracy: 0.8217 - val_loss: 0.6433 - val_accuracy: 0.7709\n",
      "Epoch 84/200\n",
      "69/69 [==============================] - 9s 134ms/step - loss: 0.4645 - accuracy: 0.8281 - val_loss: 0.5415 - val_accuracy: 0.8102\n",
      "Epoch 85/200\n",
      "69/69 [==============================] - 9s 135ms/step - loss: 0.5008 - accuracy: 0.8186 - val_loss: 0.5533 - val_accuracy: 0.8006\n",
      "Epoch 86/200\n",
      "69/69 [==============================] - 9s 135ms/step - loss: 0.4697 - accuracy: 0.8249 - val_loss: 0.5275 - val_accuracy: 0.8218\n",
      "Epoch 87/200\n",
      "69/69 [==============================] - 9s 134ms/step - loss: 0.4552 - accuracy: 0.8336 - val_loss: 0.4863 - val_accuracy: 0.8081\n",
      "Epoch 88/200\n",
      "69/69 [==============================] - 9s 137ms/step - loss: 0.4408 - accuracy: 0.8386 - val_loss: 0.5032 - val_accuracy: 0.8197\n",
      "Epoch 89/200\n",
      "69/69 [==============================] - 9s 135ms/step - loss: 0.4201 - accuracy: 0.8413 - val_loss: 0.5241 - val_accuracy: 0.8091\n",
      "Epoch 90/200\n",
      "69/69 [==============================] - 10s 139ms/step - loss: 0.4582 - accuracy: 0.8331 - val_loss: 0.4696 - val_accuracy: 0.8123\n",
      "Epoch 91/200\n",
      "69/69 [==============================] - 10s 142ms/step - loss: 0.4076 - accuracy: 0.8481 - val_loss: 0.4533 - val_accuracy: 0.8335\n",
      "Epoch 92/200\n",
      "69/69 [==============================] - 9s 135ms/step - loss: 0.4070 - accuracy: 0.8467 - val_loss: 0.4937 - val_accuracy: 0.8176\n",
      "Epoch 93/200\n",
      "69/69 [==============================] - 9s 136ms/step - loss: 0.4818 - accuracy: 0.8226 - val_loss: 0.5764 - val_accuracy: 0.7996\n",
      "Epoch 94/200\n",
      "69/69 [==============================] - 10s 145ms/step - loss: 0.4799 - accuracy: 0.8231 - val_loss: 0.5205 - val_accuracy: 0.7964\n",
      "Epoch 95/200\n",
      "69/69 [==============================] - 9s 138ms/step - loss: 0.4553 - accuracy: 0.8286 - val_loss: 0.5066 - val_accuracy: 0.8271\n",
      "Epoch 96/200\n",
      "69/69 [==============================] - 9s 136ms/step - loss: 0.4521 - accuracy: 0.8308 - val_loss: 0.5102 - val_accuracy: 0.7996\n",
      "Epoch 97/200\n",
      "69/69 [==============================] - 9s 133ms/step - loss: 0.4504 - accuracy: 0.8249 - val_loss: 0.4720 - val_accuracy: 0.8187\n",
      "Epoch 98/200\n",
      "69/69 [==============================] - 9s 135ms/step - loss: 0.4083 - accuracy: 0.8467 - val_loss: 0.4943 - val_accuracy: 0.8293\n",
      "Epoch 99/200\n",
      "69/69 [==============================] - 9s 133ms/step - loss: 0.4266 - accuracy: 0.8372 - val_loss: 0.4481 - val_accuracy: 0.8367\n",
      "Epoch 100/200\n",
      "69/69 [==============================] - 9s 133ms/step - loss: 0.4225 - accuracy: 0.8381 - val_loss: 0.4920 - val_accuracy: 0.8144\n",
      "Epoch 101/200\n",
      "69/69 [==============================] - 10s 140ms/step - loss: 0.4072 - accuracy: 0.8399 - val_loss: 0.5583 - val_accuracy: 0.8229\n",
      "Epoch 102/200\n",
      "69/69 [==============================] - 9s 134ms/step - loss: 0.4319 - accuracy: 0.8358 - val_loss: 0.5502 - val_accuracy: 0.8081\n",
      "Epoch 103/200\n",
      "69/69 [==============================] - 9s 135ms/step - loss: 0.4102 - accuracy: 0.8522 - val_loss: 0.5151 - val_accuracy: 0.8187\n",
      "Epoch 104/200\n",
      "69/69 [==============================] - 9s 132ms/step - loss: 0.4336 - accuracy: 0.8377 - val_loss: 0.5287 - val_accuracy: 0.7996\n",
      "Epoch 105/200\n",
      "69/69 [==============================] - 9s 134ms/step - loss: 0.4193 - accuracy: 0.8372 - val_loss: 0.5299 - val_accuracy: 0.8123\n"
     ]
    },
    {
     "name": "stdout",
     "output_type": "stream",
     "text": [
      "Epoch 106/200\n",
      "69/69 [==============================] - 9s 132ms/step - loss: 0.4363 - accuracy: 0.8377 - val_loss: 0.4930 - val_accuracy: 0.8314\n",
      "Epoch 107/200\n",
      "69/69 [==============================] - 10s 141ms/step - loss: 0.4164 - accuracy: 0.8454 - val_loss: 0.5534 - val_accuracy: 0.7996\n",
      "Epoch 108/200\n",
      "69/69 [==============================] - 9s 134ms/step - loss: 0.4170 - accuracy: 0.8313 - val_loss: 0.4937 - val_accuracy: 0.8218\n",
      "Epoch 109/200\n",
      "69/69 [==============================] - 9s 135ms/step - loss: 0.4235 - accuracy: 0.8436 - val_loss: 0.5166 - val_accuracy: 0.8165\n",
      "Epoch 110/200\n",
      "69/69 [==============================] - 9s 137ms/step - loss: 0.3832 - accuracy: 0.8495 - val_loss: 0.6270 - val_accuracy: 0.7964\n",
      "Epoch 111/200\n",
      "69/69 [==============================] - 9s 135ms/step - loss: 0.4632 - accuracy: 0.8195 - val_loss: 0.4974 - val_accuracy: 0.8271\n",
      "Epoch 112/200\n",
      "69/69 [==============================] - 9s 133ms/step - loss: 0.4318 - accuracy: 0.8436 - val_loss: 0.5775 - val_accuracy: 0.8070\n",
      "Epoch 113/200\n",
      "69/69 [==============================] - 10s 139ms/step - loss: 0.4377 - accuracy: 0.8436 - val_loss: 0.4625 - val_accuracy: 0.8282\n",
      "Epoch 114/200\n",
      "69/69 [==============================] - 9s 133ms/step - loss: 0.4149 - accuracy: 0.8513 - val_loss: 0.5137 - val_accuracy: 0.7975\n",
      "Epoch 115/200\n",
      "69/69 [==============================] - 9s 138ms/step - loss: 0.4065 - accuracy: 0.8431 - val_loss: 0.6633 - val_accuracy: 0.7932\n",
      "Epoch 116/200\n",
      "69/69 [==============================] - 9s 132ms/step - loss: 0.4409 - accuracy: 0.8445 - val_loss: 0.5333 - val_accuracy: 0.8240\n",
      "Epoch 117/200\n",
      "69/69 [==============================] - 9s 137ms/step - loss: 0.3853 - accuracy: 0.8608 - val_loss: 0.5704 - val_accuracy: 0.8102\n",
      "Epoch 118/200\n",
      "69/69 [==============================] - 9s 132ms/step - loss: 0.4914 - accuracy: 0.8222 - val_loss: 0.5473 - val_accuracy: 0.8112\n",
      "Epoch 119/200\n",
      "69/69 [==============================] - 9s 136ms/step - loss: 0.4317 - accuracy: 0.8417 - val_loss: 0.5227 - val_accuracy: 0.8261\n",
      "Epoch 120/200\n",
      "69/69 [==============================] - 10s 140ms/step - loss: 0.4241 - accuracy: 0.8399 - val_loss: 0.5824 - val_accuracy: 0.8038\n",
      "Epoch 121/200\n",
      "69/69 [==============================] - 9s 136ms/step - loss: 0.4046 - accuracy: 0.8427 - val_loss: 0.5454 - val_accuracy: 0.8208\n",
      "Epoch 122/200\n",
      "69/69 [==============================] - 9s 135ms/step - loss: 0.4209 - accuracy: 0.8399 - val_loss: 0.5389 - val_accuracy: 0.8218\n",
      "Epoch 123/200\n",
      "69/69 [==============================] - 10s 153ms/step - loss: 0.4395 - accuracy: 0.8286 - val_loss: 0.5017 - val_accuracy: 0.8346\n",
      "Epoch 124/200\n",
      "69/69 [==============================] - 10s 138ms/step - loss: 0.4413 - accuracy: 0.8408 - val_loss: 0.5444 - val_accuracy: 0.8176\n",
      "Epoch 125/200\n",
      "69/69 [==============================] - 9s 137ms/step - loss: 0.3988 - accuracy: 0.8436 - val_loss: 0.4941 - val_accuracy: 0.8462\n",
      "Epoch 126/200\n",
      "69/69 [==============================] - 11s 160ms/step - loss: 0.3805 - accuracy: 0.8536 - val_loss: 0.4923 - val_accuracy: 0.8271\n",
      "Epoch 127/200\n",
      "69/69 [==============================] - 9s 135ms/step - loss: 0.4085 - accuracy: 0.8367 - val_loss: 0.5166 - val_accuracy: 0.8240\n",
      "Epoch 128/200\n",
      "69/69 [==============================] - 9s 134ms/step - loss: 0.4015 - accuracy: 0.8513 - val_loss: 0.5005 - val_accuracy: 0.8303\n",
      "Epoch 129/200\n",
      "69/69 [==============================] - 9s 134ms/step - loss: 0.4716 - accuracy: 0.8245 - val_loss: 0.5440 - val_accuracy: 0.8049\n",
      "Epoch 130/200\n",
      "69/69 [==============================] - 9s 133ms/step - loss: 0.4707 - accuracy: 0.8231 - val_loss: 0.4844 - val_accuracy: 0.8176\n",
      "Epoch 131/200\n",
      "69/69 [==============================] - 9s 133ms/step - loss: 0.3756 - accuracy: 0.8549 - val_loss: 0.5107 - val_accuracy: 0.8314\n",
      "Epoch 132/200\n",
      "69/69 [==============================] - 10s 138ms/step - loss: 0.4334 - accuracy: 0.8386 - val_loss: 0.5488 - val_accuracy: 0.8197\n",
      "Epoch 133/200\n",
      "69/69 [==============================] - 9s 134ms/step - loss: 0.3811 - accuracy: 0.8513 - val_loss: 0.5080 - val_accuracy: 0.8314\n",
      "Epoch 134/200\n",
      "69/69 [==============================] - 10s 138ms/step - loss: 0.3663 - accuracy: 0.8568 - val_loss: 0.5341 - val_accuracy: 0.8282\n",
      "Epoch 135/200\n",
      "69/69 [==============================] - 9s 135ms/step - loss: 0.3802 - accuracy: 0.8531 - val_loss: 0.4608 - val_accuracy: 0.8335\n",
      "Epoch 136/200\n",
      "69/69 [==============================] - 9s 136ms/step - loss: 0.3643 - accuracy: 0.8549 - val_loss: 0.5173 - val_accuracy: 0.8240\n",
      "Epoch 137/200\n",
      "69/69 [==============================] - 9s 135ms/step - loss: 0.3988 - accuracy: 0.8417 - val_loss: 0.5101 - val_accuracy: 0.8229\n",
      "Epoch 138/200\n",
      "69/69 [==============================] - 9s 135ms/step - loss: 0.3667 - accuracy: 0.8554 - val_loss: 0.4932 - val_accuracy: 0.8314\n",
      "Epoch 139/200\n",
      "69/69 [==============================] - 9s 138ms/step - loss: 0.4296 - accuracy: 0.8358 - val_loss: 0.4836 - val_accuracy: 0.8208\n",
      "Epoch 140/200\n",
      "69/69 [==============================] - 9s 136ms/step - loss: 0.4098 - accuracy: 0.8422 - val_loss: 0.4761 - val_accuracy: 0.8409\n",
      "Epoch 141/200\n",
      "69/69 [==============================] - 9s 132ms/step - loss: 0.4167 - accuracy: 0.8313 - val_loss: 0.6475 - val_accuracy: 0.7869\n",
      "Epoch 142/200\n",
      "69/69 [==============================] - 9s 134ms/step - loss: 0.3814 - accuracy: 0.8499 - val_loss: 0.4523 - val_accuracy: 0.8420\n",
      "Epoch 143/200\n",
      "69/69 [==============================] - 9s 133ms/step - loss: 0.3703 - accuracy: 0.8554 - val_loss: 0.4726 - val_accuracy: 0.8388\n",
      "Epoch 144/200\n",
      "69/69 [==============================] - 10s 139ms/step - loss: 0.3902 - accuracy: 0.8531 - val_loss: 0.4581 - val_accuracy: 0.8367\n",
      "Epoch 145/200\n",
      "69/69 [==============================] - 10s 139ms/step - loss: 0.4369 - accuracy: 0.8349 - val_loss: 0.5574 - val_accuracy: 0.8123\n",
      "Epoch 146/200\n",
      "69/69 [==============================] - 10s 140ms/step - loss: 0.4201 - accuracy: 0.8331 - val_loss: 0.5277 - val_accuracy: 0.8165\n",
      "Epoch 147/200\n",
      "69/69 [==============================] - 9s 136ms/step - loss: 0.4314 - accuracy: 0.8290 - val_loss: 0.5018 - val_accuracy: 0.8282\n",
      "Epoch 148/200\n",
      "69/69 [==============================] - 9s 134ms/step - loss: 0.3784 - accuracy: 0.8572 - val_loss: 0.4837 - val_accuracy: 0.8282\n",
      "Epoch 149/200\n",
      "69/69 [==============================] - 9s 132ms/step - loss: 0.3803 - accuracy: 0.8499 - val_loss: 0.5524 - val_accuracy: 0.8261\n",
      "Epoch 150/200\n",
      "69/69 [==============================] - 9s 133ms/step - loss: 0.3795 - accuracy: 0.8490 - val_loss: 0.4825 - val_accuracy: 0.8261\n",
      "Epoch 151/200\n",
      "69/69 [==============================] - 9s 131ms/step - loss: 0.3585 - accuracy: 0.8658 - val_loss: 0.4906 - val_accuracy: 0.8271\n",
      "Epoch 152/200\n",
      "69/69 [==============================] - 10s 138ms/step - loss: 0.3728 - accuracy: 0.8568 - val_loss: 0.5354 - val_accuracy: 0.8293\n",
      "Epoch 153/200\n",
      "69/69 [==============================] - 9s 130ms/step - loss: 0.3511 - accuracy: 0.8718 - val_loss: 0.4569 - val_accuracy: 0.8431\n",
      "Epoch 154/200\n",
      "69/69 [==============================] - 9s 132ms/step - loss: 0.3830 - accuracy: 0.8522 - val_loss: 0.5435 - val_accuracy: 0.8388\n",
      "Epoch 155/200\n",
      "69/69 [==============================] - 9s 130ms/step - loss: 0.4103 - accuracy: 0.8422 - val_loss: 0.5898 - val_accuracy: 0.8229\n",
      "Epoch 156/200\n",
      "69/69 [==============================] - 9s 132ms/step - loss: 0.3941 - accuracy: 0.8527 - val_loss: 0.4578 - val_accuracy: 0.8324\n",
      "Epoch 157/200\n",
      "69/69 [==============================] - 9s 131ms/step - loss: 0.4073 - accuracy: 0.8422 - val_loss: 0.6582 - val_accuracy: 0.7932\n",
      "Epoch 158/200\n",
      "69/69 [==============================] - 10s 139ms/step - loss: 0.4058 - accuracy: 0.8408 - val_loss: 0.5219 - val_accuracy: 0.8271\n",
      "Epoch 159/200\n",
      "69/69 [==============================] - 9s 133ms/step - loss: 0.3635 - accuracy: 0.8577 - val_loss: 0.4479 - val_accuracy: 0.8399\n",
      "Epoch 160/200\n",
      "69/69 [==============================] - 9s 130ms/step - loss: 0.3541 - accuracy: 0.8663 - val_loss: 0.5320 - val_accuracy: 0.8282\n",
      "Epoch 161/200\n",
      "69/69 [==============================] - 9s 133ms/step - loss: 0.3888 - accuracy: 0.8513 - val_loss: 0.5746 - val_accuracy: 0.8293\n",
      "Epoch 162/200\n"
     ]
    },
    {
     "name": "stdout",
     "output_type": "stream",
     "text": [
      "69/69 [==============================] - 9s 131ms/step - loss: 0.3357 - accuracy: 0.8636 - val_loss: 0.5035 - val_accuracy: 0.8409\n",
      "Epoch 163/200\n",
      "69/69 [==============================] - 9s 132ms/step - loss: 0.3509 - accuracy: 0.8622 - val_loss: 0.5370 - val_accuracy: 0.8271\n",
      "Epoch 164/200\n",
      "69/69 [==============================] - 9s 130ms/step - loss: 0.3607 - accuracy: 0.8658 - val_loss: 0.4795 - val_accuracy: 0.8356\n",
      "Epoch 165/200\n",
      "69/69 [==============================] - 9s 137ms/step - loss: 0.3538 - accuracy: 0.8654 - val_loss: 0.4682 - val_accuracy: 0.8473\n",
      "Epoch 166/200\n",
      "69/69 [==============================] - 9s 129ms/step - loss: 0.3732 - accuracy: 0.8540 - val_loss: 0.5338 - val_accuracy: 0.8346\n",
      "Epoch 167/200\n",
      "69/69 [==============================] - 9s 132ms/step - loss: 0.3950 - accuracy: 0.8549 - val_loss: 0.5500 - val_accuracy: 0.8367\n",
      "Epoch 168/200\n",
      "69/69 [==============================] - 9s 132ms/step - loss: 0.3601 - accuracy: 0.8590 - val_loss: 0.5877 - val_accuracy: 0.8409\n",
      "Epoch 169/200\n",
      "69/69 [==============================] - 9s 132ms/step - loss: 0.3324 - accuracy: 0.8727 - val_loss: 0.5355 - val_accuracy: 0.8378\n",
      "Epoch 170/200\n",
      "69/69 [==============================] - 9s 132ms/step - loss: 0.3781 - accuracy: 0.8536 - val_loss: 0.5640 - val_accuracy: 0.8271\n",
      "Epoch 171/200\n",
      "69/69 [==============================] - 9s 137ms/step - loss: 0.3574 - accuracy: 0.8686 - val_loss: 0.5165 - val_accuracy: 0.8388\n",
      "Epoch 172/200\n",
      "69/69 [==============================] - 9s 132ms/step - loss: 0.3799 - accuracy: 0.8604 - val_loss: 0.5866 - val_accuracy: 0.8123\n",
      "Epoch 173/200\n",
      "69/69 [==============================] - 9s 131ms/step - loss: 0.4100 - accuracy: 0.8417 - val_loss: 0.4904 - val_accuracy: 0.8155\n",
      "Epoch 174/200\n",
      "69/69 [==============================] - 9s 132ms/step - loss: 0.3487 - accuracy: 0.8613 - val_loss: 0.5328 - val_accuracy: 0.8314\n",
      "Epoch 175/200\n",
      "69/69 [==============================] - 9s 132ms/step - loss: 0.3551 - accuracy: 0.8672 - val_loss: 0.5209 - val_accuracy: 0.8187\n",
      "Epoch 176/200\n",
      "69/69 [==============================] - 9s 130ms/step - loss: 0.3316 - accuracy: 0.8695 - val_loss: 0.5224 - val_accuracy: 0.8155\n",
      "Epoch 177/200\n",
      "69/69 [==============================] - 9s 130ms/step - loss: 0.3491 - accuracy: 0.8636 - val_loss: 0.5640 - val_accuracy: 0.8409\n",
      "Epoch 178/200\n",
      "69/69 [==============================] - 9s 136ms/step - loss: 0.4338 - accuracy: 0.8417 - val_loss: 0.5308 - val_accuracy: 0.8335\n",
      "Epoch 179/200\n",
      "69/69 [==============================] - 9s 131ms/step - loss: 0.3534 - accuracy: 0.8640 - val_loss: 0.5228 - val_accuracy: 0.8388\n",
      "Epoch 180/200\n",
      "69/69 [==============================] - 9s 132ms/step - loss: 0.3256 - accuracy: 0.8722 - val_loss: 0.5872 - val_accuracy: 0.8314\n",
      "Epoch 181/200\n",
      "69/69 [==============================] - 9s 132ms/step - loss: 0.3598 - accuracy: 0.8695 - val_loss: 0.5150 - val_accuracy: 0.8441\n",
      "Epoch 182/200\n",
      "69/69 [==============================] - 9s 133ms/step - loss: 0.3163 - accuracy: 0.8713 - val_loss: 0.5358 - val_accuracy: 0.8431\n",
      "Epoch 183/200\n",
      "69/69 [==============================] - 9s 130ms/step - loss: 0.3248 - accuracy: 0.8718 - val_loss: 0.4980 - val_accuracy: 0.8452\n",
      "Epoch 184/200\n",
      "69/69 [==============================] - 9s 134ms/step - loss: 0.3111 - accuracy: 0.8781 - val_loss: 0.4966 - val_accuracy: 0.8367\n",
      "Epoch 185/200\n",
      "69/69 [==============================] - 9s 137ms/step - loss: 0.3381 - accuracy: 0.8645 - val_loss: 0.4907 - val_accuracy: 0.8420\n",
      "Epoch 186/200\n",
      "69/69 [==============================] - 10s 151ms/step - loss: 0.3317 - accuracy: 0.8681 - val_loss: 0.5265 - val_accuracy: 0.8388\n",
      "Epoch 187/200\n",
      "69/69 [==============================] - 9s 131ms/step - loss: 0.3468 - accuracy: 0.8709 - val_loss: 0.4583 - val_accuracy: 0.8494\n",
      "Epoch 188/200\n",
      "69/69 [==============================] - 9s 129ms/step - loss: 0.3339 - accuracy: 0.8727 - val_loss: 0.5500 - val_accuracy: 0.8409\n",
      "Epoch 189/200\n",
      "69/69 [==============================] - 9s 129ms/step - loss: 0.3719 - accuracy: 0.8595 - val_loss: 0.4664 - val_accuracy: 0.8473\n",
      "Epoch 190/200\n",
      "69/69 [==============================] - 9s 130ms/step - loss: 0.3396 - accuracy: 0.8640 - val_loss: 0.5073 - val_accuracy: 0.8293\n",
      "Epoch 191/200\n",
      "69/69 [==============================] - 11s 162ms/step - loss: 0.3301 - accuracy: 0.8677 - val_loss: 0.5688 - val_accuracy: 0.8378\n",
      "Epoch 192/200\n",
      "69/69 [==============================] - 9s 130ms/step - loss: 0.3548 - accuracy: 0.8554 - val_loss: 0.6112 - val_accuracy: 0.8229\n",
      "Epoch 193/200\n",
      "69/69 [==============================] - 9s 131ms/step - loss: 0.3531 - accuracy: 0.8745 - val_loss: 0.5482 - val_accuracy: 0.8240\n",
      "Epoch 194/200\n",
      "69/69 [==============================] - 9s 133ms/step - loss: 0.3951 - accuracy: 0.8481 - val_loss: 0.6310 - val_accuracy: 0.7731\n",
      "Epoch 195/200\n",
      "69/69 [==============================] - 9s 130ms/step - loss: 0.4672 - accuracy: 0.8258 - val_loss: 0.5439 - val_accuracy: 0.8388\n",
      "Epoch 196/200\n",
      "69/69 [==============================] - 9s 132ms/step - loss: 0.3758 - accuracy: 0.8636 - val_loss: 0.4931 - val_accuracy: 0.8314\n",
      "Epoch 197/200\n",
      "69/69 [==============================] - 9s 134ms/step - loss: 0.3860 - accuracy: 0.8499 - val_loss: 0.5508 - val_accuracy: 0.8218\n",
      "Epoch 198/200\n",
      "69/69 [==============================] - 9s 135ms/step - loss: 0.3525 - accuracy: 0.8586 - val_loss: 0.5470 - val_accuracy: 0.8335\n",
      "Epoch 199/200\n",
      "69/69 [==============================] - 9s 130ms/step - loss: 0.3294 - accuracy: 0.8640 - val_loss: 0.5961 - val_accuracy: 0.8314\n",
      "Epoch 200/200\n",
      "69/69 [==============================] - 9s 133ms/step - loss: 0.3576 - accuracy: 0.8622 - val_loss: 0.4981 - val_accuracy: 0.8441\n"
     ]
    }
   ],
   "source": [
    "from sklearn.model_selection import train_test_split\n",
    "from tensorflow.keras.utils import to_categorical\n",
    "import numpy as np\n",
    "from keras.models import Sequential\n",
    "from keras.layers import Dense, LSTM, Dropout\n",
    "\n",
    "# Assuming you have your data X and y ready\n",
    "# X.shape = (3142, 352, 15)\n",
    "# y.shape = (3142, 1)\n",
    "\n",
    "# Reshape X to match the expected input shape of the model\n",
    "X_reshaped = X.reshape(X.shape[0], X.shape[1], X.shape[2])  # (3142, 352, 15)\n",
    "\n",
    "# Splitting the data\n",
    "X_train, X_val, y_train, y_val = train_test_split(X_reshaped, y, test_size=0.3, random_state=1)\n",
    "\n",
    "y_train_class = to_categorical(y_train, num_classes=7)\n",
    "y_val_class = to_categorical(y_val, num_classes=7)\n",
    "\n",
    "model = Sequential([\n",
    "    LSTM(123, return_sequences=False, input_shape=(X_train.shape[1], X_train.shape[2])),\n",
    "    Dense(64, activation='relu'),\n",
    "    Dropout(0.2),\n",
    "    Dense(32, activation='relu'),\n",
    "    Dropout(0.2),\n",
    "    Dense(7, activation='softmax')\n",
    "])\n",
    "\n",
    "model.compile(loss='categorical_crossentropy', optimizer='adam', metrics=['accuracy'])\n",
    "model.summary()\n",
    "\n",
    "history = model.fit(X_train, y_train_class, validation_data=(X_val, y_val_class),\n",
    "                    epochs=200, batch_size=32, shuffle=True)\n"
   ]
  },
  {
   "cell_type": "code",
   "execution_count": 53,
   "metadata": {},
   "outputs": [],
   "source": [
    "from sklearn.model_selection import train_test_split\n",
    "from tensorflow.keras.utils import to_categorical"
   ]
  },
  {
   "cell_type": "code",
   "execution_count": 23,
   "metadata": {},
   "outputs": [],
   "source": [
    "X_train, X_to_split, y_train, y_to_split = train_test_split(X, y, test_size=0.12, random_state=1)\n",
    "X_val, X_test, y_val, y_test = train_test_split(X_to_split, y_to_split, test_size=0.3, random_state=1)\n",
    "\n",
    "y_train_class = to_categorical(y_train, 6)\n",
    "y_val_class = to_categorical(y_val, 6)"
   ]
  },
  {
   "cell_type": "code",
   "execution_count": 26,
   "metadata": {},
   "outputs": [],
   "source": [
    "from keras.models import Sequential\n",
    "from keras.layers import Dense,LSTM,Dropout"
   ]
  },
  {
   "cell_type": "code",
   "execution_count": 56,
   "metadata": {},
   "outputs": [
    {
     "name": "stdout",
     "output_type": "stream",
     "text": [
      "Model: \"sequential_2\"\n",
      "_________________________________________________________________\n",
      " Layer (type)                Output Shape              Param #   \n",
      "=================================================================\n",
      " lstm_2 (LSTM)               (None, 123)               61500     \n",
      "                                                                 \n",
      " dense_6 (Dense)             (None, 64)                7936      \n",
      "                                                                 \n",
      " dropout_4 (Dropout)         (None, 64)                0         \n",
      "                                                                 \n",
      " dense_7 (Dense)             (None, 32)                2080      \n",
      "                                                                 \n",
      " dropout_5 (Dropout)         (None, 32)                0         \n",
      "                                                                 \n",
      " dense_8 (Dense)             (None, 7)                 231       \n",
      "                                                                 \n",
      "=================================================================\n",
      "Total params: 71747 (280.26 KB)\n",
      "Trainable params: 71747 (280.26 KB)\n",
      "Non-trainable params: 0 (0.00 Byte)\n",
      "_________________________________________________________________\n"
     ]
    }
   ],
   "source": [
    "model=Sequential([\n",
    "    LSTM(123,return_sequences=False,input_shape=(352,1)),\n",
    "    Dense(64,activation='relu'),\n",
    "    Dropout(0.2),\n",
    "    Dense(32,activation='relu'),\n",
    "    Dropout(0.2),\n",
    "    Dense(7,activation='softmax')\n",
    "])\n",
    "\n",
    "model.compile(loss='categorical_crossentropy',optimizer='adam',metrics=['accuracy'])\n",
    "model.summary()"
   ]
  },
  {
   "cell_type": "code",
   "execution_count": 57,
   "metadata": {},
   "outputs": [
    {
     "name": "stdout",
     "output_type": "stream",
     "text": [
      "Epoch 1/175\n"
     ]
    },
    {
     "ename": "ValueError",
     "evalue": "in user code:\n\n    File \"/Users/arushtripathi/anaconda3/lib/python3.10/site-packages/keras/src/engine/training.py\", line 1338, in train_function  *\n        return step_function(self, iterator)\n    File \"/Users/arushtripathi/anaconda3/lib/python3.10/site-packages/keras/src/engine/training.py\", line 1322, in step_function  **\n        outputs = model.distribute_strategy.run(run_step, args=(data,))\n    File \"/Users/arushtripathi/anaconda3/lib/python3.10/site-packages/keras/src/engine/training.py\", line 1303, in run_step  **\n        outputs = model.train_step(data)\n    File \"/Users/arushtripathi/anaconda3/lib/python3.10/site-packages/keras/src/engine/training.py\", line 1080, in train_step\n        y_pred = self(x, training=True)\n    File \"/Users/arushtripathi/anaconda3/lib/python3.10/site-packages/keras/src/utils/traceback_utils.py\", line 70, in error_handler\n        raise e.with_traceback(filtered_tb) from None\n    File \"/Users/arushtripathi/anaconda3/lib/python3.10/site-packages/keras/src/engine/input_spec.py\", line 298, in assert_input_compatibility\n        raise ValueError(\n\n    ValueError: Exception encountered when calling layer 'sequential_2' (type Sequential).\n    \n    Input 0 of layer \"lstm_2\" is incompatible with the layer: expected shape=(None, None, 1), found shape=(None, 352, 15)\n    \n    Call arguments received by layer 'sequential_2' (type Sequential):\n      • inputs=tf.Tensor(shape=(None, 352, 15), dtype=float32)\n      • training=True\n      • mask=None\n",
     "output_type": "error",
     "traceback": [
      "\u001b[0;31m---------------------------------------------------------------------------\u001b[0m",
      "\u001b[0;31mValueError\u001b[0m                                Traceback (most recent call last)",
      "Cell \u001b[0;32mIn[57], line 1\u001b[0m\n\u001b[0;32m----> 1\u001b[0m history\u001b[38;5;241m=\u001b[39m\u001b[43mmodel\u001b[49m\u001b[38;5;241;43m.\u001b[39;49m\u001b[43mfit\u001b[49m\u001b[43m(\u001b[49m\u001b[43mX\u001b[49m\u001b[43m,\u001b[49m\u001b[43my\u001b[49m\u001b[43m,\u001b[49m\u001b[43mvalidation_split\u001b[49m\u001b[38;5;241;43m=\u001b[39;49m\u001b[38;5;241;43m0.2\u001b[39;49m\u001b[43m,\u001b[49m\u001b[43mepochs\u001b[49m\u001b[38;5;241;43m=\u001b[39;49m\u001b[38;5;241;43m175\u001b[39;49m\u001b[43m,\u001b[49m\u001b[43mbatch_size\u001b[49m\u001b[38;5;241;43m=\u001b[39;49m\u001b[38;5;241;43m512\u001b[39;49m\u001b[43m,\u001b[49m\u001b[43mshuffle\u001b[49m\u001b[38;5;241;43m=\u001b[39;49m\u001b[38;5;28;43;01mTrue\u001b[39;49;00m\u001b[43m)\u001b[49m\n",
      "File \u001b[0;32m~/anaconda3/lib/python3.10/site-packages/keras/src/utils/traceback_utils.py:70\u001b[0m, in \u001b[0;36mfilter_traceback.<locals>.error_handler\u001b[0;34m(*args, **kwargs)\u001b[0m\n\u001b[1;32m     67\u001b[0m     filtered_tb \u001b[38;5;241m=\u001b[39m _process_traceback_frames(e\u001b[38;5;241m.\u001b[39m__traceback__)\n\u001b[1;32m     68\u001b[0m     \u001b[38;5;66;03m# To get the full stack trace, call:\u001b[39;00m\n\u001b[1;32m     69\u001b[0m     \u001b[38;5;66;03m# `tf.debugging.disable_traceback_filtering()`\u001b[39;00m\n\u001b[0;32m---> 70\u001b[0m     \u001b[38;5;28;01mraise\u001b[39;00m e\u001b[38;5;241m.\u001b[39mwith_traceback(filtered_tb) \u001b[38;5;28;01mfrom\u001b[39;00m \u001b[38;5;28mNone\u001b[39m\n\u001b[1;32m     71\u001b[0m \u001b[38;5;28;01mfinally\u001b[39;00m:\n\u001b[1;32m     72\u001b[0m     \u001b[38;5;28;01mdel\u001b[39;00m filtered_tb\n",
      "File \u001b[0;32m/var/folders/__/j0ljddtn1wn5bh7l7srj_4v80000gn/T/__autograph_generated_file27m4rps2.py:15\u001b[0m, in \u001b[0;36mouter_factory.<locals>.inner_factory.<locals>.tf__train_function\u001b[0;34m(iterator)\u001b[0m\n\u001b[1;32m     13\u001b[0m \u001b[38;5;28;01mtry\u001b[39;00m:\n\u001b[1;32m     14\u001b[0m     do_return \u001b[38;5;241m=\u001b[39m \u001b[38;5;28;01mTrue\u001b[39;00m\n\u001b[0;32m---> 15\u001b[0m     retval_ \u001b[38;5;241m=\u001b[39m ag__\u001b[38;5;241m.\u001b[39mconverted_call(ag__\u001b[38;5;241m.\u001b[39mld(step_function), (ag__\u001b[38;5;241m.\u001b[39mld(\u001b[38;5;28mself\u001b[39m), ag__\u001b[38;5;241m.\u001b[39mld(iterator)), \u001b[38;5;28;01mNone\u001b[39;00m, fscope)\n\u001b[1;32m     16\u001b[0m \u001b[38;5;28;01mexcept\u001b[39;00m:\n\u001b[1;32m     17\u001b[0m     do_return \u001b[38;5;241m=\u001b[39m \u001b[38;5;28;01mFalse\u001b[39;00m\n",
      "\u001b[0;31mValueError\u001b[0m: in user code:\n\n    File \"/Users/arushtripathi/anaconda3/lib/python3.10/site-packages/keras/src/engine/training.py\", line 1338, in train_function  *\n        return step_function(self, iterator)\n    File \"/Users/arushtripathi/anaconda3/lib/python3.10/site-packages/keras/src/engine/training.py\", line 1322, in step_function  **\n        outputs = model.distribute_strategy.run(run_step, args=(data,))\n    File \"/Users/arushtripathi/anaconda3/lib/python3.10/site-packages/keras/src/engine/training.py\", line 1303, in run_step  **\n        outputs = model.train_step(data)\n    File \"/Users/arushtripathi/anaconda3/lib/python3.10/site-packages/keras/src/engine/training.py\", line 1080, in train_step\n        y_pred = self(x, training=True)\n    File \"/Users/arushtripathi/anaconda3/lib/python3.10/site-packages/keras/src/utils/traceback_utils.py\", line 70, in error_handler\n        raise e.with_traceback(filtered_tb) from None\n    File \"/Users/arushtripathi/anaconda3/lib/python3.10/site-packages/keras/src/engine/input_spec.py\", line 298, in assert_input_compatibility\n        raise ValueError(\n\n    ValueError: Exception encountered when calling layer 'sequential_2' (type Sequential).\n    \n    Input 0 of layer \"lstm_2\" is incompatible with the layer: expected shape=(None, None, 1), found shape=(None, 352, 15)\n    \n    Call arguments received by layer 'sequential_2' (type Sequential):\n      • inputs=tf.Tensor(shape=(None, 352, 15), dtype=float32)\n      • training=True\n      • mask=None\n"
     ]
    }
   ],
   "source": [
    "history=model.fit(X,y,validation_split=0.2,epochs=175,batch_size=512,shuffle=True)"
   ]
  },
  {
   "cell_type": "markdown",
   "metadata": {},
   "source": [
    "# 6. Evaluate and conclude\n",
    "\n",
    "Let's see how good are model is. "
   ]
  },
  {
   "cell_type": "code",
   "execution_count": 59,
   "metadata": {},
   "outputs": [],
   "source": [
    "from sklearn.metrics import confusion_matrix"
   ]
  },
  {
   "cell_type": "code",
   "execution_count": 60,
   "metadata": {},
   "outputs": [
    {
     "ename": "TypeError",
     "evalue": "'History' object is not subscriptable",
     "output_type": "error",
     "traceback": [
      "\u001b[0;31m---------------------------------------------------------------------------\u001b[0m",
      "\u001b[0;31mTypeError\u001b[0m                                 Traceback (most recent call last)",
      "Cell \u001b[0;32mIn[60], line 3\u001b[0m\n\u001b[1;32m      1\u001b[0m fig, axes \u001b[38;5;241m=\u001b[39m plt\u001b[38;5;241m.\u001b[39msubplots(\u001b[38;5;241m1\u001b[39m, \u001b[38;5;241m2\u001b[39m, figsize\u001b[38;5;241m=\u001b[39m(\u001b[38;5;241m10\u001b[39m, \u001b[38;5;241m5\u001b[39m))\n\u001b[0;32m----> 3\u001b[0m axes[\u001b[38;5;241m0\u001b[39m]\u001b[38;5;241m.\u001b[39mplot(\u001b[43mmodel\u001b[49m\u001b[38;5;241;43m.\u001b[39;49m\u001b[43mhistory\u001b[49m\u001b[43m[\u001b[49m\u001b[38;5;124;43m'\u001b[39;49m\u001b[38;5;124;43mloss\u001b[39;49m\u001b[38;5;124;43m'\u001b[39;49m\u001b[43m]\u001b[49m)\n\u001b[1;32m      4\u001b[0m axes[\u001b[38;5;241m0\u001b[39m]\u001b[38;5;241m.\u001b[39mplot(model\u001b[38;5;241m.\u001b[39mhistory[\u001b[38;5;124m'\u001b[39m\u001b[38;5;124mval_loss\u001b[39m\u001b[38;5;124m'\u001b[39m])\n\u001b[1;32m      5\u001b[0m axes[\u001b[38;5;241m0\u001b[39m]\u001b[38;5;241m.\u001b[39mset_title(\u001b[38;5;124m'\u001b[39m\u001b[38;5;124mLoss for Train and Validation Sets\u001b[39m\u001b[38;5;124m'\u001b[39m)\n",
      "\u001b[0;31mTypeError\u001b[0m: 'History' object is not subscriptable"
     ]
    },
    {
     "data": {
      "image/png": "[encoded data removed]",
      "text/plain": [
       "<Figure size 1000x500 with 2 Axes>"
      ]
     },
     "metadata": {},
     "output_type": "display_data"
    }
   ],
   "source": [
    "fig, axes = plt.subplots(1, 2, figsize=(10, 5))\n",
    "\n",
    "axes[0].plot(model.history['loss'])\n",
    "axes[0].plot(model.history['val_loss'])\n",
    "axes[0].set_title('Loss for Train and Validation Sets')\n",
    "axes[0].set_ylabel('Loss')\n",
    "axes[0].set_xlabel('Epochs')\n",
    "axes[0].legend(['Training', 'Validation'])\n",
    "\n",
    "axes[1].plot(model.history['categorical_accuracy'])\n",
    "axes[1].plot(model.history['val_categorical_accuracy'])\n",
    "axes[1].set_title('Accuracy for Train and Validation Sets')\n",
    "axes[1].set_ylabel('Accuracy')\n",
    "axes[1].set_xlabel('Epochs')\n",
    "axes[1].legend(['Training', 'Validation'])\n",
    "\n",
    "fig.tight_layout()\n",
    "\n",
    "plt.show()"
   ]
  },
  {
   "cell_type": "code",
   "execution_count": 69,
   "metadata": {},
   "outputs": [
    {
     "name": "stdout",
     "output_type": "stream",
     "text": [
      "30/30 [==============================] - 1s 36ms/step\n"
     ]
    },
    {
     "data": {
      "image/png": "[encoded data removed]",
      "text/plain": [
       "<Figure size 640x480 with 2 Axes>"
      ]
     },
     "metadata": {},
     "output_type": "display_data"
    }
   ],
   "source": [
    "import seaborn as sns\n",
    "\n",
    "y_pred = np.argmax(model.predict(X_val), axis=1)\n",
    "labels = ['neutral', 'calm', 'sad', 'happy', 'fear', 'disgust']\n",
    "cm = confusion_matrix(np.argmax(y_val_class, axis=1), y_pred, labels=range(6))\n",
    "\n",
    "sns.heatmap(cm, annot=True, fmt='d', cmap='Reds', xticklabels=labels, yticklabels=labels)\n",
    "plt.xlabel('Predicted label')\n",
    "plt.ylabel('True label')\n",
    "plt.title('Confusion matrix')\n",
    "plt.show()"
   ]
  },
  {
   "cell_type": "markdown",
   "metadata": {},
   "source": [
    "**Conclusion**\n",
    "\n",
    "In summary, our model achieved 92% accuracy in classifying six different emotions. However, there are several ways we could improve it. For example, we could change the model, obtain a better dataset and extract different features. One optimization that we could make is to generate a codebook and apply vector quantization to reduce the dimensionality. This can help to improve the model's training speed and reduce the risk of overfitting. Lastly, don't forget to use accelerators to speed up the training process. "
   ]
  },
  {
   "cell_type": "code",
   "execution_count": 63,
   "metadata": {},
   "outputs": [
    {
     "ename": "NameError",
     "evalue": "name 'class_names' is not defined",
     "output_type": "error",
     "traceback": [
      "\u001b[0;31m---------------------------------------------------------------------------\u001b[0m",
      "\u001b[0;31mNameError\u001b[0m                                 Traceback (most recent call last)",
      "Cell \u001b[0;32mIn[63], line 2\u001b[0m\n\u001b[1;32m      1\u001b[0m \u001b[38;5;28;01mfrom\u001b[39;00m \u001b[38;5;21;01msklearn\u001b[39;00m\u001b[38;5;21;01m.\u001b[39;00m\u001b[38;5;21;01mmetrics\u001b[39;00m \u001b[38;5;28;01mimport\u001b[39;00m classification_report\n\u001b[0;32m----> 2\u001b[0m \u001b[38;5;28mprint\u001b[39m(classification_report(y_train_class,y_val_class,target_names\u001b[38;5;241m=\u001b[39m\u001b[43mclass_names\u001b[49m,digits\u001b[38;5;241m=\u001b[39m\u001b[38;5;241m4\u001b[39m))\n",
      "\u001b[0;31mNameError\u001b[0m: name 'class_names' is not defined"
     ]
    }
   ],
   "source": [
    "from sklearn.metrics import classification_report\n",
    "print(classification_report(y_train_class,y_val_class,target_names=class_names,digits=4))"
   ]
  },
  {
   "cell_type": "code",
   "execution_count": 70,
   "metadata": {},
   "outputs": [
    {
     "name": "stdout",
     "output_type": "stream",
     "text": [
      "Macro Precision: 0.8473\n",
      "Macro Recall: 0.8431\n",
      "Macro F1 Score: 0.8425\n"
     ]
    }
   ],
   "source": [
    "from sklearn.metrics import confusion_matrix, precision_score, recall_score, f1_score\n",
    "\n",
    "# ... (Rest of the code)\n",
    "\n",
    "# Calculate precision, recall, and F1 score\n",
    "precision = precision_score(np.argmax(y_val_class, axis=1), y_pred, average='macro')\n",
    "recall = recall_score(np.argmax(y_val_class, axis=1), y_pred, average='macro')\n",
    "f1 = f1_score(np.argmax(y_val_class, axis=1), y_pred, average='macro')\n",
    "\n",
    "print(f\"Macro Precision: {precision:.4f}\")\n",
    "print(f\"Macro Recall: {recall:.4f}\")\n",
    "print(f\"Macro F1 Score: {f1:.4f}\")\n"
   ]
  },
  {
   "cell_type": "code",
   "execution_count": 71,
   "metadata": {},
   "outputs": [
    {
     "name": "stdout",
     "output_type": "stream",
     "text": [
      "Weighted Precision: 0.8492\n",
      "Weighted Recall: 0.8441\n",
      "Weighted F1 Score: 0.8440\n"
     ]
    }
   ],
   "source": [
    "precision = precision_score(np.argmax(y_val_class, axis=1), y_pred, average='weighted')\n",
    "recall = recall_score(np.argmax(y_val_class, axis=1), y_pred, average='weighted')\n",
    "f1 = f1_score(np.argmax(y_val_class, axis=1), y_pred, average='weighted')\n",
    "\n",
    "print(f\"Weighted Precision: {precision:.4f}\")\n",
    "print(f\"Weighted Recall: {recall:.4f}\")\n",
    "print(f\"Weighted F1 Score: {f1:.4f}\")\n"
   ]
  },
  {
   "cell_type": "code",
   "execution_count": null,
   "metadata": {},
   "outputs": [],
   "source": []
  }
 ],
 "metadata": {
  "kernelspec": {
   "display_name": "Python 3 (ipykernel)",
   "language": "python",
   "name": "python3"
  },
  "language_info": {
   "codemirror_mode": {
    "name": "ipython",
    "version": 3
   },
   "file_extension": ".py",
   "mimetype": "text/x-python",
   "name": "python",
   "nbconvert_exporter": "python",
   "pygments_lexer": "ipython3",
   "version": "3.10.9"
  }
 },
 "nbformat": 4,
 "nbformat_minor": 4
}
