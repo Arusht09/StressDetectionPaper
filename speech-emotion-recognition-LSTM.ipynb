{
 "cells": [
  {
   "cell_type": "markdown",
   "metadata": {},
   "source": [
    "# Speech Emotion Recognition\n",
    "\n",
    "The objective of this notebook is to classify from raw sound waves to six emotions: happy, sad, neutral, fear, angry, and disgust. \n",
    "\n",
    "1. Gathering data\n",
    "2. Quick EDA\n",
    "3. Preprocess\n",
    "4. Extract features\n",
    "5. Build a LSTM\n",
    "6. Evaluate and conclude\n",
    "\n",
    "Datasets:\n",
    "* Crowd-sourced Emotional Multimodal Actors Dataset (Crema-D)\n",
    "* Ryerson Audio-Visual Database of Emotional Speech and Song (Ravdess)\n",
    "* Surrey Audio-Visual Expressed Emotion (Savee)\n",
    "* Toronto Emotional Speech Set (Tessa)"
   ]
  },
  {
   "cell_type": "markdown",
   "metadata": {},
   "source": [
    "# 1. Gathering data\n",
    "\n",
    "We will gather speech data from four datasets and store it in a single dataframe along with the corresponding file paths, gender labels and emotion labels. The size of each respective dataframe will be specified, along with an example filename in which the emotion label is bolded. "
   ]
  },
  {
   "cell_type": "code",
   "execution_count": 18,
   "metadata": {
    "_cell_guid": "b1076dfc-b9ad-4769-8c92-a6c4dae69d19",
    "_uuid": "8f2839f25d086af736a60e9eeb907d3b93b6e0e5",
    "execution": {
     "iopub.execute_input": "2023-07-01T03:01:23.831013Z",
     "iopub.status.busy": "2023-07-01T03:01:23.830448Z",
     "iopub.status.idle": "2023-07-01T03:01:23.871293Z",
     "shell.execute_reply": "2023-07-01T03:01:23.869906Z",
     "shell.execute_reply.started": "2023-07-01T03:01:23.830954Z"
    }
   },
   "outputs": [],
   "source": [
    "import os\n",
    "import pandas as pd\n",
    "import numpy as np"
   ]
  },
  {
   "cell_type": "code",
   "execution_count": 19,
   "metadata": {
    "execution": {
     "iopub.execute_input": "2023-07-01T03:01:23.876646Z",
     "iopub.status.busy": "2023-07-01T03:01:23.874782Z",
     "iopub.status.idle": "2023-07-01T03:01:23.883477Z",
     "shell.execute_reply": "2023-07-01T03:01:23.881907Z",
     "shell.execute_reply.started": "2023-07-01T03:01:23.876487Z"
    }
   },
   "outputs": [],
   "source": [
    "RAVDESS = \"/Users/arushtripathi/Downloads/sentiment-predictor-for-stress-detection-main/Audio_Speech_Actors_01-24/\"\n",
    "CREMA = \"/Users/arushtripathi/Downloads/crema/\"\n",
    "TESS = \"/Users/arushtripathi/Downloads/TESS Toronto emotional speech set data/tess toronto emotional speech set data/\"\n",
    "SAVEE = \"/Users/arushtripathi/Downloads/save/\""
   ]
  },
  {
   "cell_type": "markdown",
   "metadata": {},
   "source": [
    "**1. Ravdess Dataframe**\n",
    "\n",
    "There are 1440 audio files, for example, 03-01-**06**-01-02-01-12.wav."
   ]
  },
  {
   "cell_type": "code",
   "execution_count": 20,
   "metadata": {
    "execution": {
     "iopub.execute_input": "2023-07-01T03:01:23.886873Z",
     "iopub.status.busy": "2023-07-01T03:01:23.885753Z",
     "iopub.status.idle": "2023-07-01T03:01:24.260412Z",
     "shell.execute_reply": "2023-07-01T03:01:24.259192Z",
     "shell.execute_reply.started": "2023-07-01T03:01:23.88675Z"
    }
   },
   "outputs": [
    {
     "data": {
      "text/html": [
       "<div>\n",
       "<style scoped>\n",
       "    .dataframe tbody tr th:only-of-type {\n",
       "        vertical-align: middle;\n",
       "    }\n",
       "\n",
       "    .dataframe tbody tr th {\n",
       "        vertical-align: top;\n",
       "    }\n",
       "\n",
       "    .dataframe thead th {\n",
       "        text-align: right;\n",
       "    }\n",
       "</style>\n",
       "<table border=\"1\" class=\"dataframe\">\n",
       "  <thead>\n",
       "    <tr style=\"text-align: right;\">\n",
       "      <th></th>\n",
       "      <th>path</th>\n",
       "      <th>sex</th>\n",
       "      <th>emotion</th>\n",
       "    </tr>\n",
       "  </thead>\n",
       "  <tbody>\n",
       "    <tr>\n",
       "      <th>0</th>\n",
       "      <td>/Users/arushtripathi/Downloads/sentiment-predi...</td>\n",
       "      <td>female</td>\n",
       "      <td>angry</td>\n",
       "    </tr>\n",
       "    <tr>\n",
       "      <th>1</th>\n",
       "      <td>/Users/arushtripathi/Downloads/sentiment-predi...</td>\n",
       "      <td>female</td>\n",
       "      <td>fear</td>\n",
       "    </tr>\n",
       "    <tr>\n",
       "      <th>2</th>\n",
       "      <td>/Users/arushtripathi/Downloads/sentiment-predi...</td>\n",
       "      <td>female</td>\n",
       "      <td>fear</td>\n",
       "    </tr>\n",
       "    <tr>\n",
       "      <th>3</th>\n",
       "      <td>/Users/arushtripathi/Downloads/sentiment-predi...</td>\n",
       "      <td>female</td>\n",
       "      <td>angry</td>\n",
       "    </tr>\n",
       "    <tr>\n",
       "      <th>4</th>\n",
       "      <td>/Users/arushtripathi/Downloads/sentiment-predi...</td>\n",
       "      <td>female</td>\n",
       "      <td>disgust</td>\n",
       "    </tr>\n",
       "  </tbody>\n",
       "</table>\n",
       "</div>"
      ],
      "text/plain": [
       "                                                path     sex  emotion\n",
       "0  /Users/arushtripathi/Downloads/sentiment-predi...  female    angry\n",
       "1  /Users/arushtripathi/Downloads/sentiment-predi...  female     fear\n",
       "2  /Users/arushtripathi/Downloads/sentiment-predi...  female     fear\n",
       "3  /Users/arushtripathi/Downloads/sentiment-predi...  female    angry\n",
       "4  /Users/arushtripathi/Downloads/sentiment-predi...  female  disgust"
      ]
     },
     "execution_count": 20,
     "metadata": {},
     "output_type": "execute_result"
    }
   ],
   "source": [
    "ravdess_dir_lis = os.listdir(RAVDESS)\n",
    "path_list = []\n",
    "gender_list = []\n",
    "emotion_list = []\n",
    "\n",
    "emotion_dic = {\n",
    "    '03' : 'happy',\n",
    "    '01' : 'neutral',\n",
    "    '04' : 'sad',\n",
    "    '05' : 'angry',\n",
    "    '06' : 'fear',\n",
    "    '07' : 'disgust',\n",
    "}\n",
    "\n",
    "for directory in ravdess_dir_lis:\n",
    "    actor_files = os.listdir(os.path.join(RAVDESS, directory))\n",
    "    for audio_file in actor_files: \n",
    "        part = audio_file.split('.')[0]\n",
    "        key = part.split('-')[2]\n",
    "        if key in emotion_dic:\n",
    "            gender_code = int(part.split('-')[6])\n",
    "            path_list.append(f\"{RAVDESS}{directory}/{audio_file}\")\n",
    "            gender_list.append('female' if gender_code & 1 == 0 else 'male')\n",
    "            emotion_list.append(emotion_dic[key])\n",
    "            \n",
    "ravdess_df = pd.concat([\n",
    "    pd.DataFrame(path_list, columns=['path']),\n",
    "    pd.DataFrame(gender_list, columns=['sex']),\n",
    "    pd.DataFrame(emotion_list, columns=['emotion'])\n",
    "], axis=1)\n",
    "\n",
    "ravdess_df.head()"
   ]
  },
  {
   "cell_type": "markdown",
   "metadata": {},
   "source": [
    "**2. Crema-D Dataframe**\n",
    "\n",
    "There are 7,442 audio files, for example, 1001_DFA_**ANG**_XX.wav."
   ]
  },
  {
   "cell_type": "code",
   "execution_count": 21,
   "metadata": {
    "execution": {
     "iopub.execute_input": "2023-07-01T03:01:24.262523Z",
     "iopub.status.busy": "2023-07-01T03:01:24.261825Z",
     "iopub.status.idle": "2023-07-01T03:01:24.555083Z",
     "shell.execute_reply": "2023-07-01T03:01:24.553876Z",
     "shell.execute_reply.started": "2023-07-01T03:01:24.262476Z"
    }
   },
   "outputs": [
    {
     "data": {
      "text/html": [
       "<div>\n",
       "<style scoped>\n",
       "    .dataframe tbody tr th:only-of-type {\n",
       "        vertical-align: middle;\n",
       "    }\n",
       "\n",
       "    .dataframe tbody tr th {\n",
       "        vertical-align: top;\n",
       "    }\n",
       "\n",
       "    .dataframe thead th {\n",
       "        text-align: right;\n",
       "    }\n",
       "</style>\n",
       "<table border=\"1\" class=\"dataframe\">\n",
       "  <thead>\n",
       "    <tr style=\"text-align: right;\">\n",
       "      <th></th>\n",
       "      <th>path</th>\n",
       "      <th>sex</th>\n",
       "      <th>emotion</th>\n",
       "    </tr>\n",
       "  </thead>\n",
       "  <tbody>\n",
       "    <tr>\n",
       "      <th>0</th>\n",
       "      <td>/Users/arushtripathi/Downloads/crema/1028_IEO_...</td>\n",
       "      <td>female</td>\n",
       "      <td>sad</td>\n",
       "    </tr>\n",
       "    <tr>\n",
       "      <th>1</th>\n",
       "      <td>/Users/arushtripathi/Downloads/crema/1048_IEO_...</td>\n",
       "      <td>male</td>\n",
       "      <td>angry</td>\n",
       "    </tr>\n",
       "    <tr>\n",
       "      <th>2</th>\n",
       "      <td>/Users/arushtripathi/Downloads/crema/1027_IEO_...</td>\n",
       "      <td>male</td>\n",
       "      <td>disgust</td>\n",
       "    </tr>\n",
       "    <tr>\n",
       "      <th>3</th>\n",
       "      <td>/Users/arushtripathi/Downloads/crema/1032_IEO_...</td>\n",
       "      <td>male</td>\n",
       "      <td>disgust</td>\n",
       "    </tr>\n",
       "    <tr>\n",
       "      <th>4</th>\n",
       "      <td>/Users/arushtripathi/Downloads/crema/1080_IEO_...</td>\n",
       "      <td>male</td>\n",
       "      <td>happy</td>\n",
       "    </tr>\n",
       "  </tbody>\n",
       "</table>\n",
       "</div>"
      ],
      "text/plain": [
       "                                                path     sex  emotion\n",
       "0  /Users/arushtripathi/Downloads/crema/1028_IEO_...  female      sad\n",
       "1  /Users/arushtripathi/Downloads/crema/1048_IEO_...    male    angry\n",
       "2  /Users/arushtripathi/Downloads/crema/1027_IEO_...    male  disgust\n",
       "3  /Users/arushtripathi/Downloads/crema/1032_IEO_...    male  disgust\n",
       "4  /Users/arushtripathi/Downloads/crema/1080_IEO_...    male    happy"
      ]
     },
     "execution_count": 21,
     "metadata": {},
     "output_type": "execute_result"
    }
   ],
   "source": [
    "crema_dir_list = os.listdir(CREMA)\n",
    "path_list = []\n",
    "gender_list = []\n",
    "emotion_list = []\n",
    "\n",
    "emotion_dic = {\n",
    "    'HAP' : 'happy',\n",
    "    'NEU' : 'neutral',\n",
    "    'SAD' : 'sad',\n",
    "    'ANG' : 'angry',\n",
    "    'FEA' : 'fear',\n",
    "    'DIS' : 'disgust',\n",
    "}\n",
    "\n",
    "female_id_list = [\n",
    "    '1002', '1003', '1004', '1006', '1007', '1008', '1009', '1010', '1012', '1013', '1018', \n",
    "    '1020', '1021', '1024', '1025', '1028', '1029', '1030', '1037', '1043', '1046', '1047', \n",
    "    '1049', '1052', '1053', '1054', '1055', '1056', '1058', '1060', '1061', '1063', '1072', \n",
    "    '1073', '1074', '1075', '1076', '1078', '1079', '1082', '1084', '1089', '1091',\n",
    "]\n",
    "\n",
    "for audio_file in crema_dir_list:\n",
    "    part = audio_file.split('_')\n",
    "    key = part[2]\n",
    "    if key in emotion_dic and part[3] == 'HI.wav':\n",
    "        path_list.append(f\"{CREMA}{audio_file}\")\n",
    "        gender_list.append('female' if part[0] in female_id_list else 'male')\n",
    "        emotion_list.append(emotion_dic[key])\n",
    "\n",
    "crema_df = pd.concat([\n",
    "    pd.DataFrame(path_list, columns=['path']),\n",
    "    pd.DataFrame(gender_list, columns=['sex']),\n",
    "    pd.DataFrame(emotion_list, columns=['emotion'])\n",
    "], axis=1)\n",
    "\n",
    "crema_df.head()"
   ]
  },
  {
   "cell_type": "markdown",
   "metadata": {},
   "source": [
    "**3. Tess Dataframe**\n",
    "\n",
    "There are 2,800 audio files, for example, OAF_base_**fear**.wav."
   ]
  },
  {
   "cell_type": "code",
   "execution_count": 22,
   "metadata": {
    "execution": {
     "iopub.execute_input": "2023-07-01T03:01:24.559974Z",
     "iopub.status.busy": "2023-07-01T03:01:24.559094Z",
     "iopub.status.idle": "2023-07-01T03:01:25.233141Z",
     "shell.execute_reply": "2023-07-01T03:01:25.231954Z",
     "shell.execute_reply.started": "2023-07-01T03:01:24.559941Z"
    }
   },
   "outputs": [
    {
     "data": {
      "text/html": [
       "<div>\n",
       "<style scoped>\n",
       "    .dataframe tbody tr th:only-of-type {\n",
       "        vertical-align: middle;\n",
       "    }\n",
       "\n",
       "    .dataframe tbody tr th {\n",
       "        vertical-align: top;\n",
       "    }\n",
       "\n",
       "    .dataframe thead th {\n",
       "        text-align: right;\n",
       "    }\n",
       "</style>\n",
       "<table border=\"1\" class=\"dataframe\">\n",
       "  <thead>\n",
       "    <tr style=\"text-align: right;\">\n",
       "      <th></th>\n",
       "      <th>path</th>\n",
       "      <th>sex</th>\n",
       "      <th>emotion</th>\n",
       "    </tr>\n",
       "  </thead>\n",
       "  <tbody>\n",
       "    <tr>\n",
       "      <th>0</th>\n",
       "      <td>/Users/arushtripathi/Downloads/TESS Toronto em...</td>\n",
       "      <td>female</td>\n",
       "      <td>disgust</td>\n",
       "    </tr>\n",
       "    <tr>\n",
       "      <th>1</th>\n",
       "      <td>/Users/arushtripathi/Downloads/TESS Toronto em...</td>\n",
       "      <td>female</td>\n",
       "      <td>disgust</td>\n",
       "    </tr>\n",
       "    <tr>\n",
       "      <th>2</th>\n",
       "      <td>/Users/arushtripathi/Downloads/TESS Toronto em...</td>\n",
       "      <td>female</td>\n",
       "      <td>disgust</td>\n",
       "    </tr>\n",
       "    <tr>\n",
       "      <th>3</th>\n",
       "      <td>/Users/arushtripathi/Downloads/TESS Toronto em...</td>\n",
       "      <td>female</td>\n",
       "      <td>disgust</td>\n",
       "    </tr>\n",
       "    <tr>\n",
       "      <th>4</th>\n",
       "      <td>/Users/arushtripathi/Downloads/TESS Toronto em...</td>\n",
       "      <td>female</td>\n",
       "      <td>disgust</td>\n",
       "    </tr>\n",
       "  </tbody>\n",
       "</table>\n",
       "</div>"
      ],
      "text/plain": [
       "                                                path     sex  emotion\n",
       "0  /Users/arushtripathi/Downloads/TESS Toronto em...  female  disgust\n",
       "1  /Users/arushtripathi/Downloads/TESS Toronto em...  female  disgust\n",
       "2  /Users/arushtripathi/Downloads/TESS Toronto em...  female  disgust\n",
       "3  /Users/arushtripathi/Downloads/TESS Toronto em...  female  disgust\n",
       "4  /Users/arushtripathi/Downloads/TESS Toronto em...  female  disgust"
      ]
     },
     "execution_count": 22,
     "metadata": {},
     "output_type": "execute_result"
    }
   ],
   "source": [
    "tess_dir_list = os.listdir(TESS)\n",
    "path_list = []\n",
    "gender_list = []\n",
    "emotion_list = [] \n",
    "\n",
    "emotion_dic = {\n",
    "    'happy'   : 'happy',\n",
    "    'neutral' : 'neutral',\n",
    "    'sad'     : 'sad',\n",
    "    'Sad'     : 'sad',\n",
    "    'angry'   : 'angry',\n",
    "    'fear'    : 'fear',\n",
    "    'disgust'  : 'disgust',\n",
    "}\n",
    "\n",
    "for directory in tess_dir_list:\n",
    "    audio_files = os.listdir(os.path.join(TESS, directory))\n",
    "    for audio_file in audio_files:\n",
    "        part = audio_file.split('.')[0]\n",
    "        key = part.split('_')[2]\n",
    "        if key in emotion_dic:\n",
    "            path_list.append(f\"{TESS}{directory}/{audio_file}\") \n",
    "            gender_list.append('female') # female only dataset\n",
    "            emotion_list.append(emotion_dic[key])\n",
    "            \n",
    "tess_df = pd.concat([\n",
    "    pd.DataFrame(path_list, columns=['path']),\n",
    "    pd.DataFrame(gender_list, columns=['sex']),\n",
    "    pd.DataFrame(emotion_list, columns=['emotion'])\n",
    "], axis=1)\n",
    "\n",
    "tess_df.head()"
   ]
  },
  {
   "cell_type": "markdown",
   "metadata": {},
   "source": [
    "**4. Savee Dataframe**\n",
    "\n",
    "There are 480 audio files, for example, DC_**a**02.wav."
   ]
  },
  {
   "cell_type": "code",
   "execution_count": 23,
   "metadata": {
    "execution": {
     "iopub.execute_input": "2023-07-01T03:01:25.235459Z",
     "iopub.status.busy": "2023-07-01T03:01:25.234987Z",
     "iopub.status.idle": "2023-07-01T03:01:25.366586Z",
     "shell.execute_reply": "2023-07-01T03:01:25.365318Z",
     "shell.execute_reply.started": "2023-07-01T03:01:25.235408Z"
    }
   },
   "outputs": [
    {
     "data": {
      "text/html": [
       "<div>\n",
       "<style scoped>\n",
       "    .dataframe tbody tr th:only-of-type {\n",
       "        vertical-align: middle;\n",
       "    }\n",
       "\n",
       "    .dataframe tbody tr th {\n",
       "        vertical-align: top;\n",
       "    }\n",
       "\n",
       "    .dataframe thead th {\n",
       "        text-align: right;\n",
       "    }\n",
       "</style>\n",
       "<table border=\"1\" class=\"dataframe\">\n",
       "  <thead>\n",
       "    <tr style=\"text-align: right;\">\n",
       "      <th></th>\n",
       "      <th>path</th>\n",
       "      <th>sex</th>\n",
       "      <th>emotion</th>\n",
       "    </tr>\n",
       "  </thead>\n",
       "  <tbody>\n",
       "    <tr>\n",
       "      <th>0</th>\n",
       "      <td>/Users/arushtripathi/Downloads/save/JK_sa01.wav</td>\n",
       "      <td>male</td>\n",
       "      <td>sad</td>\n",
       "    </tr>\n",
       "    <tr>\n",
       "      <th>1</th>\n",
       "      <td>/Users/arushtripathi/Downloads/save/JK_sa15.wav</td>\n",
       "      <td>male</td>\n",
       "      <td>sad</td>\n",
       "    </tr>\n",
       "    <tr>\n",
       "      <th>2</th>\n",
       "      <td>/Users/arushtripathi/Downloads/save/DC_n13.wav</td>\n",
       "      <td>male</td>\n",
       "      <td>neutral</td>\n",
       "    </tr>\n",
       "    <tr>\n",
       "      <th>3</th>\n",
       "      <td>/Users/arushtripathi/Downloads/save/DC_n07.wav</td>\n",
       "      <td>male</td>\n",
       "      <td>neutral</td>\n",
       "    </tr>\n",
       "    <tr>\n",
       "      <th>4</th>\n",
       "      <td>/Users/arushtripathi/Downloads/save/JK_n20.wav</td>\n",
       "      <td>male</td>\n",
       "      <td>neutral</td>\n",
       "    </tr>\n",
       "  </tbody>\n",
       "</table>\n",
       "</div>"
      ],
      "text/plain": [
       "                                              path   sex  emotion\n",
       "0  /Users/arushtripathi/Downloads/save/JK_sa01.wav  male      sad\n",
       "1  /Users/arushtripathi/Downloads/save/JK_sa15.wav  male      sad\n",
       "2   /Users/arushtripathi/Downloads/save/DC_n13.wav  male  neutral\n",
       "3   /Users/arushtripathi/Downloads/save/DC_n07.wav  male  neutral\n",
       "4   /Users/arushtripathi/Downloads/save/JK_n20.wav  male  neutral"
      ]
     },
     "execution_count": 23,
     "metadata": {},
     "output_type": "execute_result"
    }
   ],
   "source": [
    "savee_dir_list = os.listdir(SAVEE)\n",
    "path_list = []\n",
    "gender_list = []\n",
    "emotion_list = []\n",
    "\n",
    "emotion_dic = {\n",
    "    'h'  : 'happy',\n",
    "    'n'  : 'neutral',\n",
    "    'sa' : 'sad',\n",
    "    'a'  : 'angry',\n",
    "    'f'  : 'fear',\n",
    "    'd'  : 'disgust'\n",
    "}\n",
    "\n",
    "for audio_file in savee_dir_list:\n",
    "    part = audio_file.split('_')[1]\n",
    "    key = part[:-6]\n",
    "    if key in emotion_dic:\n",
    "        path_list.append(f\"{SAVEE}{audio_file}\")\n",
    "        gender_list.append('male') # male only dataset\n",
    "        emotion_list.append(emotion_dic[key])\n",
    "        \n",
    "savee_df = pd.concat([\n",
    "    pd.DataFrame(path_list, columns=['path']),\n",
    "    pd.DataFrame(gender_list, columns=['sex']),\n",
    "    pd.DataFrame(emotion_list, columns=['emotion'])\n",
    "], axis=1)\n",
    "\n",
    "savee_df.head()"
   ]
  },
  {
   "cell_type": "code",
   "execution_count": 24,
   "metadata": {
    "execution": {
     "iopub.execute_input": "2023-07-01T03:01:25.369357Z",
     "iopub.status.busy": "2023-07-01T03:01:25.368538Z",
     "iopub.status.idle": "2023-07-01T03:01:25.387397Z",
     "shell.execute_reply": "2023-07-01T03:01:25.38611Z",
     "shell.execute_reply.started": "2023-07-01T03:01:25.369311Z"
    }
   },
   "outputs": [
    {
     "data": {
      "text/html": [
       "<div>\n",
       "<style scoped>\n",
       "    .dataframe tbody tr th:only-of-type {\n",
       "        vertical-align: middle;\n",
       "    }\n",
       "\n",
       "    .dataframe tbody tr th {\n",
       "        vertical-align: top;\n",
       "    }\n",
       "\n",
       "    .dataframe thead th {\n",
       "        text-align: right;\n",
       "    }\n",
       "</style>\n",
       "<table border=\"1\" class=\"dataframe\">\n",
       "  <thead>\n",
       "    <tr style=\"text-align: right;\">\n",
       "      <th></th>\n",
       "      <th>path</th>\n",
       "      <th>sex</th>\n",
       "      <th>emotion</th>\n",
       "    </tr>\n",
       "  </thead>\n",
       "  <tbody>\n",
       "    <tr>\n",
       "      <th>0</th>\n",
       "      <td>/Users/arushtripathi/Downloads/sentiment-predi...</td>\n",
       "      <td>female</td>\n",
       "      <td>angry</td>\n",
       "    </tr>\n",
       "    <tr>\n",
       "      <th>1</th>\n",
       "      <td>/Users/arushtripathi/Downloads/sentiment-predi...</td>\n",
       "      <td>female</td>\n",
       "      <td>fear</td>\n",
       "    </tr>\n",
       "    <tr>\n",
       "      <th>2</th>\n",
       "      <td>/Users/arushtripathi/Downloads/sentiment-predi...</td>\n",
       "      <td>female</td>\n",
       "      <td>fear</td>\n",
       "    </tr>\n",
       "    <tr>\n",
       "      <th>3</th>\n",
       "      <td>/Users/arushtripathi/Downloads/sentiment-predi...</td>\n",
       "      <td>female</td>\n",
       "      <td>angry</td>\n",
       "    </tr>\n",
       "    <tr>\n",
       "      <th>4</th>\n",
       "      <td>/Users/arushtripathi/Downloads/sentiment-predi...</td>\n",
       "      <td>female</td>\n",
       "      <td>disgust</td>\n",
       "    </tr>\n",
       "  </tbody>\n",
       "</table>\n",
       "</div>"
      ],
      "text/plain": [
       "                                                path     sex  emotion\n",
       "0  /Users/arushtripathi/Downloads/sentiment-predi...  female    angry\n",
       "1  /Users/arushtripathi/Downloads/sentiment-predi...  female     fear\n",
       "2  /Users/arushtripathi/Downloads/sentiment-predi...  female     fear\n",
       "3  /Users/arushtripathi/Downloads/sentiment-predi...  female    angry\n",
       "4  /Users/arushtripathi/Downloads/sentiment-predi...  female  disgust"
      ]
     },
     "execution_count": 24,
     "metadata": {},
     "output_type": "execute_result"
    }
   ],
   "source": [
    "df = pd.concat([\n",
    "    ravdess_df, \n",
    "    crema_df, \n",
    "    tess_df, \n",
    "    savee_df\n",
    "], axis=0)\n",
    "df.head()"
   ]
  },
  {
   "cell_type": "markdown",
   "metadata": {},
   "source": [
    "# 2. Quick EDA\n",
    "\n",
    "We check for imbalances like male to female ratio. "
   ]
  },
  {
   "cell_type": "code",
   "execution_count": 25,
   "metadata": {
    "execution": {
     "iopub.execute_input": "2023-07-01T03:01:25.390167Z",
     "iopub.status.busy": "2023-07-01T03:01:25.389331Z",
     "iopub.status.idle": "2023-07-01T03:01:25.404297Z",
     "shell.execute_reply": "2023-07-01T03:01:25.4031Z",
     "shell.execute_reply.started": "2023-07-01T03:01:25.390097Z"
    }
   },
   "outputs": [],
   "source": [
    "import librosa\n",
    "import matplotlib.pyplot as plt\n",
    "\n",
    "plt.style.use('ggplot')"
   ]
  },
  {
   "cell_type": "code",
   "execution_count": 26,
   "metadata": {
    "execution": {
     "iopub.execute_input": "2023-07-01T03:01:25.406154Z",
     "iopub.status.busy": "2023-07-01T03:01:25.405772Z",
     "iopub.status.idle": "2023-07-01T03:01:25.76566Z",
     "shell.execute_reply": "2023-07-01T03:01:25.764203Z",
     "shell.execute_reply.started": "2023-07-01T03:01:25.406094Z"
    }
   },
   "outputs": [
    {
     "data": {
      "image/png": "[encoded data removed]",
      "text/plain": [
       "<Figure size 600x300 with 1 Axes>"
      ]
     },
     "metadata": {},
     "output_type": "display_data"
    }
   ],
   "source": [
    "def plot_distribution(df): \n",
    "    countTable = df.groupby(['emotion', 'sex']).count()\n",
    "    pivotTable = countTable.pivot_table(index='emotion', columns='sex', values='path')\n",
    "\n",
    "    pivotTable.plot(kind='bar', figsize=(6, 3), color=['pink', 'blue'])\n",
    "    plt.title('Emotion and Gender Distribution')\n",
    "    plt.xlabel('Emotion')\n",
    "    plt.ylabel('Count')\n",
    "    plt.show()\n",
    "    \n",
    "plot_distribution(df)"
   ]
  },
  {
   "cell_type": "code",
   "execution_count": 27,
   "metadata": {
    "execution": {
     "iopub.execute_input": "2023-07-01T03:01:25.770659Z",
     "iopub.status.busy": "2023-07-01T03:01:25.769891Z",
     "iopub.status.idle": "2023-07-01T03:01:26.048571Z",
     "shell.execute_reply": "2023-07-01T03:01:26.047199Z",
     "shell.execute_reply.started": "2023-07-01T03:01:25.770616Z"
    }
   },
   "outputs": [
    {
     "data": {
      "image/png": "[encoded data removed]",
      "text/plain": [
       "<Figure size 600x300 with 1 Axes>"
      ]
     },
     "metadata": {},
     "output_type": "display_data"
    }
   ],
   "source": [
    "# I decided to go with a female specific model \n",
    "df = df[df['sex'] == 'female']\n",
    "plot_distribution(df)"
   ]
  },
  {
   "cell_type": "code",
   "execution_count": 28,
   "metadata": {
    "execution": {
     "iopub.execute_input": "2023-07-01T03:01:26.051086Z",
     "iopub.status.busy": "2023-07-01T03:01:26.050609Z",
     "iopub.status.idle": "2023-07-01T03:01:26.064932Z",
     "shell.execute_reply": "2023-07-01T03:01:26.063599Z",
     "shell.execute_reply.started": "2023-07-01T03:01:26.051038Z"
    }
   },
   "outputs": [
    {
     "data": {
      "text/html": [
       "<div>\n",
       "<style scoped>\n",
       "    .dataframe tbody tr th:only-of-type {\n",
       "        vertical-align: middle;\n",
       "    }\n",
       "\n",
       "    .dataframe tbody tr th {\n",
       "        vertical-align: top;\n",
       "    }\n",
       "\n",
       "    .dataframe thead th {\n",
       "        text-align: right;\n",
       "    }\n",
       "</style>\n",
       "<table border=\"1\" class=\"dataframe\">\n",
       "  <thead>\n",
       "    <tr style=\"text-align: right;\">\n",
       "      <th></th>\n",
       "      <th>path</th>\n",
       "      <th>emotion</th>\n",
       "    </tr>\n",
       "  </thead>\n",
       "  <tbody>\n",
       "    <tr>\n",
       "      <th>0</th>\n",
       "      <td>/Users/arushtripathi/Downloads/sentiment-predi...</td>\n",
       "      <td>angry</td>\n",
       "    </tr>\n",
       "    <tr>\n",
       "      <th>1</th>\n",
       "      <td>/Users/arushtripathi/Downloads/sentiment-predi...</td>\n",
       "      <td>fear</td>\n",
       "    </tr>\n",
       "    <tr>\n",
       "      <th>2</th>\n",
       "      <td>/Users/arushtripathi/Downloads/sentiment-predi...</td>\n",
       "      <td>fear</td>\n",
       "    </tr>\n",
       "    <tr>\n",
       "      <th>3</th>\n",
       "      <td>/Users/arushtripathi/Downloads/sentiment-predi...</td>\n",
       "      <td>angry</td>\n",
       "    </tr>\n",
       "    <tr>\n",
       "      <th>4</th>\n",
       "      <td>/Users/arushtripathi/Downloads/sentiment-predi...</td>\n",
       "      <td>disgust</td>\n",
       "    </tr>\n",
       "  </tbody>\n",
       "</table>\n",
       "</div>"
      ],
      "text/plain": [
       "                                                path  emotion\n",
       "0  /Users/arushtripathi/Downloads/sentiment-predi...    angry\n",
       "1  /Users/arushtripathi/Downloads/sentiment-predi...     fear\n",
       "2  /Users/arushtripathi/Downloads/sentiment-predi...     fear\n",
       "3  /Users/arushtripathi/Downloads/sentiment-predi...    angry\n",
       "4  /Users/arushtripathi/Downloads/sentiment-predi...  disgust"
      ]
     },
     "execution_count": 28,
     "metadata": {},
     "output_type": "execute_result"
    }
   ],
   "source": [
    "df.drop('sex', axis=1, inplace=True)\n",
    "df.head()"
   ]
  },
  {
   "cell_type": "code",
   "execution_count": 29,
   "metadata": {
    "execution": {
     "iopub.execute_input": "2023-07-01T03:01:26.068313Z",
     "iopub.status.busy": "2023-07-01T03:01:26.06737Z",
     "iopub.status.idle": "2023-07-01T03:01:26.07571Z",
     "shell.execute_reply": "2023-07-01T03:01:26.074409Z",
     "shell.execute_reply.started": "2023-07-01T03:01:26.068264Z"
    }
   },
   "outputs": [],
   "source": [
    "from IPython.display import Audio\n",
    "\n",
    "def create_waveplot(y, sr, title):\n",
    "    plt.figure(figsize=(8, 2))\n",
    "    plt.title(title)\n",
    "    librosa.display.waveshow(y, sr=sr)\n",
    "    plt.show()"
   ]
  },
  {
   "cell_type": "code",
   "execution_count": 30,
   "metadata": {
    "execution": {
     "iopub.execute_input": "2023-07-01T03:01:26.078822Z",
     "iopub.status.busy": "2023-07-01T03:01:26.077892Z",
     "iopub.status.idle": "2023-07-01T03:01:37.084499Z",
     "shell.execute_reply": "2023-07-01T03:01:37.083512Z",
     "shell.execute_reply.started": "2023-07-01T03:01:26.078774Z"
    }
   },
   "outputs": [
    {
     "ename": "AttributeError",
     "evalue": "module 'librosa' has no attribute 'display'",
     "output_type": "error",
     "traceback": [
      "\u001b[0;31m---------------------------------------------------------------------------\u001b[0m",
      "\u001b[0;31mAttributeError\u001b[0m                            Traceback (most recent call last)",
      "Cell \u001b[0;32mIn[30], line 6\u001b[0m\n\u001b[1;32m      3\u001b[0m path \u001b[38;5;241m=\u001b[39m np\u001b[38;5;241m.\u001b[39marray(df\u001b[38;5;241m.\u001b[39mpath[df\u001b[38;5;241m.\u001b[39memotion \u001b[38;5;241m==\u001b[39m emotion_label])[\u001b[38;5;241m1\u001b[39m]\n\u001b[1;32m      4\u001b[0m y, sr \u001b[38;5;241m=\u001b[39m librosa\u001b[38;5;241m.\u001b[39mload(path)\n\u001b[0;32m----> 6\u001b[0m \u001b[43mcreate_waveplot\u001b[49m\u001b[43m(\u001b[49m\u001b[43my\u001b[49m\u001b[43m,\u001b[49m\u001b[43m \u001b[49m\u001b[43msr\u001b[49m\u001b[43m,\u001b[49m\u001b[43m \u001b[49m\u001b[43mtitle\u001b[49m\u001b[43m)\u001b[49m\n\u001b[1;32m      7\u001b[0m Audio(path)\n",
      "Cell \u001b[0;32mIn[29], line 6\u001b[0m, in \u001b[0;36mcreate_waveplot\u001b[0;34m(y, sr, title)\u001b[0m\n\u001b[1;32m      4\u001b[0m plt\u001b[38;5;241m.\u001b[39mfigure(figsize\u001b[38;5;241m=\u001b[39m(\u001b[38;5;241m8\u001b[39m, \u001b[38;5;241m2\u001b[39m))\n\u001b[1;32m      5\u001b[0m plt\u001b[38;5;241m.\u001b[39mtitle(title)\n\u001b[0;32m----> 6\u001b[0m \u001b[43mlibrosa\u001b[49m\u001b[38;5;241;43m.\u001b[39;49m\u001b[43mdisplay\u001b[49m\u001b[38;5;241m.\u001b[39mwaveshow(y, sr\u001b[38;5;241m=\u001b[39msr)\n\u001b[1;32m      7\u001b[0m plt\u001b[38;5;241m.\u001b[39mshow()\n",
      "\u001b[0;31mAttributeError\u001b[0m: module 'librosa' has no attribute 'display'"
     ]
    },
    {
     "data": {
      "image/png": "[encoded data removed]",
      "text/plain": [
       "<Figure size 800x200 with 1 Axes>"
      ]
     },
     "metadata": {},
     "output_type": "display_data"
    }
   ],
   "source": [
    "emotion_label = 'sad'\n",
    "title = f\"Waveplot for {emotion_label} emotion\"\n",
    "path = np.array(df.path[df.emotion == emotion_label])[1]\n",
    "y, sr = librosa.load(path)\n",
    "\n",
    "create_waveplot(y, sr, title)\n",
    "Audio(path)"
   ]
  },
  {
   "cell_type": "markdown",
   "metadata": {},
   "source": [
    "# 3. Preprocess\n",
    "\n",
    "The following steps will be followed to preprocess the audio: \n",
    "\n",
    "1. Get an array of samples\n",
    "2. Trim the silence  \n",
    "3. Padding for equal length"
   ]
  },
  {
   "cell_type": "code",
   "execution_count": 33,
   "metadata": {
    "execution": {
     "iopub.execute_input": "2023-07-01T03:01:37.090944Z",
     "iopub.status.busy": "2023-07-01T03:01:37.0901Z",
     "iopub.status.idle": "2023-07-01T03:01:37.116461Z",
     "shell.execute_reply": "2023-07-01T03:01:37.115428Z",
     "shell.execute_reply.started": "2023-07-01T03:01:37.090903Z"
    }
   },
   "outputs": [],
   "source": [
    "from pydub import AudioSegment, effects"
   ]
  },
  {
   "cell_type": "code",
   "execution_count": 32,
   "metadata": {},
   "outputs": [
    {
     "name": "stdout",
     "output_type": "stream",
     "text": [
      "Collecting pydub\n",
      "  Downloading pydub-0.25.1-py2.py3-none-any.whl (32 kB)\n",
      "Installing collected packages: pydub\n",
      "Successfully installed pydub-0.25.1\n"
     ]
    }
   ],
   "source": [
    "!pip install pydub"
   ]
  },
  {
   "cell_type": "code",
   "execution_count": 34,
   "metadata": {
    "execution": {
     "iopub.execute_input": "2023-07-01T03:01:37.118706Z",
     "iopub.status.busy": "2023-07-01T03:01:37.118088Z",
     "iopub.status.idle": "2023-07-01T03:01:37.127269Z",
     "shell.execute_reply": "2023-07-01T03:01:37.125154Z",
     "shell.execute_reply.started": "2023-07-01T03:01:37.118664Z"
    }
   },
   "outputs": [],
   "source": [
    "def preprocess_audio(path):\n",
    "    _, sr = librosa.load(path)\n",
    "    raw_audio = AudioSegment.from_file(path)\n",
    "    \n",
    "    samples = np.array(raw_audio.get_array_of_samples(), dtype='float32')\n",
    "    trimmed, _ = librosa.effects.trim(samples, top_db=25)\n",
    "    padded = np.pad(trimmed, (0, 180000-len(trimmed)), 'constant')\n",
    "    return padded, sr"
   ]
  },
  {
   "cell_type": "code",
   "execution_count": 35,
   "metadata": {
    "execution": {
     "iopub.execute_input": "2023-07-01T03:01:37.130132Z",
     "iopub.status.busy": "2023-07-01T03:01:37.129335Z",
     "iopub.status.idle": "2023-07-01T03:01:37.138314Z",
     "shell.execute_reply": "2023-07-01T03:01:37.137501Z",
     "shell.execute_reply.started": "2023-07-01T03:01:37.130056Z"
    }
   },
   "outputs": [],
   "source": [
    "emotion_dic = {\n",
    "    'neutral' : 0,\n",
    "    'happy'   : 1,\n",
    "    'sad'     : 2, \n",
    "    'angry'   : 3, \n",
    "    'fear'    : 4, \n",
    "    'disgust' : 5\n",
    "}\n",
    "\n",
    "def encode(label):\n",
    "    return emotion_dic.get(label)"
   ]
  },
  {
   "cell_type": "markdown",
   "metadata": {},
   "source": [
    "# 4. Extract features\n",
    "\n",
    "We will only extract these features: \n",
    "\n",
    "1. Mel-Frequency Cepstral Coefficients: captures the shape of the spectral envelope of a signal\n",
    "2. Zero Crossing Rate: captures the number of times a signal changes sign per second\n",
    "3. Root Mean Square Energy: captures the root mean square amplitude of the audio signal"
   ]
  },
  {
   "cell_type": "code",
   "execution_count": 36,
   "metadata": {
    "execution": {
     "iopub.execute_input": "2023-07-01T03:01:37.140656Z",
     "iopub.status.busy": "2023-07-01T03:01:37.139876Z"
    }
   },
   "outputs": [
    {
     "name": "stdout",
     "output_type": "stream",
     "text": [
      "Failed for path: /Users/arushtripathi/Downloads/sentiment-predictor-for-stress-detection-main/Audio_Speech_Actors_01-24/Actor_20/03-01-06-01-01-02-20.wav\n"
     ]
    }
   ],
   "source": [
    "zcr_list = []\n",
    "rms_list = []\n",
    "mfccs_list = []\n",
    "emotion_list = []\n",
    "\n",
    "FRAME_LENGTH = 2048\n",
    "HOP_LENGTH = 512\n",
    "\n",
    "for row in df.itertuples(index=False):\n",
    "    try: \n",
    "        y, sr = preprocess_audio(row.path)\n",
    "\n",
    "        zcr = librosa.feature.zero_crossing_rate(y, frame_length=FRAME_LENGTH, hop_length=HOP_LENGTH)\n",
    "        rms = librosa.feature.rms(y=y, frame_length=FRAME_LENGTH, hop_length=HOP_LENGTH)\n",
    "        mfccs = librosa.feature.mfcc(y=y, sr=sr, n_mfcc=13, hop_length=HOP_LENGTH)\n",
    "\n",
    "        zcr_list.append(zcr)\n",
    "        rms_list.append(rms)\n",
    "        mfccs_list.append(mfccs)\n",
    "\n",
    "        emotion_list.append(encode(row.emotion))\n",
    "    except:\n",
    "        print(f\"Failed for path: {row.path}\")"
   ]
  },
  {
   "cell_type": "code",
   "execution_count": 37,
   "metadata": {},
   "outputs": [],
   "source": [
    "X = np.concatenate((\n",
    "    np.swapaxes(zcr_list, 1, 2), \n",
    "    np.swapaxes(rms_list, 1, 2), \n",
    "    np.swapaxes(mfccs_list, 1, 2)), \n",
    "    axis=2\n",
    ")\n",
    "X = X.astype('float32')\n",
    "\n",
    "y = np.asarray(emotion_list)\n",
    "y = np.expand_dims(y, axis=1).astype('int8')"
   ]
  },
  {
   "cell_type": "markdown",
   "metadata": {},
   "source": [
    "# 5. Build a LSTM\n",
    "\n",
    "Before building the model, we will have to setup the data. LSTM are great for sequences.  "
   ]
  },
  {
   "cell_type": "code",
   "execution_count": 38,
   "metadata": {},
   "outputs": [],
   "source": [
    "from sklearn.model_selection import train_test_split\n",
    "from tensorflow.keras.utils import to_categorical"
   ]
  },
  {
   "cell_type": "code",
   "execution_count": 39,
   "metadata": {},
   "outputs": [],
   "source": [
    "X_train, X_to_split, y_train, y_to_split = train_test_split(X, y, test_size=0.12, random_state=1)\n",
    "X_val, X_test, y_val, y_test = train_test_split(X_to_split, y_to_split, test_size=0.3, random_state=1)\n",
    "\n",
    "y_train_class = to_categorical(y_train, 6)\n",
    "y_val_class = to_categorical(y_val, 6)"
   ]
  },
  {
   "cell_type": "code",
   "execution_count": 40,
   "metadata": {},
   "outputs": [],
   "source": [
    "from keras.models import Sequential\n",
    "from keras import layers, optimizers, callbacks"
   ]
  },
  {
   "cell_type": "code",
   "execution_count": 41,
   "metadata": {},
   "outputs": [
    {
     "name": "stdout",
     "output_type": "stream",
     "text": [
      "Model: \"sequential\"\n",
      "_________________________________________________________________\n",
      " Layer (type)                Output Shape              Param #   \n",
      "=================================================================\n",
      " lstm (LSTM)                 (None, 352, 64)           20480     \n",
      "                                                                 \n",
      " lstm_1 (LSTM)               (None, 64)                33024     \n",
      "                                                                 \n",
      " dense (Dense)               (None, 6)                 390       \n",
      "                                                                 \n",
      "=================================================================\n",
      "Total params: 53894 (210.52 KB)\n",
      "Trainable params: 53894 (210.52 KB)\n",
      "Non-trainable params: 0 (0.00 Byte)\n",
      "_________________________________________________________________\n",
      "None\n"
     ]
    }
   ],
   "source": [
    "MODEL = Sequential()\n",
    "MODEL.add(layers.LSTM(64, return_sequences=True, input_shape=(X.shape[1:3])))\n",
    "MODEL.add(layers.LSTM(64))\n",
    "MODEL.add(layers.Dense(6, activation='softmax'))\n",
    "\n",
    "print(MODEL.summary())"
   ]
  },
  {
   "cell_type": "code",
   "execution_count": 42,
   "metadata": {},
   "outputs": [
    {
     "name": "stdout",
     "output_type": "stream",
     "text": [
      "Epoch 1/200\n",
      "461/461 [==============================] - 40s 84ms/step - loss: 1.5052 - categorical_accuracy: 0.3535 - val_loss: 1.4129 - val_categorical_accuracy: 0.4356\n",
      "Epoch 2/200\n",
      "461/461 [==============================] - 39s 84ms/step - loss: 1.3382 - categorical_accuracy: 0.4403 - val_loss: 1.2771 - val_categorical_accuracy: 0.4470\n",
      "Epoch 3/200\n",
      "461/461 [==============================] - 39s 84ms/step - loss: 1.1825 - categorical_accuracy: 0.5029 - val_loss: 1.0689 - val_categorical_accuracy: 0.5682\n",
      "Epoch 4/200\n",
      "461/461 [==============================] - 39s 84ms/step - loss: 1.0775 - categorical_accuracy: 0.5756 - val_loss: 1.1067 - val_categorical_accuracy: 0.5303\n",
      "Epoch 5/200\n",
      "461/461 [==============================] - 39s 84ms/step - loss: 1.0181 - categorical_accuracy: 0.5832 - val_loss: 0.9461 - val_categorical_accuracy: 0.6061\n",
      "Epoch 6/200\n",
      "461/461 [==============================] - 39s 84ms/step - loss: 0.9762 - categorical_accuracy: 0.6161 - val_loss: 1.0116 - val_categorical_accuracy: 0.6553\n",
      "Epoch 7/200\n",
      "461/461 [==============================] - 39s 84ms/step - loss: 0.9360 - categorical_accuracy: 0.6433 - val_loss: 1.0617 - val_categorical_accuracy: 0.6174\n",
      "Epoch 8/200\n",
      "461/461 [==============================] - 39s 84ms/step - loss: 0.9191 - categorical_accuracy: 0.6534 - val_loss: 0.9507 - val_categorical_accuracy: 0.6288\n",
      "Epoch 9/200\n",
      "461/461 [==============================] - 39s 84ms/step - loss: 0.8779 - categorical_accuracy: 0.6733 - val_loss: 0.8381 - val_categorical_accuracy: 0.7083\n",
      "Epoch 10/200\n",
      "461/461 [==============================] - 39s 84ms/step - loss: 0.8291 - categorical_accuracy: 0.6928 - val_loss: 0.8765 - val_categorical_accuracy: 0.6970\n",
      "Epoch 11/200\n",
      "461/461 [==============================] - 39s 84ms/step - loss: 0.7677 - categorical_accuracy: 0.7174 - val_loss: 0.8267 - val_categorical_accuracy: 0.7008\n",
      "Epoch 12/200\n",
      "461/461 [==============================] - 39s 84ms/step - loss: 0.7881 - categorical_accuracy: 0.7091 - val_loss: 0.9369 - val_categorical_accuracy: 0.6742\n",
      "Epoch 13/200\n",
      "461/461 [==============================] - 39s 84ms/step - loss: 0.7265 - categorical_accuracy: 0.7337 - val_loss: 0.8074 - val_categorical_accuracy: 0.7348\n",
      "Epoch 14/200\n",
      "461/461 [==============================] - 39s 84ms/step - loss: 0.6907 - categorical_accuracy: 0.7514 - val_loss: 0.8124 - val_categorical_accuracy: 0.7197\n",
      "Epoch 15/200\n",
      "461/461 [==============================] - 39s 84ms/step - loss: 0.6853 - categorical_accuracy: 0.7554 - val_loss: 0.6957 - val_categorical_accuracy: 0.7576\n",
      "Epoch 16/200\n",
      "461/461 [==============================] - 39s 84ms/step - loss: 0.6492 - categorical_accuracy: 0.7786 - val_loss: 0.9318 - val_categorical_accuracy: 0.6667\n",
      "Epoch 17/200\n",
      "461/461 [==============================] - 39s 84ms/step - loss: 0.6425 - categorical_accuracy: 0.7706 - val_loss: 0.6684 - val_categorical_accuracy: 0.7652\n",
      "Epoch 18/200\n",
      "461/461 [==============================] - 39s 84ms/step - loss: 0.6263 - categorical_accuracy: 0.7793 - val_loss: 0.7534 - val_categorical_accuracy: 0.7273\n",
      "Epoch 19/200\n",
      "461/461 [==============================] - 39s 84ms/step - loss: 0.6004 - categorical_accuracy: 0.7764 - val_loss: 0.6860 - val_categorical_accuracy: 0.7614\n",
      "Epoch 20/200\n",
      "461/461 [==============================] - 39s 84ms/step - loss: 0.6091 - categorical_accuracy: 0.7786 - val_loss: 0.6857 - val_categorical_accuracy: 0.7727\n",
      "Epoch 21/200\n",
      "461/461 [==============================] - 39s 84ms/step - loss: 0.5947 - categorical_accuracy: 0.7804 - val_loss: 0.7401 - val_categorical_accuracy: 0.7235\n",
      "Epoch 22/200\n",
      "461/461 [==============================] - 39s 84ms/step - loss: 0.6321 - categorical_accuracy: 0.7797 - val_loss: 0.7789 - val_categorical_accuracy: 0.7614\n",
      "Epoch 23/200\n",
      "461/461 [==============================] - 39s 84ms/step - loss: 0.6224 - categorical_accuracy: 0.7800 - val_loss: 0.7555 - val_categorical_accuracy: 0.7538\n",
      "Epoch 24/200\n",
      "461/461 [==============================] - 39s 84ms/step - loss: 0.6307 - categorical_accuracy: 0.7728 - val_loss: 0.6282 - val_categorical_accuracy: 0.7652\n",
      "Epoch 25/200\n",
      "461/461 [==============================] - 39s 84ms/step - loss: 0.6319 - categorical_accuracy: 0.7703 - val_loss: 0.8842 - val_categorical_accuracy: 0.7083\n",
      "Epoch 26/200\n",
      "461/461 [==============================] - 39s 84ms/step - loss: 0.5870 - categorical_accuracy: 0.7880 - val_loss: 0.5651 - val_categorical_accuracy: 0.8106\n",
      "Epoch 27/200\n",
      "461/461 [==============================] - 39s 84ms/step - loss: 0.6066 - categorical_accuracy: 0.7862 - val_loss: 0.7419 - val_categorical_accuracy: 0.7197\n",
      "Epoch 28/200\n",
      "461/461 [==============================] - 39s 84ms/step - loss: 0.5929 - categorical_accuracy: 0.7920 - val_loss: 0.7404 - val_categorical_accuracy: 0.7386\n",
      "Epoch 29/200\n",
      "461/461 [==============================] - 39s 84ms/step - loss: 0.5719 - categorical_accuracy: 0.7981 - val_loss: 0.6808 - val_categorical_accuracy: 0.7348\n",
      "Epoch 30/200\n",
      "461/461 [==============================] - 39s 84ms/step - loss: 0.5750 - categorical_accuracy: 0.7938 - val_loss: 0.5977 - val_categorical_accuracy: 0.7614\n",
      "Epoch 31/200\n",
      "461/461 [==============================] - 39s 84ms/step - loss: 0.5913 - categorical_accuracy: 0.7884 - val_loss: 0.6402 - val_categorical_accuracy: 0.7879\n",
      "Epoch 32/200\n",
      "461/461 [==============================] - 39s 84ms/step - loss: 0.5869 - categorical_accuracy: 0.7891 - val_loss: 0.6130 - val_categorical_accuracy: 0.7992\n",
      "Epoch 33/200\n",
      "461/461 [==============================] - 39s 84ms/step - loss: 0.5294 - categorical_accuracy: 0.8072 - val_loss: 0.6272 - val_categorical_accuracy: 0.7803\n",
      "Epoch 34/200\n",
      "461/461 [==============================] - 39s 84ms/step - loss: 0.5206 - categorical_accuracy: 0.8158 - val_loss: 0.5893 - val_categorical_accuracy: 0.8106\n",
      "Epoch 35/200\n",
      "461/461 [==============================] - 39s 85ms/step - loss: 0.5060 - categorical_accuracy: 0.8202 - val_loss: 0.5220 - val_categorical_accuracy: 0.8258\n",
      "Epoch 36/200\n",
      "461/461 [==============================] - 39s 84ms/step - loss: 0.4991 - categorical_accuracy: 0.8173 - val_loss: 0.7021 - val_categorical_accuracy: 0.7386\n",
      "Epoch 37/200\n",
      "461/461 [==============================] - 39s 84ms/step - loss: 0.4937 - categorical_accuracy: 0.8191 - val_loss: 0.5921 - val_categorical_accuracy: 0.7689\n",
      "Epoch 38/200\n",
      "461/461 [==============================] - 39s 84ms/step - loss: 0.4952 - categorical_accuracy: 0.8296 - val_loss: 0.5745 - val_categorical_accuracy: 0.8106\n",
      "Epoch 39/200\n",
      "461/461 [==============================] - 39s 84ms/step - loss: 0.5170 - categorical_accuracy: 0.8187 - val_loss: 0.6848 - val_categorical_accuracy: 0.7614\n",
      "Epoch 40/200\n",
      "461/461 [==============================] - 39s 84ms/step - loss: 0.5523 - categorical_accuracy: 0.8032 - val_loss: 0.5967 - val_categorical_accuracy: 0.7879\n",
      "Epoch 41/200\n",
      "461/461 [==============================] - 39s 84ms/step - loss: 0.5844 - categorical_accuracy: 0.7894 - val_loss: 0.5847 - val_categorical_accuracy: 0.7992\n",
      "Epoch 42/200\n",
      "461/461 [==============================] - 39s 84ms/step - loss: 0.5227 - categorical_accuracy: 0.8122 - val_loss: 0.5677 - val_categorical_accuracy: 0.8030\n",
      "Epoch 43/200\n",
      "461/461 [==============================] - 39s 84ms/step - loss: 0.5176 - categorical_accuracy: 0.8151 - val_loss: 0.5031 - val_categorical_accuracy: 0.8182\n",
      "Epoch 44/200\n",
      "461/461 [==============================] - 39s 85ms/step - loss: 0.5141 - categorical_accuracy: 0.8155 - val_loss: 0.5088 - val_categorical_accuracy: 0.8144\n",
      "Epoch 45/200\n",
      "461/461 [==============================] - 39s 85ms/step - loss: 0.5123 - categorical_accuracy: 0.8140 - val_loss: 0.5721 - val_categorical_accuracy: 0.7992\n",
      "Epoch 46/200\n",
      "461/461 [==============================] - 39s 84ms/step - loss: 0.4757 - categorical_accuracy: 0.8325 - val_loss: 0.6322 - val_categorical_accuracy: 0.8030\n",
      "Epoch 47/200\n",
      "461/461 [==============================] - 39s 84ms/step - loss: 0.4966 - categorical_accuracy: 0.8169 - val_loss: 0.5164 - val_categorical_accuracy: 0.7992\n",
      "Epoch 48/200\n",
      "461/461 [==============================] - 39s 85ms/step - loss: 0.4703 - categorical_accuracy: 0.8278 - val_loss: 0.4945 - val_categorical_accuracy: 0.8220\n",
      "Epoch 49/200\n",
      "461/461 [==============================] - 42s 90ms/step - loss: 0.4351 - categorical_accuracy: 0.8437 - val_loss: 0.4912 - val_categorical_accuracy: 0.8220\n",
      "Epoch 50/200\n",
      "461/461 [==============================] - 38s 83ms/step - loss: 0.4819 - categorical_accuracy: 0.8314 - val_loss: 0.6017 - val_categorical_accuracy: 0.7727\n",
      "Epoch 51/200\n",
      "461/461 [==============================] - 38s 83ms/step - loss: 0.4861 - categorical_accuracy: 0.8205 - val_loss: 0.5348 - val_categorical_accuracy: 0.8030\n",
      "Epoch 52/200\n",
      "461/461 [==============================] - 38s 83ms/step - loss: 0.4383 - categorical_accuracy: 0.8390 - val_loss: 0.5160 - val_categorical_accuracy: 0.8106\n",
      "Epoch 53/200\n",
      "461/461 [==============================] - 38s 83ms/step - loss: 0.4425 - categorical_accuracy: 0.8386 - val_loss: 0.5336 - val_categorical_accuracy: 0.7955\n",
      "Epoch 54/200\n",
      "461/461 [==============================] - 39s 84ms/step - loss: 0.4417 - categorical_accuracy: 0.8386 - val_loss: 0.5516 - val_categorical_accuracy: 0.8068\n",
      "Epoch 55/200\n",
      "461/461 [==============================] - 39s 84ms/step - loss: 0.4739 - categorical_accuracy: 0.8285 - val_loss: 0.5177 - val_categorical_accuracy: 0.8220\n",
      "Epoch 56/200\n",
      "461/461 [==============================] - 39s 84ms/step - loss: 0.4282 - categorical_accuracy: 0.8462 - val_loss: 0.5155 - val_categorical_accuracy: 0.8333\n",
      "Epoch 57/200\n",
      "461/461 [==============================] - 38s 83ms/step - loss: 0.4469 - categorical_accuracy: 0.8386 - val_loss: 0.5102 - val_categorical_accuracy: 0.8030\n",
      "Epoch 58/200\n",
      "461/461 [==============================] - 39s 84ms/step - loss: 0.4536 - categorical_accuracy: 0.8397 - val_loss: 0.5608 - val_categorical_accuracy: 0.7992\n",
      "Epoch 59/200\n",
      "461/461 [==============================] - 38s 83ms/step - loss: 0.4534 - categorical_accuracy: 0.8357 - val_loss: 0.4994 - val_categorical_accuracy: 0.8447\n",
      "Epoch 60/200\n",
      "461/461 [==============================] - 39s 84ms/step - loss: 0.4386 - categorical_accuracy: 0.8444 - val_loss: 0.6182 - val_categorical_accuracy: 0.7803\n",
      "Epoch 61/200\n",
      "461/461 [==============================] - 39s 84ms/step - loss: 0.4152 - categorical_accuracy: 0.8462 - val_loss: 0.4732 - val_categorical_accuracy: 0.8333\n",
      "Epoch 62/200\n",
      "461/461 [==============================] - 39s 84ms/step - loss: 0.4000 - categorical_accuracy: 0.8553 - val_loss: 0.4507 - val_categorical_accuracy: 0.8447\n",
      "Epoch 63/200\n",
      "461/461 [==============================] - 39s 84ms/step - loss: 0.4195 - categorical_accuracy: 0.8524 - val_loss: 0.4597 - val_categorical_accuracy: 0.8182\n",
      "Epoch 64/200\n",
      "461/461 [==============================] - 38s 83ms/step - loss: 0.3873 - categorical_accuracy: 0.8622 - val_loss: 0.4943 - val_categorical_accuracy: 0.8333\n",
      "Epoch 65/200\n",
      "461/461 [==============================] - 38s 83ms/step - loss: 0.4213 - categorical_accuracy: 0.8466 - val_loss: 0.4927 - val_categorical_accuracy: 0.7992\n",
      "Epoch 66/200\n",
      "461/461 [==============================] - 39s 84ms/step - loss: 0.4076 - categorical_accuracy: 0.8480 - val_loss: 0.4037 - val_categorical_accuracy: 0.8447\n",
      "Epoch 67/200\n",
      "461/461 [==============================] - 38s 83ms/step - loss: 0.3957 - categorical_accuracy: 0.8593 - val_loss: 0.4674 - val_categorical_accuracy: 0.8295\n",
      "Epoch 68/200\n",
      "461/461 [==============================] - 38s 83ms/step - loss: 0.3928 - categorical_accuracy: 0.8603 - val_loss: 0.5800 - val_categorical_accuracy: 0.7992\n",
      "Epoch 69/200\n",
      "461/461 [==============================] - 39s 84ms/step - loss: 0.4043 - categorical_accuracy: 0.8564 - val_loss: 0.6009 - val_categorical_accuracy: 0.8333\n",
      "Epoch 70/200\n",
      "461/461 [==============================] - 39s 84ms/step - loss: 0.3941 - categorical_accuracy: 0.8596 - val_loss: 0.5085 - val_categorical_accuracy: 0.8106\n",
      "Epoch 71/200\n",
      "461/461 [==============================] - 39s 84ms/step - loss: 0.4069 - categorical_accuracy: 0.8567 - val_loss: 0.4686 - val_categorical_accuracy: 0.8409\n",
      "Epoch 72/200\n",
      "461/461 [==============================] - 39s 85ms/step - loss: 0.3757 - categorical_accuracy: 0.8622 - val_loss: 0.4606 - val_categorical_accuracy: 0.8333\n",
      "Epoch 73/200\n",
      "461/461 [==============================] - 38s 83ms/step - loss: 0.3777 - categorical_accuracy: 0.8647 - val_loss: 0.4957 - val_categorical_accuracy: 0.8371\n",
      "Epoch 74/200\n",
      "461/461 [==============================] - 39s 84ms/step - loss: 0.4251 - categorical_accuracy: 0.8495 - val_loss: 0.5063 - val_categorical_accuracy: 0.8182\n",
      "Epoch 75/200\n",
      "461/461 [==============================] - 39s 84ms/step - loss: 0.4084 - categorical_accuracy: 0.8571 - val_loss: 0.5651 - val_categorical_accuracy: 0.8030\n",
      "Epoch 76/200\n",
      "461/461 [==============================] - 38s 83ms/step - loss: 0.3787 - categorical_accuracy: 0.8629 - val_loss: 0.4534 - val_categorical_accuracy: 0.8333\n",
      "Epoch 77/200\n",
      "461/461 [==============================] - 39s 84ms/step - loss: 0.3982 - categorical_accuracy: 0.8596 - val_loss: 0.6147 - val_categorical_accuracy: 0.8182\n",
      "Epoch 78/200\n",
      "461/461 [==============================] - 39s 85ms/step - loss: 0.4044 - categorical_accuracy: 0.8614 - val_loss: 0.5146 - val_categorical_accuracy: 0.8409\n",
      "Epoch 79/200\n",
      "461/461 [==============================] - 38s 83ms/step - loss: 0.3567 - categorical_accuracy: 0.8705 - val_loss: 0.5348 - val_categorical_accuracy: 0.8258\n",
      "Epoch 80/200\n",
      "461/461 [==============================] - 38s 83ms/step - loss: 0.3906 - categorical_accuracy: 0.8658 - val_loss: 0.5667 - val_categorical_accuracy: 0.8182\n",
      "Epoch 81/200\n",
      "461/461 [==============================] - 39s 84ms/step - loss: 0.3853 - categorical_accuracy: 0.8672 - val_loss: 0.5772 - val_categorical_accuracy: 0.7765\n",
      "Epoch 82/200\n",
      "461/461 [==============================] - 39s 84ms/step - loss: 0.3698 - categorical_accuracy: 0.8676 - val_loss: 0.6083 - val_categorical_accuracy: 0.7803\n",
      "Epoch 83/200\n",
      "461/461 [==============================] - 39s 84ms/step - loss: 0.4027 - categorical_accuracy: 0.8658 - val_loss: 0.4232 - val_categorical_accuracy: 0.8561\n",
      "Epoch 84/200\n",
      "461/461 [==============================] - 39s 85ms/step - loss: 0.3752 - categorical_accuracy: 0.8774 - val_loss: 0.4522 - val_categorical_accuracy: 0.8333\n",
      "Epoch 85/200\n",
      "461/461 [==============================] - 39s 85ms/step - loss: 0.3937 - categorical_accuracy: 0.8679 - val_loss: 0.6136 - val_categorical_accuracy: 0.7955\n",
      "Epoch 86/200\n",
      "461/461 [==============================] - 39s 85ms/step - loss: 0.3696 - categorical_accuracy: 0.8665 - val_loss: 0.4056 - val_categorical_accuracy: 0.8447\n",
      "Epoch 87/200\n",
      "461/461 [==============================] - 39s 84ms/step - loss: 0.4205 - categorical_accuracy: 0.8593 - val_loss: 0.5990 - val_categorical_accuracy: 0.8106\n",
      "Epoch 88/200\n",
      "461/461 [==============================] - 39s 84ms/step - loss: 0.3881 - categorical_accuracy: 0.8687 - val_loss: 0.4346 - val_categorical_accuracy: 0.8561\n",
      "Epoch 89/200\n",
      "461/461 [==============================] - 39s 84ms/step - loss: 0.3757 - categorical_accuracy: 0.8716 - val_loss: 0.4256 - val_categorical_accuracy: 0.8561\n",
      "Epoch 90/200\n",
      "461/461 [==============================] - 39s 85ms/step - loss: 0.3590 - categorical_accuracy: 0.8784 - val_loss: 0.5916 - val_categorical_accuracy: 0.8258\n",
      "Epoch 91/200\n",
      "461/461 [==============================] - 39s 85ms/step - loss: 0.3871 - categorical_accuracy: 0.8679 - val_loss: 0.5017 - val_categorical_accuracy: 0.8485\n",
      "Epoch 92/200\n",
      "461/461 [==============================] - 39s 84ms/step - loss: 0.3919 - categorical_accuracy: 0.8575 - val_loss: 0.4985 - val_categorical_accuracy: 0.8523\n",
      "Epoch 93/200\n",
      "461/461 [==============================] - 39s 85ms/step - loss: 0.3894 - categorical_accuracy: 0.8658 - val_loss: 0.4760 - val_categorical_accuracy: 0.8409\n",
      "Epoch 94/200\n",
      "461/461 [==============================] - 39s 84ms/step - loss: 0.3908 - categorical_accuracy: 0.8669 - val_loss: 0.4922 - val_categorical_accuracy: 0.8295\n",
      "Epoch 95/200\n",
      "461/461 [==============================] - 39s 84ms/step - loss: 0.3739 - categorical_accuracy: 0.8694 - val_loss: 0.5850 - val_categorical_accuracy: 0.7992\n",
      "Epoch 96/200\n",
      "461/461 [==============================] - 39s 84ms/step - loss: 0.3959 - categorical_accuracy: 0.8582 - val_loss: 0.5234 - val_categorical_accuracy: 0.7992\n",
      "Epoch 97/200\n"
     ]
    },
    {
     "name": "stdout",
     "output_type": "stream",
     "text": [
      "461/461 [==============================] - 2942s 6s/step - loss: 0.4242 - categorical_accuracy: 0.8596 - val_loss: 0.6284 - val_categorical_accuracy: 0.8106\n",
      "Epoch 98/200\n",
      "461/461 [==============================] - 3024s 7s/step - loss: 0.3775 - categorical_accuracy: 0.8672 - val_loss: 0.4186 - val_categorical_accuracy: 0.8485\n",
      "Epoch 99/200\n",
      "461/461 [==============================] - 6059s 13s/step - loss: 0.3627 - categorical_accuracy: 0.8716 - val_loss: 0.4985 - val_categorical_accuracy: 0.8333\n",
      "Epoch 100/200\n",
      "461/461 [==============================] - 3859s 8s/step - loss: 0.3604 - categorical_accuracy: 0.8752 - val_loss: 0.5107 - val_categorical_accuracy: 0.8182\n",
      "Epoch 101/200\n",
      "461/461 [==============================] - 489s 1s/step - loss: 0.3498 - categorical_accuracy: 0.8799 - val_loss: 0.5113 - val_categorical_accuracy: 0.8333\n",
      "Epoch 102/200\n",
      "461/461 [==============================] - 38s 83ms/step - loss: 0.3447 - categorical_accuracy: 0.8835 - val_loss: 0.6252 - val_categorical_accuracy: 0.8295\n",
      "Epoch 103/200\n",
      "461/461 [==============================] - 54s 118ms/step - loss: 0.3379 - categorical_accuracy: 0.8857 - val_loss: 0.4550 - val_categorical_accuracy: 0.8371\n",
      "Epoch 104/200\n",
      "461/461 [==============================] - 39s 84ms/step - loss: 0.3462 - categorical_accuracy: 0.8875 - val_loss: 0.6637 - val_categorical_accuracy: 0.7955\n",
      "Epoch 105/200\n",
      "461/461 [==============================] - 39s 84ms/step - loss: 0.3283 - categorical_accuracy: 0.8810 - val_loss: 0.4396 - val_categorical_accuracy: 0.8636\n",
      "Epoch 106/200\n",
      "461/461 [==============================] - 38s 83ms/step - loss: 0.3439 - categorical_accuracy: 0.8723 - val_loss: 0.4009 - val_categorical_accuracy: 0.8485\n",
      "Epoch 107/200\n",
      "461/461 [==============================] - 39s 84ms/step - loss: 0.3204 - categorical_accuracy: 0.8882 - val_loss: 0.6090 - val_categorical_accuracy: 0.8485\n",
      "Epoch 108/200\n",
      "461/461 [==============================] - 38s 83ms/step - loss: 0.3210 - categorical_accuracy: 0.8915 - val_loss: 0.5706 - val_categorical_accuracy: 0.8106\n",
      "Epoch 109/200\n",
      "461/461 [==============================] - 39s 84ms/step - loss: 0.3234 - categorical_accuracy: 0.8918 - val_loss: 0.4619 - val_categorical_accuracy: 0.8485\n",
      "Epoch 110/200\n",
      "461/461 [==============================] - 38s 83ms/step - loss: 0.3264 - categorical_accuracy: 0.8821 - val_loss: 0.5749 - val_categorical_accuracy: 0.8371\n",
      "Epoch 111/200\n",
      "461/461 [==============================] - 38s 83ms/step - loss: 0.3039 - categorical_accuracy: 0.8925 - val_loss: 0.7686 - val_categorical_accuracy: 0.7727\n",
      "Epoch 112/200\n",
      "461/461 [==============================] - 39s 84ms/step - loss: 0.3441 - categorical_accuracy: 0.8849 - val_loss: 0.4437 - val_categorical_accuracy: 0.8636\n",
      "Epoch 113/200\n",
      "461/461 [==============================] - 38s 83ms/step - loss: 0.3333 - categorical_accuracy: 0.8871 - val_loss: 0.5984 - val_categorical_accuracy: 0.8371\n",
      "Epoch 114/200\n",
      "461/461 [==============================] - 39s 84ms/step - loss: 0.3265 - categorical_accuracy: 0.8864 - val_loss: 0.4445 - val_categorical_accuracy: 0.8409\n",
      "Epoch 115/200\n",
      "461/461 [==============================] - 476s 1s/step - loss: 0.3428 - categorical_accuracy: 0.8853 - val_loss: 0.5235 - val_categorical_accuracy: 0.8333\n",
      "Epoch 116/200\n",
      "461/461 [==============================] - 38s 83ms/step - loss: 0.3381 - categorical_accuracy: 0.8817 - val_loss: 0.4540 - val_categorical_accuracy: 0.8485\n",
      "Epoch 117/200\n",
      "461/461 [==============================] - 38s 83ms/step - loss: 0.3414 - categorical_accuracy: 0.8864 - val_loss: 0.5975 - val_categorical_accuracy: 0.8182\n",
      "Epoch 118/200\n",
      "461/461 [==============================] - 39s 84ms/step - loss: 0.3001 - categorical_accuracy: 0.8958 - val_loss: 0.5309 - val_categorical_accuracy: 0.8409\n",
      "Epoch 119/200\n",
      "461/461 [==============================] - 39s 85ms/step - loss: 0.3454 - categorical_accuracy: 0.8846 - val_loss: 0.4452 - val_categorical_accuracy: 0.8561\n",
      "Epoch 120/200\n",
      "461/461 [==============================] - 44s 96ms/step - loss: 0.3226 - categorical_accuracy: 0.8904 - val_loss: 0.4903 - val_categorical_accuracy: 0.8523\n",
      "Epoch 121/200\n",
      "461/461 [==============================] - 91s 197ms/step - loss: 0.3283 - categorical_accuracy: 0.8907 - val_loss: 0.5471 - val_categorical_accuracy: 0.8258\n",
      "Epoch 122/200\n",
      "461/461 [==============================] - 39s 84ms/step - loss: 0.3412 - categorical_accuracy: 0.8842 - val_loss: 0.5256 - val_categorical_accuracy: 0.8258\n",
      "Epoch 123/200\n",
      "461/461 [==============================] - 39s 84ms/step - loss: 0.3275 - categorical_accuracy: 0.8878 - val_loss: 0.4853 - val_categorical_accuracy: 0.8030\n",
      "Epoch 124/200\n",
      "461/461 [==============================] - 39s 84ms/step - loss: 0.2850 - categorical_accuracy: 0.8980 - val_loss: 0.4060 - val_categorical_accuracy: 0.8674\n",
      "Epoch 125/200\n",
      "461/461 [==============================] - 39s 84ms/step - loss: 0.3162 - categorical_accuracy: 0.8965 - val_loss: 0.4473 - val_categorical_accuracy: 0.8561\n",
      "Epoch 126/200\n",
      "461/461 [==============================] - 39s 84ms/step - loss: 0.3008 - categorical_accuracy: 0.8954 - val_loss: 0.4576 - val_categorical_accuracy: 0.8561\n",
      "Epoch 127/200\n",
      "461/461 [==============================] - 39s 85ms/step - loss: 0.2809 - categorical_accuracy: 0.9023 - val_loss: 0.6569 - val_categorical_accuracy: 0.8068\n",
      "Epoch 128/200\n",
      "461/461 [==============================] - 38s 83ms/step - loss: 0.2963 - categorical_accuracy: 0.8965 - val_loss: 0.4238 - val_categorical_accuracy: 0.8712\n",
      "Epoch 129/200\n",
      "461/461 [==============================] - 38s 83ms/step - loss: 0.2928 - categorical_accuracy: 0.9041 - val_loss: 0.3755 - val_categorical_accuracy: 0.8788\n",
      "Epoch 130/200\n",
      "461/461 [==============================] - 38s 83ms/step - loss: 0.3259 - categorical_accuracy: 0.8944 - val_loss: 0.4850 - val_categorical_accuracy: 0.8523\n",
      "Epoch 131/200\n",
      "461/461 [==============================] - 39s 84ms/step - loss: 0.3576 - categorical_accuracy: 0.8752 - val_loss: 0.3977 - val_categorical_accuracy: 0.8826\n",
      "Epoch 132/200\n",
      "461/461 [==============================] - 39s 84ms/step - loss: 0.2628 - categorical_accuracy: 0.9092 - val_loss: 0.4131 - val_categorical_accuracy: 0.8674\n",
      "Epoch 133/200\n",
      "461/461 [==============================] - 39s 84ms/step - loss: 0.2882 - categorical_accuracy: 0.8983 - val_loss: 0.5107 - val_categorical_accuracy: 0.8561\n",
      "Epoch 134/200\n",
      "461/461 [==============================] - 39s 85ms/step - loss: 0.2854 - categorical_accuracy: 0.9009 - val_loss: 0.3130 - val_categorical_accuracy: 0.8939\n",
      "Epoch 135/200\n",
      "461/461 [==============================] - 40s 86ms/step - loss: 0.3027 - categorical_accuracy: 0.8991 - val_loss: 0.8481 - val_categorical_accuracy: 0.7727\n",
      "Epoch 136/200\n",
      "461/461 [==============================] - 39s 85ms/step - loss: 0.3048 - categorical_accuracy: 0.8958 - val_loss: 0.5022 - val_categorical_accuracy: 0.8485\n",
      "Epoch 137/200\n",
      "461/461 [==============================] - 40s 86ms/step - loss: 0.2750 - categorical_accuracy: 0.9059 - val_loss: 0.4989 - val_categorical_accuracy: 0.8674\n",
      "Epoch 138/200\n",
      "461/461 [==============================] - 39s 85ms/step - loss: 0.3004 - categorical_accuracy: 0.8998 - val_loss: 0.4971 - val_categorical_accuracy: 0.8750\n",
      "Epoch 139/200\n",
      "461/461 [==============================] - 39s 84ms/step - loss: 0.3143 - categorical_accuracy: 0.8929 - val_loss: 0.5753 - val_categorical_accuracy: 0.8409\n",
      "Epoch 140/200\n",
      "461/461 [==============================] - 39s 84ms/step - loss: 0.3116 - categorical_accuracy: 0.8954 - val_loss: 0.5878 - val_categorical_accuracy: 0.8485\n",
      "Epoch 141/200\n",
      "461/461 [==============================] - 39s 84ms/step - loss: 0.3007 - categorical_accuracy: 0.8925 - val_loss: 0.5016 - val_categorical_accuracy: 0.8409\n",
      "Epoch 142/200\n",
      "461/461 [==============================] - 40s 86ms/step - loss: 0.2717 - categorical_accuracy: 0.9030 - val_loss: 0.5010 - val_categorical_accuracy: 0.8371\n",
      "Epoch 143/200\n",
      "461/461 [==============================] - 41s 90ms/step - loss: 0.2937 - categorical_accuracy: 0.8911 - val_loss: 0.6059 - val_categorical_accuracy: 0.8295\n",
      "Epoch 144/200\n",
      "461/461 [==============================] - 39s 84ms/step - loss: 0.3140 - categorical_accuracy: 0.8954 - val_loss: 0.6759 - val_categorical_accuracy: 0.8295\n"
     ]
    },
    {
     "name": "stdout",
     "output_type": "stream",
     "text": [
      "Epoch 145/200\n",
      "461/461 [==============================] - 39s 84ms/step - loss: 0.3170 - categorical_accuracy: 0.8944 - val_loss: 0.5686 - val_categorical_accuracy: 0.8371\n",
      "Epoch 146/200\n",
      "461/461 [==============================] - 39s 84ms/step - loss: 0.2976 - categorical_accuracy: 0.8991 - val_loss: 0.6235 - val_categorical_accuracy: 0.8409\n",
      "Epoch 147/200\n",
      "461/461 [==============================] - 38s 83ms/step - loss: 0.2796 - categorical_accuracy: 0.9048 - val_loss: 0.5769 - val_categorical_accuracy: 0.8598\n",
      "Epoch 148/200\n",
      "461/461 [==============================] - 39s 84ms/step - loss: 0.2905 - categorical_accuracy: 0.9001 - val_loss: 0.5096 - val_categorical_accuracy: 0.8258\n",
      "Epoch 149/200\n",
      "461/461 [==============================] - 38s 83ms/step - loss: 0.2714 - categorical_accuracy: 0.9099 - val_loss: 0.6183 - val_categorical_accuracy: 0.8220\n",
      "Epoch 150/200\n",
      "461/461 [==============================] - 38s 83ms/step - loss: 0.2720 - categorical_accuracy: 0.9052 - val_loss: 0.7363 - val_categorical_accuracy: 0.8409\n",
      "Epoch 151/200\n",
      "461/461 [==============================] - 38s 83ms/step - loss: 0.3207 - categorical_accuracy: 0.8958 - val_loss: 0.7548 - val_categorical_accuracy: 0.7765\n",
      "Epoch 152/200\n",
      "461/461 [==============================] - 38s 84ms/step - loss: 0.3006 - categorical_accuracy: 0.8965 - val_loss: 0.5123 - val_categorical_accuracy: 0.8485\n",
      "Epoch 153/200\n",
      "461/461 [==============================] - 39s 84ms/step - loss: 0.3218 - categorical_accuracy: 0.8886 - val_loss: 0.5210 - val_categorical_accuracy: 0.8750\n",
      "Epoch 154/200\n",
      "461/461 [==============================] - 192s 418ms/step - loss: 0.3168 - categorical_accuracy: 0.8886 - val_loss: 0.4728 - val_categorical_accuracy: 0.8333\n",
      "Epoch 155/200\n",
      "461/461 [==============================] - 39s 84ms/step - loss: 0.3394 - categorical_accuracy: 0.8868 - val_loss: 0.5297 - val_categorical_accuracy: 0.8447\n",
      "Epoch 156/200\n",
      "461/461 [==============================] - 39s 84ms/step - loss: 0.2766 - categorical_accuracy: 0.9048 - val_loss: 0.4908 - val_categorical_accuracy: 0.8523\n",
      "Epoch 157/200\n",
      "461/461 [==============================] - 39s 85ms/step - loss: 0.2720 - categorical_accuracy: 0.9056 - val_loss: 0.4483 - val_categorical_accuracy: 0.8523\n",
      "Epoch 158/200\n",
      "461/461 [==============================] - 154s 336ms/step - loss: 0.2840 - categorical_accuracy: 0.8987 - val_loss: 0.4990 - val_categorical_accuracy: 0.8750\n",
      "Epoch 159/200\n",
      "461/461 [==============================] - 39s 84ms/step - loss: 0.2958 - categorical_accuracy: 0.9023 - val_loss: 0.5314 - val_categorical_accuracy: 0.8561\n",
      "Epoch 160/200\n",
      "461/461 [==============================] - 39s 84ms/step - loss: 0.2748 - categorical_accuracy: 0.9056 - val_loss: 0.4802 - val_categorical_accuracy: 0.8902\n",
      "Epoch 161/200\n",
      "461/461 [==============================] - 39s 84ms/step - loss: 0.2463 - categorical_accuracy: 0.9168 - val_loss: 0.5555 - val_categorical_accuracy: 0.8561\n",
      "Epoch 162/200\n",
      "461/461 [==============================] - 38s 83ms/step - loss: 0.2731 - categorical_accuracy: 0.9027 - val_loss: 0.5865 - val_categorical_accuracy: 0.8561\n",
      "Epoch 163/200\n",
      "461/461 [==============================] - 39s 84ms/step - loss: 0.2547 - categorical_accuracy: 0.9114 - val_loss: 0.4573 - val_categorical_accuracy: 0.8674\n",
      "Epoch 164/200\n",
      "461/461 [==============================] - 676s 1s/step - loss: 0.2615 - categorical_accuracy: 0.9146 - val_loss: 0.5511 - val_categorical_accuracy: 0.8523\n",
      "Epoch 165/200\n",
      "461/461 [==============================] - 38s 82ms/step - loss: 0.3088 - categorical_accuracy: 0.9001 - val_loss: 0.6018 - val_categorical_accuracy: 0.8561\n",
      "Epoch 166/200\n",
      "461/461 [==============================] - 38s 83ms/step - loss: 0.3111 - categorical_accuracy: 0.8944 - val_loss: 0.4376 - val_categorical_accuracy: 0.8712\n",
      "Epoch 167/200\n",
      "461/461 [==============================] - 38s 83ms/step - loss: 0.2462 - categorical_accuracy: 0.9121 - val_loss: 0.3774 - val_categorical_accuracy: 0.8826\n",
      "Epoch 168/200\n",
      "461/461 [==============================] - 39s 84ms/step - loss: 0.2672 - categorical_accuracy: 0.9121 - val_loss: 0.4371 - val_categorical_accuracy: 0.8712\n",
      "Epoch 169/200\n",
      "461/461 [==============================] - 39s 84ms/step - loss: 0.2837 - categorical_accuracy: 0.9070 - val_loss: 0.6452 - val_categorical_accuracy: 0.8030\n",
      "Epoch 170/200\n",
      "461/461 [==============================] - 39s 84ms/step - loss: 0.3063 - categorical_accuracy: 0.8940 - val_loss: 0.5653 - val_categorical_accuracy: 0.8523\n",
      "Epoch 171/200\n",
      "461/461 [==============================] - 38s 83ms/step - loss: 0.2676 - categorical_accuracy: 0.9038 - val_loss: 0.5468 - val_categorical_accuracy: 0.8409\n",
      "Epoch 172/200\n",
      "461/461 [==============================] - 39s 84ms/step - loss: 0.2987 - categorical_accuracy: 0.8965 - val_loss: 0.6244 - val_categorical_accuracy: 0.8295\n",
      "Epoch 173/200\n",
      "461/461 [==============================] - 38s 83ms/step - loss: 0.3164 - categorical_accuracy: 0.8958 - val_loss: 0.5522 - val_categorical_accuracy: 0.8333\n",
      "Epoch 174/200\n",
      "461/461 [==============================] - 38s 83ms/step - loss: 0.3171 - categorical_accuracy: 0.8911 - val_loss: 0.5110 - val_categorical_accuracy: 0.8447\n",
      "Epoch 175/200\n",
      "461/461 [==============================] - 39s 84ms/step - loss: 0.2947 - categorical_accuracy: 0.8987 - val_loss: 0.5320 - val_categorical_accuracy: 0.8598\n",
      "Epoch 176/200\n",
      "461/461 [==============================] - 38s 83ms/step - loss: 0.2946 - categorical_accuracy: 0.8965 - val_loss: 0.5931 - val_categorical_accuracy: 0.8182\n",
      "Epoch 177/200\n",
      "461/461 [==============================] - 39s 84ms/step - loss: 0.3255 - categorical_accuracy: 0.8893 - val_loss: 0.4568 - val_categorical_accuracy: 0.8712\n",
      "Epoch 178/200\n",
      "461/461 [==============================] - 39s 85ms/step - loss: 0.2898 - categorical_accuracy: 0.9067 - val_loss: 0.4902 - val_categorical_accuracy: 0.8598\n",
      "Epoch 179/200\n",
      "461/461 [==============================] - 39s 84ms/step - loss: 0.3178 - categorical_accuracy: 0.8922 - val_loss: 0.5596 - val_categorical_accuracy: 0.8182\n",
      "Epoch 180/200\n",
      "461/461 [==============================] - 39s 84ms/step - loss: 0.2737 - categorical_accuracy: 0.9070 - val_loss: 0.4273 - val_categorical_accuracy: 0.8788\n",
      "Epoch 181/200\n",
      "461/461 [==============================] - 39s 84ms/step - loss: 0.2534 - categorical_accuracy: 0.9146 - val_loss: 0.5182 - val_categorical_accuracy: 0.8712\n",
      "Epoch 182/200\n",
      "461/461 [==============================] - 38s 83ms/step - loss: 0.2624 - categorical_accuracy: 0.9085 - val_loss: 0.5253 - val_categorical_accuracy: 0.8333\n",
      "Epoch 183/200\n",
      "461/461 [==============================] - 38s 83ms/step - loss: 0.2831 - categorical_accuracy: 0.8969 - val_loss: 0.5058 - val_categorical_accuracy: 0.8598\n",
      "Epoch 184/200\n",
      "461/461 [==============================] - 38s 83ms/step - loss: 0.2759 - categorical_accuracy: 0.9074 - val_loss: 0.5042 - val_categorical_accuracy: 0.8750\n",
      "Epoch 185/200\n",
      "461/461 [==============================] - 38s 83ms/step - loss: 0.2583 - categorical_accuracy: 0.9153 - val_loss: 0.4730 - val_categorical_accuracy: 0.8712\n",
      "Epoch 186/200\n",
      "461/461 [==============================] - 38s 83ms/step - loss: 0.3040 - categorical_accuracy: 0.8969 - val_loss: 0.5443 - val_categorical_accuracy: 0.8371\n",
      "Epoch 187/200\n",
      "461/461 [==============================] - 38s 83ms/step - loss: 0.2902 - categorical_accuracy: 0.8973 - val_loss: 0.4729 - val_categorical_accuracy: 0.8561\n",
      "Epoch 188/200\n",
      "461/461 [==============================] - 39s 83ms/step - loss: 0.2892 - categorical_accuracy: 0.9020 - val_loss: 0.4928 - val_categorical_accuracy: 0.8485\n",
      "Epoch 189/200\n",
      "461/461 [==============================] - 39s 84ms/step - loss: 0.2753 - categorical_accuracy: 0.9059 - val_loss: 0.6674 - val_categorical_accuracy: 0.8182\n",
      "Epoch 190/200\n",
      "461/461 [==============================] - 39s 84ms/step - loss: 0.3054 - categorical_accuracy: 0.8991 - val_loss: 0.7058 - val_categorical_accuracy: 0.8447\n",
      "Epoch 191/200\n",
      "461/461 [==============================] - 39s 84ms/step - loss: 0.2648 - categorical_accuracy: 0.9092 - val_loss: 0.5371 - val_categorical_accuracy: 0.8598\n",
      "Epoch 192/200\n",
      "461/461 [==============================] - 39s 84ms/step - loss: 0.2957 - categorical_accuracy: 0.9027 - val_loss: 0.5196 - val_categorical_accuracy: 0.8409\n"
     ]
    },
    {
     "name": "stdout",
     "output_type": "stream",
     "text": [
      "Epoch 193/200\n",
      "461/461 [==============================] - 39s 84ms/step - loss: 0.2908 - categorical_accuracy: 0.9030 - val_loss: 0.5662 - val_categorical_accuracy: 0.8485\n",
      "Epoch 194/200\n",
      "461/461 [==============================] - 39s 84ms/step - loss: 0.2545 - categorical_accuracy: 0.9081 - val_loss: 0.6305 - val_categorical_accuracy: 0.8485\n",
      "Epoch 195/200\n",
      "461/461 [==============================] - 39s 85ms/step - loss: 0.2762 - categorical_accuracy: 0.9088 - val_loss: 0.7383 - val_categorical_accuracy: 0.8485\n",
      "Epoch 196/200\n",
      "461/461 [==============================] - 39s 84ms/step - loss: 0.3061 - categorical_accuracy: 0.8900 - val_loss: 0.5840 - val_categorical_accuracy: 0.8333\n",
      "Epoch 197/200\n",
      "461/461 [==============================] - 39s 85ms/step - loss: 0.3048 - categorical_accuracy: 0.9020 - val_loss: 0.5169 - val_categorical_accuracy: 0.8409\n",
      "Epoch 198/200\n",
      "461/461 [==============================] - 39s 84ms/step - loss: 0.3127 - categorical_accuracy: 0.8947 - val_loss: 0.6104 - val_categorical_accuracy: 0.8371\n",
      "Epoch 199/200\n",
      "461/461 [==============================] - 39s 85ms/step - loss: 0.2540 - categorical_accuracy: 0.9106 - val_loss: 0.4119 - val_categorical_accuracy: 0.8750\n",
      "Epoch 200/200\n",
      "461/461 [==============================] - 39s 84ms/step - loss: 0.2387 - categorical_accuracy: 0.9211 - val_loss: 0.8041 - val_categorical_accuracy: 0.7689\n"
     ]
    }
   ],
   "source": [
    "rlrop = callbacks.ReduceLROnPlateau(monitor='val_categorical_accuracy', factor=0.01, patience=100)\n",
    "MODEL.compile(loss='categorical_crossentropy', optimizer='RMSProp', metrics=['categorical_accuracy'])\n",
    "model = MODEL.fit(X_train, y_train_class, epochs=200, batch_size=6, validation_data=(X_val, y_val_class))"
   ]
  },
  {
   "cell_type": "markdown",
   "metadata": {},
   "source": [
    "# 6. Evaluate and conclude\n",
    "\n",
    "Let's see how good are model is. "
   ]
  },
  {
   "cell_type": "code",
   "execution_count": 43,
   "metadata": {},
   "outputs": [],
   "source": [
    "from sklearn.metrics import confusion_matrix"
   ]
  },
  {
   "cell_type": "code",
   "execution_count": 1,
   "metadata": {},
   "outputs": [
    {
     "ename": "NameError",
     "evalue": "name 'plt' is not defined",
     "output_type": "error",
     "traceback": [
      "\u001b[0;31m---------------------------------------------------------------------------\u001b[0m",
      "\u001b[0;31mNameError\u001b[0m                                 Traceback (most recent call last)",
      "Cell \u001b[0;32mIn[1], line 1\u001b[0m\n\u001b[0;32m----> 1\u001b[0m fig, axes \u001b[38;5;241m=\u001b[39m \u001b[43mplt\u001b[49m\u001b[38;5;241m.\u001b[39msubplots(\u001b[38;5;241m1\u001b[39m, \u001b[38;5;241m2\u001b[39m, figsize\u001b[38;5;241m=\u001b[39m(\u001b[38;5;241m10\u001b[39m, \u001b[38;5;241m5\u001b[39m))\n\u001b[1;32m      3\u001b[0m axes[\u001b[38;5;241m0\u001b[39m]\u001b[38;5;241m.\u001b[39mplot(model\u001b[38;5;241m.\u001b[39mhistory[\u001b[38;5;124m'\u001b[39m\u001b[38;5;124mloss\u001b[39m\u001b[38;5;124m'\u001b[39m])\n\u001b[1;32m      4\u001b[0m axes[\u001b[38;5;241m0\u001b[39m]\u001b[38;5;241m.\u001b[39mplot(model\u001b[38;5;241m.\u001b[39mhistory[\u001b[38;5;124m'\u001b[39m\u001b[38;5;124mval_loss\u001b[39m\u001b[38;5;124m'\u001b[39m])\n",
      "\u001b[0;31mNameError\u001b[0m: name 'plt' is not defined"
     ]
    }
   ],
   "source": [
    "fig, axes = plt.subplots(1, 2, figsize=(10, 5))\n",
    "\n",
    "axes[0].plot(model.history['loss'])\n",
    "axes[0].plot(model.history['val_loss'])\n",
    "axes[0].set_title('Loss for Train and Validation Sets')\n",
    "axes[0].set_ylabel('Loss')\n",
    "axes[0].set_xlabel('Epochs')\n",
    "axes[0].legend(['Training', 'Validation'])\n",
    "\n",
    "axes[1].plot(model.history['categorical_accuracy'])\n",
    "axes[1].plot(model.history['val_categorical_accuracy'])\n",
    "axes[1].set_title('Accuracy for Train and Validation Sets')\n",
    "axes[1].set_ylabel('Accuracy')\n",
    "axes[1].set_xlabel('Epochs')\n",
    "axes[1].legend(['Training', 'Validation'])\n",
    "\n",
    "fig.tight_layout()\n",
    "\n",
    "plt.show()"
   ]
  },
  {
   "cell_type": "code",
   "execution_count": 45,
   "metadata": {},
   "outputs": [
    {
     "name": "stdout",
     "output_type": "stream",
     "text": [
      "9/9 [==============================] - 1s 31ms/step\n"
     ]
    },
    {
     "data": {
      "image/png": "[encoded data removed]",
      "text/plain": [
       "<Figure size 640x480 with 2 Axes>"
      ]
     },
     "metadata": {},
     "output_type": "display_data"
    }
   ],
   "source": [
    "import seaborn as sns\n",
    "\n",
    "y_pred = np.argmax(MODEL.predict(X_val), axis=1)\n",
    "labels = ['neutral', 'calm', 'sad', 'happy', 'fear', 'disgust']\n",
    "cm = confusion_matrix(np.argmax(y_val_class, axis=1), y_pred, labels=range(6))\n",
    "\n",
    "sns.heatmap(cm, annot=True, fmt='d', cmap='Reds', xticklabels=labels, yticklabels=labels)\n",
    "plt.xlabel('Predicted label')\n",
    "plt.ylabel('True label')\n",
    "plt.title('Confusion matrix')\n",
    "plt.show()"
   ]
  },
  {
   "cell_type": "markdown",
   "metadata": {},
   "source": [
    "**Conclusion**\n",
    "\n",
    "In summary, our model achieved 92% accuracy in classifying six different emotions. However, there are several ways we could improve it. For example, we could change the model, obtain a better dataset and extract different features. One optimization that we could make is to generate a codebook and apply vector quantization to reduce the dimensionality. This can help to improve the model's training speed and reduce the risk of overfitting. Lastly, don't forget to use accelerators to speed up the training process. "
   ]
  },
  {
   "cell_type": "code",
   "execution_count": 46,
   "metadata": {},
   "outputs": [
    {
     "ename": "NameError",
     "evalue": "name 'class_names' is not defined",
     "output_type": "error",
     "traceback": [
      "\u001b[0;31m---------------------------------------------------------------------------\u001b[0m",
      "\u001b[0;31mNameError\u001b[0m                                 Traceback (most recent call last)",
      "Cell \u001b[0;32mIn[46], line 2\u001b[0m\n\u001b[1;32m      1\u001b[0m \u001b[38;5;28;01mfrom\u001b[39;00m \u001b[38;5;21;01msklearn\u001b[39;00m\u001b[38;5;21;01m.\u001b[39;00m\u001b[38;5;21;01mmetrics\u001b[39;00m \u001b[38;5;28;01mimport\u001b[39;00m classification_report\n\u001b[0;32m----> 2\u001b[0m \u001b[38;5;28mprint\u001b[39m(classification_report(y_train_class,y_val_class,target_names\u001b[38;5;241m=\u001b[39m\u001b[43mclass_names\u001b[49m,digits\u001b[38;5;241m=\u001b[39m\u001b[38;5;241m4\u001b[39m))\n",
      "\u001b[0;31mNameError\u001b[0m: name 'class_names' is not defined"
     ]
    }
   ],
   "source": [
    "from sklearn.metrics import classification_report\n",
    "print(classification_report(y_train_class,y_val_class,target_names=class_names,digits=4))"
   ]
  },
  {
   "cell_type": "code",
   "execution_count": 58,
   "metadata": {},
   "outputs": [
    {
     "name": "stdout",
     "output_type": "stream",
     "text": [
      "Macro Precision: 0.7674\n",
      "Macro Recall: 0.7651\n",
      "Macro F1 Score: 0.7604\n"
     ]
    }
   ],
   "source": [
    "from sklearn.metrics import confusion_matrix, precision_score, recall_score, f1_score\n",
    "\n",
    "# ... (Rest of the code)\n",
    "\n",
    "# Calculate precision, recall, and F1 score\n",
    "precision = precision_score(np.argmax(y_val_class, axis=1), y_pred, average='macro')\n",
    "recall = recall_score(np.argmax(y_val_class, axis=1), y_pred, average='macro')\n",
    "f1 = f1_score(np.argmax(y_val_class, axis=1), y_pred, average='macro')\n",
    "\n",
    "print(f\"Macro Precision: {precision:.4f}\")\n",
    "print(f\"Macro Recall: {recall:.4f}\")\n",
    "print(f\"Macro F1 Score: {f1:.4f}\")\n"
   ]
  },
  {
   "cell_type": "code",
   "execution_count": 57,
   "metadata": {},
   "outputs": [
    {
     "name": "stdout",
     "output_type": "stream",
     "text": [
      "Weighted Precision: 0.7784\n",
      "Weighted Recall: 0.7689\n",
      "Weighted F1 Score: 0.7680\n"
     ]
    }
   ],
   "source": [
    "precision = precision_score(np.argmax(y_val_class, axis=1), y_pred, average='weighted')\n",
    "recall = recall_score(np.argmax(y_val_class, axis=1), y_pred, average='weighted')\n",
    "f1 = f1_score(np.argmax(y_val_class, axis=1), y_pred, average='weighted')\n",
    "\n",
    "print(f\"Weighted Precision: {precision:.4f}\")\n",
    "print(f\"Weighted Recall: {recall:.4f}\")\n",
    "print(f\"Weighted F1 Score: {f1:.4f}\")\n"
   ]
  },
  {
   "cell_type": "code",
   "execution_count": null,
   "metadata": {},
   "outputs": [],
   "source": []
  }
 ],
 "metadata": {
  "kernelspec": {
   "display_name": "Python 3 (ipykernel)",
   "language": "python",
   "name": "python3"
  },
  "language_info": {
   "codemirror_mode": {
    "name": "ipython",
    "version": 3
   },
   "file_extension": ".py",
   "mimetype": "text/x-python",
   "name": "python",
   "nbconvert_exporter": "python",
   "pygments_lexer": "ipython3",
   "version": "3.10.9"
  }
 },
 "nbformat": 4,
 "nbformat_minor": 4
}
