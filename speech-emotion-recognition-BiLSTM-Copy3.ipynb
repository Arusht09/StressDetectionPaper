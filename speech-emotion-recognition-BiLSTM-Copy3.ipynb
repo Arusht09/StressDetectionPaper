{
 "cells": [
  {
   "cell_type": "markdown",
   "metadata": {},
   "source": [
    "# Speech Emotion Recognition\n",
    "\n",
    "The objective of this notebook is to classify from raw sound waves to six emotions: happy, sad, neutral, fear, angry, and disgust. \n",
    "\n",
    "1. Gathering data\n",
    "2. Quick EDA\n",
    "3. Preprocess\n",
    "4. Extract features\n",
    "5. Build a LSTM\n",
    "6. Evaluate and conclude\n",
    "\n",
    "Datasets:\n",
    "* Crowd-sourced Emotional Multimodal Actors Dataset (Crema-D)\n",
    "* Ryerson Audio-Visual Database of Emotional Speech and Song (Ravdess)\n",
    "* Surrey Audio-Visual Expressed Emotion (Savee)\n",
    "* Toronto Emotional Speech Set (Tessa)"
   ]
  },
  {
   "cell_type": "markdown",
   "metadata": {},
   "source": [
    "# 1. Gathering data\n",
    "\n",
    "We will gather speech data from four datasets and store it in a single dataframe along with the corresponding file paths, gender labels and emotion labels. The size of each respective dataframe will be specified, along with an example filename in which the emotion label is bolded. "
   ]
  },
  {
   "cell_type": "code",
   "execution_count": 1,
   "metadata": {
    "_cell_guid": "b1076dfc-b9ad-4769-8c92-a6c4dae69d19",
    "_uuid": "8f2839f25d086af736a60e9eeb907d3b93b6e0e5",
    "execution": {
     "iopub.execute_input": "2023-07-01T03:01:23.831013Z",
     "iopub.status.busy": "2023-07-01T03:01:23.830448Z",
     "iopub.status.idle": "2023-07-01T03:01:23.871293Z",
     "shell.execute_reply": "2023-07-01T03:01:23.869906Z",
     "shell.execute_reply.started": "2023-07-01T03:01:23.830954Z"
    }
   },
   "outputs": [],
   "source": [
    "import os\n",
    "import pandas as pd\n",
    "import numpy as np"
   ]
  },
  {
   "cell_type": "code",
   "execution_count": 2,
   "metadata": {
    "execution": {
     "iopub.execute_input": "2023-07-01T03:01:23.876646Z",
     "iopub.status.busy": "2023-07-01T03:01:23.874782Z",
     "iopub.status.idle": "2023-07-01T03:01:23.883477Z",
     "shell.execute_reply": "2023-07-01T03:01:23.881907Z",
     "shell.execute_reply.started": "2023-07-01T03:01:23.876487Z"
    }
   },
   "outputs": [],
   "source": [
    "RAVDESS = \"/Users/Snigdha1/Downloads/sentiment-predictor-for-stress-detection-main/Audio_Speech_Actors_01-24/\"\n",
    "CREMA = \"/Users/Snigdha1/Downloads/crema/\"\n",
    "TESS = \"/Users/Snigdha1/Downloads/TESS Toronto emotional speech set data/tess toronto emotional speech set data/\"\n",
    "SAVEE = \"/Users/Snigdha1/Downloads/save/\""
   ]
  },
  {
   "cell_type": "markdown",
   "metadata": {},
   "source": [
    "**1. Ravdess Dataframe**\n",
    "\n",
    "There are 1440 audio files, for example, 03-01-**06**-01-02-01-12.wav."
   ]
  },
  {
   "cell_type": "code",
   "execution_count": 3,
   "metadata": {
    "execution": {
     "iopub.execute_input": "2023-07-01T03:01:23.886873Z",
     "iopub.status.busy": "2023-07-01T03:01:23.885753Z",
     "iopub.status.idle": "2023-07-01T03:01:24.260412Z",
     "shell.execute_reply": "2023-07-01T03:01:24.259192Z",
     "shell.execute_reply.started": "2023-07-01T03:01:23.88675Z"
    }
   },
   "outputs": [],
   "source": [
    "ravdess_dir_lis = os.listdir(RAVDESS)\n",
    "path_list = []\n",
    "gender_list = []\n",
    "emotion_list = []\n",
    "\n",
    "emotion_dic = {\n",
    "    '03' : 'happy',\n",
    "    '01' : 'neutral',\n",
    "    '04' : 'sad',\n",
    "    '05' : 'angry',\n",
    "    '06' : 'fear',\n",
    "    '07' : 'disgust',\n",
    "}\n",
    "\n",
    "for directory in ravdess_dir_lis:\n",
    "    actor_files = os.listdir(os.path.join(RAVDESS, directory))\n",
    "    for audio_file in actor_files: \n",
    "        part = audio_file.split('.')[0]\n",
    "        key = part.split('-')[2]\n",
    "        if key in emotion_dic:\n",
    "            gender_code = int(part.split('-')[6])\n",
    "            path_list.append(f\"{RAVDESS}{directory}/{audio_file}\")\n",
    "            gender_list.append('female' if gender_code & 1 == 0 else 'male')\n",
    "            emotion_list.append(emotion_dic[key])\n",
    "            \n",
    "ravdess_df = pd.concat([\n",
    "    pd.DataFrame(path_list, columns=['path']),\n",
    "    pd.DataFrame(gender_list, columns=['sex']),\n",
    "    pd.DataFrame(emotion_list, columns=['emotion'])\n",
    "], axis=1)\n"
   ]
  },
  {
   "cell_type": "markdown",
   "metadata": {},
   "source": [
    "**2. Crema-D Dataframe**\n",
    "\n",
    "There are 7,442 audio files, for example, 1001_DFA_**ANG**_XX.wav."
   ]
  },
  {
   "cell_type": "code",
   "execution_count": 4,
   "metadata": {
    "execution": {
     "iopub.execute_input": "2023-07-01T03:01:24.262523Z",
     "iopub.status.busy": "2023-07-01T03:01:24.261825Z",
     "iopub.status.idle": "2023-07-01T03:01:24.555083Z",
     "shell.execute_reply": "2023-07-01T03:01:24.553876Z",
     "shell.execute_reply.started": "2023-07-01T03:01:24.262476Z"
    }
   },
   "outputs": [],
   "source": [
    "crema_dir_list = os.listdir(CREMA)\n",
    "path_list = []\n",
    "gender_list = []\n",
    "emotion_list = []\n",
    "\n",
    "emotion_dic = {\n",
    "    'HAP' : 'happy',\n",
    "    'NEU' : 'neutral',\n",
    "    'SAD' : 'sad',\n",
    "    'ANG' : 'angry',\n",
    "    'FEA' : 'fear',\n",
    "    'DIS' : 'disgust',\n",
    "}\n",
    "\n",
    "female_id_list = [\n",
    "    '1002', '1003', '1004', '1006', '1007', '1008', '1009', '1010', '1012', '1013', '1018', \n",
    "    '1020', '1021', '1024', '1025', '1028', '1029', '1030', '1037', '1043', '1046', '1047', \n",
    "    '1049', '1052', '1053', '1054', '1055', '1056', '1058', '1060', '1061', '1063', '1072', \n",
    "    '1073', '1074', '1075', '1076', '1078', '1079', '1082', '1084', '1089', '1091',\n",
    "]\n",
    "\n",
    "for audio_file in crema_dir_list:\n",
    "    part = audio_file.split('_')\n",
    "    key = part[2]\n",
    "    if key in emotion_dic and part[3] == 'HI.wav':\n",
    "        path_list.append(f\"{CREMA}{audio_file}\")\n",
    "        gender_list.append('female' if part[0] in female_id_list else 'male')\n",
    "        emotion_list.append(emotion_dic[key])\n",
    "\n",
    "crema_df = pd.concat([\n",
    "    pd.DataFrame(path_list, columns=['path']),\n",
    "    pd.DataFrame(gender_list, columns=['sex']),\n",
    "    pd.DataFrame(emotion_list, columns=['emotion'])\n",
    "], axis=1)\n",
    "\n"
   ]
  },
  {
   "cell_type": "markdown",
   "metadata": {},
   "source": [
    "**3. Tess Dataframe**\n",
    "\n",
    "There are 2,800 audio files, for example, OAF_base_**fear**.wav."
   ]
  },
  {
   "cell_type": "code",
   "execution_count": 5,
   "metadata": {
    "execution": {
     "iopub.execute_input": "2023-07-01T03:01:24.559974Z",
     "iopub.status.busy": "2023-07-01T03:01:24.559094Z",
     "iopub.status.idle": "2023-07-01T03:01:25.233141Z",
     "shell.execute_reply": "2023-07-01T03:01:25.231954Z",
     "shell.execute_reply.started": "2023-07-01T03:01:24.559941Z"
    }
   },
   "outputs": [],
   "source": [
    "tess_dir_list = os.listdir(TESS)\n",
    "path_list = []\n",
    "gender_list = []\n",
    "emotion_list = [] \n",
    "\n",
    "emotion_dic = {\n",
    "    'happy'   : 'happy',\n",
    "    'neutral' : 'neutral',\n",
    "    'sad'     : 'sad',\n",
    "    'Sad'     : 'sad',\n",
    "    'angry'   : 'angry',\n",
    "    'fear'    : 'fear',\n",
    "    'disgust'  : 'disgust',\n",
    "}\n",
    "\n",
    "for directory in tess_dir_list:\n",
    "    audio_files = os.listdir(os.path.join(TESS, directory))\n",
    "    for audio_file in audio_files:\n",
    "        part = audio_file.split('.')[0]\n",
    "        key = part.split('_')[2]\n",
    "        if key in emotion_dic:\n",
    "            path_list.append(f\"{TESS}{directory}/{audio_file}\") \n",
    "            gender_list.append('female') # female only dataset\n",
    "            emotion_list.append(emotion_dic[key])\n",
    "            \n",
    "tess_df = pd.concat([\n",
    "    pd.DataFrame(path_list, columns=['path']),\n",
    "    pd.DataFrame(gender_list, columns=['sex']),\n",
    "    pd.DataFrame(emotion_list, columns=['emotion'])\n",
    "], axis=1)\n",
    "\n"
   ]
  },
  {
   "cell_type": "markdown",
   "metadata": {},
   "source": [
    "**4. Savee Dataframe**\n",
    "\n",
    "There are 480 audio files, for example, DC_**a**02.wav."
   ]
  },
  {
   "cell_type": "code",
   "execution_count": 6,
   "metadata": {
    "execution": {
     "iopub.execute_input": "2023-07-01T03:01:25.235459Z",
     "iopub.status.busy": "2023-07-01T03:01:25.234987Z",
     "iopub.status.idle": "2023-07-01T03:01:25.366586Z",
     "shell.execute_reply": "2023-07-01T03:01:25.365318Z",
     "shell.execute_reply.started": "2023-07-01T03:01:25.235408Z"
    }
   },
   "outputs": [],
   "source": [
    "savee_dir_list = os.listdir(SAVEE)\n",
    "path_list = []\n",
    "gender_list = []\n",
    "emotion_list = []\n",
    "\n",
    "emotion_dic = {\n",
    "    'h'  : 'happy',\n",
    "    'n'  : 'neutral',\n",
    "    'sa' : 'sad',\n",
    "    'a'  : 'angry',\n",
    "    'f'  : 'fear',\n",
    "    'd'  : 'disgust'\n",
    "}\n",
    "\n",
    "for audio_file in savee_dir_list:\n",
    "    part = audio_file.split('_')[1]\n",
    "    key = part[:-6]\n",
    "    if key in emotion_dic:\n",
    "        path_list.append(f\"{SAVEE}{audio_file}\")\n",
    "        gender_list.append('male') # male only dataset\n",
    "        emotion_list.append(emotion_dic[key])\n",
    "        \n",
    "savee_df = pd.concat([\n",
    "    pd.DataFrame(path_list, columns=['path']),\n",
    "    pd.DataFrame(gender_list, columns=['sex']),\n",
    "    pd.DataFrame(emotion_list, columns=['emotion'])\n",
    "], axis=1)\n",
    "\n"
   ]
  },
  {
   "cell_type": "code",
   "execution_count": 7,
   "metadata": {
    "execution": {
     "iopub.execute_input": "2023-07-01T03:01:25.369357Z",
     "iopub.status.busy": "2023-07-01T03:01:25.368538Z",
     "iopub.status.idle": "2023-07-01T03:01:25.387397Z",
     "shell.execute_reply": "2023-07-01T03:01:25.38611Z",
     "shell.execute_reply.started": "2023-07-01T03:01:25.369311Z"
    }
   },
   "outputs": [],
   "source": [
    "df = pd.concat([\n",
    "    ravdess_df, \n",
    "    crema_df, \n",
    "    tess_df, \n",
    "    savee_df\n",
    "], axis=0)\n"
   ]
  },
  {
   "cell_type": "markdown",
   "metadata": {},
   "source": [
    "# 2. Quick EDA\n",
    "\n",
    "We check for imbalances like male to female ratio. "
   ]
  },
  {
   "cell_type": "code",
   "execution_count": 8,
   "metadata": {
    "execution": {
     "iopub.execute_input": "2023-07-01T03:01:25.390167Z",
     "iopub.status.busy": "2023-07-01T03:01:25.389331Z",
     "iopub.status.idle": "2023-07-01T03:01:25.404297Z",
     "shell.execute_reply": "2023-07-01T03:01:25.4031Z",
     "shell.execute_reply.started": "2023-07-01T03:01:25.390097Z"
    }
   },
   "outputs": [],
   "source": [
    "import librosa\n",
    "import matplotlib.pyplot as plt\n",
    "\n",
    "plt.style.use('ggplot')"
   ]
  },
  {
   "cell_type": "code",
   "execution_count": 9,
   "metadata": {
    "execution": {
     "iopub.execute_input": "2023-07-01T03:01:25.406154Z",
     "iopub.status.busy": "2023-07-01T03:01:25.405772Z",
     "iopub.status.idle": "2023-07-01T03:01:25.76566Z",
     "shell.execute_reply": "2023-07-01T03:01:25.764203Z",
     "shell.execute_reply.started": "2023-07-01T03:01:25.406094Z"
    }
   },
   "outputs": [
    {
     "data": {
      "image/png": "[encoded data removed]",
      "text/plain": [
       "<Figure size 600x300 with 1 Axes>"
      ]
     },
     "metadata": {},
     "output_type": "display_data"
    }
   ],
   "source": [
    "def plot_distribution(df): \n",
    "    countTable = df.groupby(['emotion', 'sex']).count()\n",
    "    pivotTable = countTable.pivot_table(index='emotion', columns='sex', values='path')\n",
    "\n",
    "    pivotTable.plot(kind='bar', figsize=(6, 3), color=['pink', 'blue'])\n",
    "    plt.title('Emotion and Gender Distribution')\n",
    "    plt.xlabel('Emotion')\n",
    "    plt.ylabel('Count')\n",
    "    plt.show()\n",
    "    \n",
    "plot_distribution(df)"
   ]
  },
  {
   "cell_type": "code",
   "execution_count": 10,
   "metadata": {
    "execution": {
     "iopub.execute_input": "2023-07-01T03:01:25.770659Z",
     "iopub.status.busy": "2023-07-01T03:01:25.769891Z",
     "iopub.status.idle": "2023-07-01T03:01:26.048571Z",
     "shell.execute_reply": "2023-07-01T03:01:26.047199Z",
     "shell.execute_reply.started": "2023-07-01T03:01:25.770616Z"
    }
   },
   "outputs": [
    {
     "data": {
      "image/png": "[encoded data removed]",
      "text/plain": [
       "<Figure size 600x300 with 1 Axes>"
      ]
     },
     "metadata": {},
     "output_type": "display_data"
    }
   ],
   "source": [
    "# I decided to go with a female specific model \n",
    "df = df[df['sex'] == 'female']\n",
    "plot_distribution(df)"
   ]
  },
  {
   "cell_type": "code",
   "execution_count": 11,
   "metadata": {
    "execution": {
     "iopub.execute_input": "2023-07-01T03:01:26.051086Z",
     "iopub.status.busy": "2023-07-01T03:01:26.050609Z",
     "iopub.status.idle": "2023-07-01T03:01:26.064932Z",
     "shell.execute_reply": "2023-07-01T03:01:26.063599Z",
     "shell.execute_reply.started": "2023-07-01T03:01:26.051038Z"
    }
   },
   "outputs": [
    {
     "data": {
      "text/html": [
       "<div>\n",
       "<style scoped>\n",
       "    .dataframe tbody tr th:only-of-type {\n",
       "        vertical-align: middle;\n",
       "    }\n",
       "\n",
       "    .dataframe tbody tr th {\n",
       "        vertical-align: top;\n",
       "    }\n",
       "\n",
       "    .dataframe thead th {\n",
       "        text-align: right;\n",
       "    }\n",
       "</style>\n",
       "<table border=\"1\" class=\"dataframe\">\n",
       "  <thead>\n",
       "    <tr style=\"text-align: right;\">\n",
       "      <th></th>\n",
       "      <th>path</th>\n",
       "      <th>emotion</th>\n",
       "    </tr>\n",
       "  </thead>\n",
       "  <tbody>\n",
       "    <tr>\n",
       "      <th>0</th>\n",
       "      <td>/Users/arushtripathi/Downloads/sentiment-predi...</td>\n",
       "      <td>angry</td>\n",
       "    </tr>\n",
       "    <tr>\n",
       "      <th>1</th>\n",
       "      <td>/Users/arushtripathi/Downloads/sentiment-predi...</td>\n",
       "      <td>fear</td>\n",
       "    </tr>\n",
       "    <tr>\n",
       "      <th>2</th>\n",
       "      <td>/Users/arushtripathi/Downloads/sentiment-predi...</td>\n",
       "      <td>fear</td>\n",
       "    </tr>\n",
       "    <tr>\n",
       "      <th>3</th>\n",
       "      <td>/Users/arushtripathi/Downloads/sentiment-predi...</td>\n",
       "      <td>angry</td>\n",
       "    </tr>\n",
       "    <tr>\n",
       "      <th>4</th>\n",
       "      <td>/Users/arushtripathi/Downloads/sentiment-predi...</td>\n",
       "      <td>disgust</td>\n",
       "    </tr>\n",
       "  </tbody>\n",
       "</table>\n",
       "</div>"
      ],
      "text/plain": [
       "                                                path  emotion\n",
       "0  /Users/arushtripathi/Downloads/sentiment-predi...    angry\n",
       "1  /Users/arushtripathi/Downloads/sentiment-predi...     fear\n",
       "2  /Users/arushtripathi/Downloads/sentiment-predi...     fear\n",
       "3  /Users/arushtripathi/Downloads/sentiment-predi...    angry\n",
       "4  /Users/arushtripathi/Downloads/sentiment-predi...  disgust"
      ]
     },
     "execution_count": 11,
     "metadata": {},
     "output_type": "execute_result"
    }
   ],
   "source": [
    "df.drop('sex', axis=1, inplace=True)\n",
    "df.head()"
   ]
  },
  {
   "cell_type": "code",
   "execution_count": 12,
   "metadata": {
    "execution": {
     "iopub.execute_input": "2023-07-01T03:01:26.068313Z",
     "iopub.status.busy": "2023-07-01T03:01:26.06737Z",
     "iopub.status.idle": "2023-07-01T03:01:26.07571Z",
     "shell.execute_reply": "2023-07-01T03:01:26.074409Z",
     "shell.execute_reply.started": "2023-07-01T03:01:26.068264Z"
    }
   },
   "outputs": [],
   "source": [
    "from IPython.display import Audio\n",
    "\n",
    "def create_waveplot(y, sr, title):\n",
    "    plt.figure(figsize=(8, 2))\n",
    "    plt.title(title)\n",
    "    librosa.display.waveshow(y, sr=sr)\n",
    "    plt.show()"
   ]
  },
  {
   "cell_type": "code",
   "execution_count": 13,
   "metadata": {
    "execution": {
     "iopub.execute_input": "2023-07-01T03:01:26.078822Z",
     "iopub.status.busy": "2023-07-01T03:01:26.077892Z",
     "iopub.status.idle": "2023-07-01T03:01:37.084499Z",
     "shell.execute_reply": "2023-07-01T03:01:37.083512Z",
     "shell.execute_reply.started": "2023-07-01T03:01:26.078774Z"
    }
   },
   "outputs": [
    {
     "ename": "AttributeError",
     "evalue": "module 'librosa' has no attribute 'display'",
     "output_type": "error",
     "traceback": [
      "\u001b[0;31m---------------------------------------------------------------------------\u001b[0m",
      "\u001b[0;31mAttributeError\u001b[0m                            Traceback (most recent call last)",
      "Cell \u001b[0;32mIn[13], line 6\u001b[0m\n\u001b[1;32m      3\u001b[0m path \u001b[38;5;241m=\u001b[39m np\u001b[38;5;241m.\u001b[39marray(df\u001b[38;5;241m.\u001b[39mpath[df\u001b[38;5;241m.\u001b[39memotion \u001b[38;5;241m==\u001b[39m emotion_label])[\u001b[38;5;241m1\u001b[39m]\n\u001b[1;32m      4\u001b[0m y, sr \u001b[38;5;241m=\u001b[39m librosa\u001b[38;5;241m.\u001b[39mload(path)\n\u001b[0;32m----> 6\u001b[0m \u001b[43mcreate_waveplot\u001b[49m\u001b[43m(\u001b[49m\u001b[43my\u001b[49m\u001b[43m,\u001b[49m\u001b[43m \u001b[49m\u001b[43msr\u001b[49m\u001b[43m,\u001b[49m\u001b[43m \u001b[49m\u001b[43mtitle\u001b[49m\u001b[43m)\u001b[49m\n\u001b[1;32m      7\u001b[0m Audio(path)\n",
      "Cell \u001b[0;32mIn[12], line 6\u001b[0m, in \u001b[0;36mcreate_waveplot\u001b[0;34m(y, sr, title)\u001b[0m\n\u001b[1;32m      4\u001b[0m plt\u001b[38;5;241m.\u001b[39mfigure(figsize\u001b[38;5;241m=\u001b[39m(\u001b[38;5;241m8\u001b[39m, \u001b[38;5;241m2\u001b[39m))\n\u001b[1;32m      5\u001b[0m plt\u001b[38;5;241m.\u001b[39mtitle(title)\n\u001b[0;32m----> 6\u001b[0m \u001b[43mlibrosa\u001b[49m\u001b[38;5;241;43m.\u001b[39;49m\u001b[43mdisplay\u001b[49m\u001b[38;5;241m.\u001b[39mwaveshow(y, sr\u001b[38;5;241m=\u001b[39msr)\n\u001b[1;32m      7\u001b[0m plt\u001b[38;5;241m.\u001b[39mshow()\n",
      "\u001b[0;31mAttributeError\u001b[0m: module 'librosa' has no attribute 'display'"
     ]
    },
    {
     "data": {
      "image/png": "[encoded data removed]",
      "text/plain": [
       "<Figure size 800x200 with 1 Axes>"
      ]
     },
     "metadata": {},
     "output_type": "display_data"
    }
   ],
   "source": [
    "emotion_label = 'sad'\n",
    "title = f\"Waveplot for {emotion_label} emotion\"\n",
    "path = np.array(df.path[df.emotion == emotion_label])[1]\n",
    "y, sr = librosa.load(path)\n",
    "\n",
    "create_waveplot(y, sr, title)\n",
    "Audio(path)"
   ]
  },
  {
   "cell_type": "markdown",
   "metadata": {},
   "source": [
    "# 3. Preprocess\n",
    "\n",
    "The following steps will be followed to preprocess the audio: \n",
    "\n",
    "1. Get an array of samples\n",
    "2. Trim the silence  \n",
    "3. Padding for equal length"
   ]
  },
  {
   "cell_type": "code",
   "execution_count": 14,
   "metadata": {
    "execution": {
     "iopub.execute_input": "2023-07-01T03:01:37.090944Z",
     "iopub.status.busy": "2023-07-01T03:01:37.0901Z",
     "iopub.status.idle": "2023-07-01T03:01:37.116461Z",
     "shell.execute_reply": "2023-07-01T03:01:37.115428Z",
     "shell.execute_reply.started": "2023-07-01T03:01:37.090903Z"
    }
   },
   "outputs": [],
   "source": [
    "from pydub import AudioSegment, effects"
   ]
  },
  {
   "cell_type": "code",
   "execution_count": 15,
   "metadata": {
    "execution": {
     "iopub.execute_input": "2023-07-01T03:01:37.118706Z",
     "iopub.status.busy": "2023-07-01T03:01:37.118088Z",
     "iopub.status.idle": "2023-07-01T03:01:37.127269Z",
     "shell.execute_reply": "2023-07-01T03:01:37.125154Z",
     "shell.execute_reply.started": "2023-07-01T03:01:37.118664Z"
    }
   },
   "outputs": [],
   "source": [
    "def preprocess_audio(path):\n",
    "    _, sr = librosa.load(path)\n",
    "    raw_audio = AudioSegment.from_file(path)\n",
    "    \n",
    "    samples = np.array(raw_audio.get_array_of_samples(), dtype='float32')\n",
    "    trimmed, _ = librosa.effects.trim(samples, top_db=25)\n",
    "    padded = np.pad(trimmed, (0, 180000-len(trimmed)), 'constant')\n",
    "    return padded, sr"
   ]
  },
  {
   "cell_type": "code",
   "execution_count": 16,
   "metadata": {
    "execution": {
     "iopub.execute_input": "2023-07-01T03:01:37.130132Z",
     "iopub.status.busy": "2023-07-01T03:01:37.129335Z",
     "iopub.status.idle": "2023-07-01T03:01:37.138314Z",
     "shell.execute_reply": "2023-07-01T03:01:37.137501Z",
     "shell.execute_reply.started": "2023-07-01T03:01:37.130056Z"
    }
   },
   "outputs": [],
   "source": [
    "emotion_dic = {\n",
    "    'neutral' : 0,\n",
    "    'happy'   : 1,\n",
    "    'sad'     : 2, \n",
    "    'angry'   : 3, \n",
    "    'fear'    : 4, \n",
    "    'disgust' : 5\n",
    "}\n",
    "\n",
    "def encode(label):\n",
    "    return emotion_dic.get(label)"
   ]
  },
  {
   "cell_type": "markdown",
   "metadata": {},
   "source": [
    "# 4. Extract features\n",
    "\n",
    "We will only extract these features: \n",
    "\n",
    "1. Mel-Frequency Cepstral Coefficients: captures the shape of the spectral envelope of a signal\n",
    "2. Zero Crossing Rate: captures the number of times a signal changes sign per second\n",
    "3. Root Mean Square Energy: captures the root mean square amplitude of the audio signal"
   ]
  },
  {
   "cell_type": "code",
   "execution_count": 17,
   "metadata": {
    "execution": {
     "iopub.execute_input": "2023-07-01T03:01:37.140656Z",
     "iopub.status.busy": "2023-07-01T03:01:37.139876Z"
    }
   },
   "outputs": [
    {
     "name": "stdout",
     "output_type": "stream",
     "text": [
      "Failed for path: /Users/arushtripathi/Downloads/sentiment-predictor-for-stress-detection-main/Audio_Speech_Actors_01-24/Actor_20/03-01-06-01-01-02-20.wav\n"
     ]
    }
   ],
   "source": [
    "zcr_list = []\n",
    "rms_list = []\n",
    "mfccs_list = []\n",
    "emotion_list = []\n",
    "\n",
    "FRAME_LENGTH = 2048\n",
    "HOP_LENGTH = 512\n",
    "\n",
    "for row in df.itertuples(index=False):\n",
    "    try: \n",
    "        y, sr = preprocess_audio(row.path)\n",
    "\n",
    "        zcr = librosa.feature.zero_crossing_rate(y, frame_length=FRAME_LENGTH, hop_length=HOP_LENGTH)\n",
    "        rms = librosa.feature.rms(y=y, frame_length=FRAME_LENGTH, hop_length=HOP_LENGTH)\n",
    "        mfccs = librosa.feature.mfcc(y=y, sr=sr, n_mfcc=13, hop_length=HOP_LENGTH)\n",
    "\n",
    "        zcr_list.append(zcr)\n",
    "        rms_list.append(rms)\n",
    "        mfccs_list.append(mfccs)\n",
    "\n",
    "        emotion_list.append(encode(row.emotion))\n",
    "    except:\n",
    "        print(f\"Failed for path: {row.path}\")"
   ]
  },
  {
   "cell_type": "code",
   "execution_count": 18,
   "metadata": {},
   "outputs": [],
   "source": [
    "X = np.concatenate((\n",
    "    np.swapaxes(zcr_list, 1, 2), \n",
    "    np.swapaxes(rms_list, 1, 2), \n",
    "    np.swapaxes(mfccs_list, 1, 2)), \n",
    "    axis=2\n",
    ")\n",
    "X = X.astype('float32')\n",
    "\n",
    "y = np.asarray(emotion_list)\n",
    "y = np.expand_dims(y, axis=1).astype('int8')"
   ]
  },
  {
   "cell_type": "markdown",
   "metadata": {},
   "source": [
    "# 5. Build a Transformer & BiLSTM\n",
    "\n",
    "Before building the model, we will have to setup the data. Transformer are great for sequences.  "
   ]
  },
  {
   "cell_type": "code",
   "execution_count": 26,
   "metadata": {},
   "outputs": [],
   "source": [
    "from sklearn.model_selection import train_test_split\n",
    "from tensorflow.keras.utils import to_categorical"
   ]
  },
  {
   "cell_type": "code",
   "execution_count": 27,
   "metadata": {},
   "outputs": [],
   "source": [
    "import numpy as np\n",
    "from sklearn.model_selection import train_test_split\n",
    "from tensorflow.keras.utils import to_categorical\n",
    "from tensorflow.keras.layers import Input, Dense, Dropout, GlobalAveragePooling1D\n",
    "from tensorflow.keras.models import Model\n",
    "from tensorflow.keras.optimizers import Adam\n",
    "from tensorflow.keras.callbacks import EarlyStopping\n",
    "from sklearn.metrics import confusion_matrix\n",
    "import matplotlib.pyplot as plt\n",
    "import seaborn as sns"
   ]
  },
  {
   "cell_type": "code",
   "execution_count": 28,
   "metadata": {},
   "outputs": [],
   "source": [
    "# Reshape X to match the expected input shape of the model\n",
    "X_reshaped = X.reshape(X.shape[0], X.shape[1], X.shape[2])"
   ]
  },
  {
   "cell_type": "code",
   "execution_count": 29,
   "metadata": {},
   "outputs": [],
   "source": [
    "# Splitting the data\n",
    "X_train, X_val, y_train, y_val = train_test_split(X_reshaped, y, test_size=0.3, random_state=1)\n",
    "\n",
    "y_train_class = to_categorical(y_train, num_classes=7)\n",
    "y_val_class = to_categorical(y_val, num_classes=7)"
   ]
  },
  {
   "cell_type": "code",
   "execution_count": 30,
   "metadata": {},
   "outputs": [],
   "source": [
    "from tensorflow.keras.layers import LayerNormalization, MultiHeadAttention, Dense"
   ]
  },
  {
   "cell_type": "code",
   "execution_count": 31,
   "metadata": {},
   "outputs": [],
   "source": [
    "def transformer_layer(inputs, head_size, num_heads, ff_dim, dropout=0):\n",
    "    # Multi-head self-attention mechanism\n",
    "    attn_output = MultiHeadAttention(\n",
    "        key_dim=head_size, num_heads=num_heads, dropout=dropout\n",
    "    )(inputs, inputs)\n",
    "    attn_output = Dropout(dropout)(attn_output)\n",
    "    out1 = LayerNormalization(epsilon=1e-6)(inputs + attn_output)\n",
    "\n",
    "    # Feed-forward layer\n",
    "    ff_output = Dense(units=ff_dim, activation=\"relu\")(out1)\n",
    "    ff_output = Dense(units=inputs.shape[-1])(ff_output)\n",
    "    ff_output = Dropout(dropout)(ff_output)\n",
    "    out2 = LayerNormalization(epsilon=1e-6)(out1 + ff_output)\n",
    "    return out2\n",
    "\n",
    "def build_transformer_model(input_shape, num_classes):\n",
    "    inputs = Input(shape=input_shape)\n",
    "    head_size = 256\n",
    "    num_heads = 4\n",
    "    ff_dim = 512\n",
    "\n",
    "    x = inputs\n",
    "    for _ in range(2):  # Apply two transformer layers\n",
    "        x = transformer_layer(x, head_size, num_heads, ff_dim)\n",
    "\n",
    "    # Global average pooling\n",
    "    pooled_output = GlobalAveragePooling1D()(x)\n",
    "\n",
    "    # Add some dense layers for classification\n",
    "    x = Dense(64, activation='relu')(pooled_output)\n",
    "    x = Dropout(0.2)(x)\n",
    "    x = Dense(32, activation='relu')(x)\n",
    "    x = Dropout(0.2)(x)\n",
    "    outputs = Dense(num_classes, activation='softmax')(x)\n",
    "\n",
    "    model = Model(inputs=inputs, outputs=outputs)\n",
    "    return model\n",
    "\n",
    "# Build the model\n",
    "model = build_transformer_model(input_shape=(X_train.shape[1], X_train.shape[2]), num_classes=7)\n",
    "\n",
    "# ... (Rest of your code)\n"
   ]
  },
  {
   "cell_type": "code",
   "execution_count": 32,
   "metadata": {},
   "outputs": [
    {
     "name": "stderr",
     "output_type": "stream",
     "text": [
      "WARNING:absl:At this time, the v2.11+ optimizer `tf.keras.optimizers.Adam` runs slowly on M1/M2 Macs, please use the legacy Keras optimizer instead, located at `tf.keras.optimizers.legacy.Adam`.\n",
      "WARNING:absl:There is a known slowdown when using v2.11+ Keras optimizers on M1/M2 Macs. Falling back to the legacy Keras optimizer, i.e., `tf.keras.optimizers.legacy.Adam`.\n"
     ]
    },
    {
     "name": "stdout",
     "output_type": "stream",
     "text": [
      "Model: \"model_1\"\n",
      "__________________________________________________________________________________________________\n",
      " Layer (type)                Output Shape                 Param #   Connected to                  \n",
      "==================================================================================================\n",
      " input_2 (InputLayer)        [(None, 352, 15)]            0         []                            \n",
      "                                                                                                  \n",
      " multi_head_attention_2 (Mu  (None, 352, 15)              64527     ['input_2[0][0]',             \n",
      " ltiHeadAttention)                                                   'input_2[0][0]']             \n",
      "                                                                                                  \n",
      " dropout_6 (Dropout)         (None, 352, 15)              0         ['multi_head_attention_2[0][0]\n",
      "                                                                    ']                            \n",
      "                                                                                                  \n",
      " tf.__operators__.add_4 (TF  (None, 352, 15)              0         ['input_2[0][0]',             \n",
      " OpLambda)                                                           'dropout_6[0][0]']           \n",
      "                                                                                                  \n",
      " layer_normalization_4 (Lay  (None, 352, 15)              30        ['tf.__operators__.add_4[0][0]\n",
      " erNormalization)                                                   ']                            \n",
      "                                                                                                  \n",
      " dense_7 (Dense)             (None, 352, 512)             8192      ['layer_normalization_4[0][0]'\n",
      "                                                                    ]                             \n",
      "                                                                                                  \n",
      " dense_8 (Dense)             (None, 352, 15)              7695      ['dense_7[0][0]']             \n",
      "                                                                                                  \n",
      " dropout_7 (Dropout)         (None, 352, 15)              0         ['dense_8[0][0]']             \n",
      "                                                                                                  \n",
      " tf.__operators__.add_5 (TF  (None, 352, 15)              0         ['layer_normalization_4[0][0]'\n",
      " OpLambda)                                                          , 'dropout_7[0][0]']          \n",
      "                                                                                                  \n",
      " layer_normalization_5 (Lay  (None, 352, 15)              30        ['tf.__operators__.add_5[0][0]\n",
      " erNormalization)                                                   ']                            \n",
      "                                                                                                  \n",
      " multi_head_attention_3 (Mu  (None, 352, 15)              64527     ['layer_normalization_5[0][0]'\n",
      " ltiHeadAttention)                                                  , 'layer_normalization_5[0][0]\n",
      "                                                                    ']                            \n",
      "                                                                                                  \n",
      " dropout_8 (Dropout)         (None, 352, 15)              0         ['multi_head_attention_3[0][0]\n",
      "                                                                    ']                            \n",
      "                                                                                                  \n",
      " tf.__operators__.add_6 (TF  (None, 352, 15)              0         ['layer_normalization_5[0][0]'\n",
      " OpLambda)                                                          , 'dropout_8[0][0]']          \n",
      "                                                                                                  \n",
      " layer_normalization_6 (Lay  (None, 352, 15)              30        ['tf.__operators__.add_6[0][0]\n",
      " erNormalization)                                                   ']                            \n",
      "                                                                                                  \n",
      " dense_9 (Dense)             (None, 352, 512)             8192      ['layer_normalization_6[0][0]'\n",
      "                                                                    ]                             \n",
      "                                                                                                  \n",
      " dense_10 (Dense)            (None, 352, 15)              7695      ['dense_9[0][0]']             \n",
      "                                                                                                  \n",
      " dropout_9 (Dropout)         (None, 352, 15)              0         ['dense_10[0][0]']            \n",
      "                                                                                                  \n",
      " tf.__operators__.add_7 (TF  (None, 352, 15)              0         ['layer_normalization_6[0][0]'\n",
      " OpLambda)                                                          , 'dropout_9[0][0]']          \n",
      "                                                                                                  \n",
      " layer_normalization_7 (Lay  (None, 352, 15)              30        ['tf.__operators__.add_7[0][0]\n",
      " erNormalization)                                                   ']                            \n",
      "                                                                                                  \n",
      " global_average_pooling1d_1  (None, 15)                   0         ['layer_normalization_7[0][0]'\n",
      "  (GlobalAveragePooling1D)                                          ]                             \n",
      "                                                                                                  \n",
      " dense_11 (Dense)            (None, 64)                   1024      ['global_average_pooling1d_1[0\n",
      "                                                                    ][0]']                        \n",
      "                                                                                                  \n",
      " dropout_10 (Dropout)        (None, 64)                   0         ['dense_11[0][0]']            \n",
      "                                                                                                  \n",
      " dense_12 (Dense)            (None, 32)                   2080      ['dropout_10[0][0]']          \n",
      "                                                                                                  \n",
      " dropout_11 (Dropout)        (None, 32)                   0         ['dense_12[0][0]']            \n",
      "                                                                                                  \n",
      " dense_13 (Dense)            (None, 7)                    231       ['dropout_11[0][0]']          \n",
      "                                                                                                  \n",
      "==================================================================================================\n",
      "Total params: 164283 (641.73 KB)\n",
      "Trainable params: 164283 (641.73 KB)\n",
      "Non-trainable params: 0 (0.00 Byte)\n",
      "__________________________________________________________________________________________________\n",
      "Epoch 1/175\n",
      "69/69 [==============================] - 65s 922ms/step - loss: 1.8819 - accuracy: 0.1610 - val_loss: 1.8049 - val_accuracy: 0.2047\n",
      "Epoch 2/175\n",
      "69/69 [==============================] - 66s 954ms/step - loss: 1.7078 - accuracy: 0.2415 - val_loss: 1.6338 - val_accuracy: 0.2662\n",
      "Epoch 3/175\n",
      "69/69 [==============================] - 68s 979ms/step - loss: 1.5573 - accuracy: 0.3060 - val_loss: 1.5115 - val_accuracy: 0.3457\n",
      "Epoch 4/175\n",
      "69/69 [==============================] - 67s 970ms/step - loss: 1.4957 - accuracy: 0.3415 - val_loss: 1.4052 - val_accuracy: 0.3765\n",
      "Epoch 5/175\n",
      "69/69 [==============================] - 69s 1s/step - loss: 1.4166 - accuracy: 0.3729 - val_loss: 1.3282 - val_accuracy: 0.3860\n",
      "Epoch 6/175\n",
      "69/69 [==============================] - 70s 1s/step - loss: 1.3687 - accuracy: 0.3925 - val_loss: 1.2392 - val_accuracy: 0.4517\n",
      "Epoch 7/175\n",
      "69/69 [==============================] - 68s 988ms/step - loss: 1.2692 - accuracy: 0.4229 - val_loss: 1.2318 - val_accuracy: 0.4783\n",
      "Epoch 8/175\n",
      "69/69 [==============================] - 71s 1s/step - loss: 1.2590 - accuracy: 0.4343 - val_loss: 1.1882 - val_accuracy: 0.4634\n",
      "Epoch 9/175\n",
      "69/69 [==============================] - 80s 1s/step - loss: 1.2067 - accuracy: 0.4875 - val_loss: 1.2014 - val_accuracy: 0.5387\n",
      "Epoch 10/175\n",
      "69/69 [==============================] - 72s 1s/step - loss: 1.1049 - accuracy: 0.5480 - val_loss: 1.0335 - val_accuracy: 0.5981\n",
      "Epoch 11/175\n",
      "69/69 [==============================] - 75s 1s/step - loss: 0.9731 - accuracy: 0.6194 - val_loss: 0.8853 - val_accuracy: 0.6882\n",
      "Epoch 12/175\n",
      "69/69 [==============================] - 86s 1s/step - loss: 0.8973 - accuracy: 0.6594 - val_loss: 0.8986 - val_accuracy: 0.6490\n",
      "Epoch 13/175\n",
      "69/69 [==============================] - 78s 1s/step - loss: 0.8530 - accuracy: 0.6776 - val_loss: 0.8322 - val_accuracy: 0.6670\n",
      "Epoch 14/175\n",
      "69/69 [==============================] - 75s 1s/step - loss: 0.7788 - accuracy: 0.7026 - val_loss: 0.7968 - val_accuracy: 0.6882\n",
      "Epoch 15/175\n",
      "69/69 [==============================] - 74s 1s/step - loss: 0.7628 - accuracy: 0.7203 - val_loss: 0.8104 - val_accuracy: 0.7402\n",
      "Epoch 16/175\n",
      "69/69 [==============================] - 71s 1s/step - loss: 0.7579 - accuracy: 0.7249 - val_loss: 0.6236 - val_accuracy: 0.7646\n",
      "Epoch 17/175\n",
      "69/69 [==============================] - 72s 1s/step - loss: 0.6259 - accuracy: 0.7608 - val_loss: 0.6132 - val_accuracy: 0.7667\n",
      "Epoch 18/175\n",
      "69/69 [==============================] - 73s 1s/step - loss: 0.6908 - accuracy: 0.7508 - val_loss: 0.9064 - val_accuracy: 0.7073\n",
      "Epoch 19/175\n",
      "69/69 [==============================] - 75s 1s/step - loss: 0.6835 - accuracy: 0.7553 - val_loss: 0.5807 - val_accuracy: 0.7805\n",
      "Epoch 20/175\n",
      "69/69 [==============================] - 73s 1s/step - loss: 0.5718 - accuracy: 0.7954 - val_loss: 0.5060 - val_accuracy: 0.8123\n",
      "Epoch 21/175\n",
      "69/69 [==============================] - 74s 1s/step - loss: 0.5442 - accuracy: 0.8035 - val_loss: 0.5193 - val_accuracy: 0.7900\n",
      "Epoch 22/175\n",
      "69/69 [==============================] - 71s 1s/step - loss: 0.5634 - accuracy: 0.7849 - val_loss: 0.5535 - val_accuracy: 0.7943\n",
      "Epoch 23/175\n",
      "69/69 [==============================] - 72s 1s/step - loss: 0.4841 - accuracy: 0.8167 - val_loss: 0.4437 - val_accuracy: 0.8208\n",
      "Epoch 24/175\n",
      "69/69 [==============================] - 74s 1s/step - loss: 0.4794 - accuracy: 0.8240 - val_loss: 0.4693 - val_accuracy: 0.8218\n",
      "Epoch 25/175\n",
      "69/69 [==============================] - 73s 1s/step - loss: 0.5006 - accuracy: 0.8095 - val_loss: 0.5359 - val_accuracy: 0.7922\n",
      "Epoch 26/175\n",
      "69/69 [==============================] - 75s 1s/step - loss: 0.5409 - accuracy: 0.7972 - val_loss: 0.6054 - val_accuracy: 0.7805\n",
      "Epoch 27/175\n",
      "69/69 [==============================] - 75s 1s/step - loss: 0.4565 - accuracy: 0.8272 - val_loss: 0.4330 - val_accuracy: 0.8229\n",
      "Epoch 28/175\n",
      "69/69 [==============================] - 73s 1s/step - loss: 0.4671 - accuracy: 0.8167 - val_loss: 0.4219 - val_accuracy: 0.8324\n",
      "Epoch 29/175\n",
      "69/69 [==============================] - 75s 1s/step - loss: 0.4335 - accuracy: 0.8408 - val_loss: 0.4205 - val_accuracy: 0.8240\n",
      "Epoch 30/175\n",
      "69/69 [==============================] - 74s 1s/step - loss: 0.4630 - accuracy: 0.8245 - val_loss: 0.5001 - val_accuracy: 0.8102\n",
      "Epoch 31/175\n",
      "69/69 [==============================] - 72s 1s/step - loss: 0.4928 - accuracy: 0.8172 - val_loss: 0.4768 - val_accuracy: 0.8059\n",
      "Epoch 32/175\n",
      "69/69 [==============================] - 517s 8s/step - loss: 0.4405 - accuracy: 0.8404 - val_loss: 0.4632 - val_accuracy: 0.8197\n",
      "Epoch 33/175\n",
      "69/69 [==============================] - 75s 1s/step - loss: 0.3715 - accuracy: 0.8558 - val_loss: 0.3922 - val_accuracy: 0.8441\n",
      "Epoch 34/175\n",
      "69/69 [==============================] - 74s 1s/step - loss: 0.3712 - accuracy: 0.8549 - val_loss: 0.6192 - val_accuracy: 0.7752\n",
      "Epoch 35/175\n",
      "69/69 [==============================] - 82s 1s/step - loss: 0.3784 - accuracy: 0.8563 - val_loss: 0.3702 - val_accuracy: 0.8505\n",
      "Epoch 36/175\n",
      "69/69 [==============================] - 74s 1s/step - loss: 0.3539 - accuracy: 0.8577 - val_loss: 0.3807 - val_accuracy: 0.8473\n",
      "Epoch 37/175\n",
      "69/69 [==============================] - 78s 1s/step - loss: 0.3518 - accuracy: 0.8677 - val_loss: 0.4101 - val_accuracy: 0.8356\n",
      "Epoch 38/175\n",
      "69/69 [==============================] - 73s 1s/step - loss: 0.3889 - accuracy: 0.8568 - val_loss: 0.3886 - val_accuracy: 0.8537\n",
      "Epoch 39/175\n",
      "69/69 [==============================] - 71s 1s/step - loss: 0.4113 - accuracy: 0.8463 - val_loss: 0.5320 - val_accuracy: 0.7879\n",
      "Epoch 40/175\n",
      "69/69 [==============================] - 70s 1s/step - loss: 0.4202 - accuracy: 0.8390 - val_loss: 0.4583 - val_accuracy: 0.8208\n",
      "Epoch 41/175\n",
      "69/69 [==============================] - 72s 1s/step - loss: 0.3948 - accuracy: 0.8481 - val_loss: 0.4076 - val_accuracy: 0.8431\n",
      "Epoch 42/175\n",
      "69/69 [==============================] - 82s 1s/step - loss: 0.3743 - accuracy: 0.8658 - val_loss: 0.3759 - val_accuracy: 0.8484\n",
      "Epoch 43/175\n",
      "69/69 [==============================] - 79s 1s/step - loss: 0.3103 - accuracy: 0.8809 - val_loss: 0.4514 - val_accuracy: 0.8335\n",
      "Epoch 44/175\n",
      "69/69 [==============================] - 78s 1s/step - loss: 0.3768 - accuracy: 0.8568 - val_loss: 0.3920 - val_accuracy: 0.8420\n",
      "Epoch 45/175\n",
      "69/69 [==============================] - 85s 1s/step - loss: 0.3636 - accuracy: 0.8608 - val_loss: 0.4180 - val_accuracy: 0.8494\n"
     ]
    }
   ],
   "source": [
    "#model = build_transformer_model(input_shape=(X_train.shape[1], X_train.shape[2]), num_classes=7)\n",
    "\n",
    "model.compile(loss='categorical_crossentropy', optimizer=Adam(), metrics=['accuracy'])\n",
    "model.summary()\n",
    "\n",
    "# Early stopping callback\n",
    "early_stopping = EarlyStopping(patience=10, restore_best_weights=True)\n",
    "\n",
    "# Train the model\n",
    "history = model.fit(X_train, y_train_class, validation_data=(X_val, y_val_class),\n",
    "                    epochs=175, batch_size=32, shuffle=True, callbacks=[early_stopping])"
   ]
  },
  {
   "cell_type": "code",
   "execution_count": 21,
   "metadata": {},
   "outputs": [],
   "source": [
    "X_train, X_to_split, y_train, y_to_split = train_test_split(X, y, test_size=0.12, random_state=1)\n",
    "X_val, X_test, y_val, y_test = train_test_split(X_to_split, y_to_split, test_size=0.3, random_state=1)\n",
    "\n",
    "y_train_class = to_categorical(y_train, 6)\n",
    "y_val_class = to_categorical(y_val, 6)"
   ]
  },
  {
   "cell_type": "code",
   "execution_count": 22,
   "metadata": {},
   "outputs": [],
   "source": [
    "from keras.models import Sequential\n",
    "from keras import layers, optimizers, callbacks"
   ]
  },
  {
   "cell_type": "code",
   "execution_count": 23,
   "metadata": {},
   "outputs": [
    {
     "name": "stdout",
     "output_type": "stream",
     "text": [
      "Model: \"sequential\"\n",
      "_________________________________________________________________\n",
      " Layer (type)                Output Shape              Param #   \n",
      "=================================================================\n",
      " lstm (LSTM)                 (None, 352, 64)           20480     \n",
      "                                                                 \n",
      " lstm_1 (LSTM)               (None, 64)                33024     \n",
      "                                                                 \n",
      " dense (Dense)               (None, 6)                 390       \n",
      "                                                                 \n",
      "=================================================================\n",
      "Total params: 53894 (210.52 KB)\n",
      "Trainable params: 53894 (210.52 KB)\n",
      "Non-trainable params: 0 (0.00 Byte)\n",
      "_________________________________________________________________\n",
      "None\n"
     ]
    }
   ],
   "source": [
    "MODEL = Sequential()\n",
    "MODEL.add(layers.LSTM(64, return_sequences=True, input_shape=(X.shape[1:3])))\n",
    "MODEL.add(layers.LSTM(64))\n",
    "MODEL.add(layers.Dense(6, activation='softmax'))\n",
    "\n",
    "print(MODEL.summary())"
   ]
  },
  {
   "cell_type": "code",
   "execution_count": 24,
   "metadata": {},
   "outputs": [
    {
     "name": "stdout",
     "output_type": "stream",
     "text": [
      "Epoch 1/175\n",
      "461/461 [==============================] - 41s 87ms/step - loss: 1.5841 - categorical_accuracy: 0.2887 - val_loss: 1.4165 - val_categorical_accuracy: 0.3333\n",
      "Epoch 2/175\n",
      "461/461 [==============================] - 39s 85ms/step - loss: 1.4280 - categorical_accuracy: 0.3488 - val_loss: 1.3286 - val_categorical_accuracy: 0.4697\n",
      "Epoch 3/175\n",
      "461/461 [==============================] - 40s 86ms/step - loss: 1.3262 - categorical_accuracy: 0.4114 - val_loss: 1.3453 - val_categorical_accuracy: 0.3220\n",
      "Epoch 4/175\n",
      "461/461 [==============================] - 40s 86ms/step - loss: 1.2305 - categorical_accuracy: 0.4522 - val_loss: 1.1874 - val_categorical_accuracy: 0.5114\n",
      "Epoch 5/175\n",
      "461/461 [==============================] - 39s 85ms/step - loss: 1.1734 - categorical_accuracy: 0.4711 - val_loss: 1.1944 - val_categorical_accuracy: 0.5114\n",
      "Epoch 6/175\n",
      "461/461 [==============================] - 40s 86ms/step - loss: 1.2641 - categorical_accuracy: 0.4559 - val_loss: 1.8823 - val_categorical_accuracy: 0.2538\n",
      "Epoch 7/175\n",
      "461/461 [==============================] - 40s 86ms/step - loss: 1.3161 - categorical_accuracy: 0.4262 - val_loss: 1.3184 - val_categorical_accuracy: 0.4583\n",
      "Epoch 8/175\n",
      "461/461 [==============================] - 39s 85ms/step - loss: 1.2311 - categorical_accuracy: 0.4711 - val_loss: 1.3103 - val_categorical_accuracy: 0.4545\n",
      "Epoch 9/175\n",
      "461/461 [==============================] - 40s 87ms/step - loss: 1.2385 - categorical_accuracy: 0.4497 - val_loss: 1.1883 - val_categorical_accuracy: 0.5189\n",
      "Epoch 10/175\n",
      "461/461 [==============================] - 39s 85ms/step - loss: 1.2017 - categorical_accuracy: 0.4689 - val_loss: 1.1806 - val_categorical_accuracy: 0.4735\n",
      "Epoch 11/175\n",
      "461/461 [==============================] - 39s 85ms/step - loss: 1.1638 - categorical_accuracy: 0.4942 - val_loss: 1.2234 - val_categorical_accuracy: 0.5000\n",
      "Epoch 12/175\n",
      "461/461 [==============================] - 39s 86ms/step - loss: 1.1689 - categorical_accuracy: 0.5156 - val_loss: 1.2664 - val_categorical_accuracy: 0.4848\n",
      "Epoch 13/175\n",
      "461/461 [==============================] - 39s 85ms/step - loss: 1.1913 - categorical_accuracy: 0.4913 - val_loss: 1.4213 - val_categorical_accuracy: 0.4545\n",
      "Epoch 14/175\n",
      "461/461 [==============================] - 39s 85ms/step - loss: 1.1553 - categorical_accuracy: 0.5065 - val_loss: 1.1878 - val_categorical_accuracy: 0.5152\n",
      "Epoch 15/175\n",
      "461/461 [==============================] - 39s 85ms/step - loss: 1.1175 - categorical_accuracy: 0.5257 - val_loss: 1.0488 - val_categorical_accuracy: 0.5455\n",
      "Epoch 16/175\n",
      "461/461 [==============================] - 40s 86ms/step - loss: 1.0836 - categorical_accuracy: 0.5351 - val_loss: 1.0632 - val_categorical_accuracy: 0.5568\n",
      "Epoch 17/175\n",
      "461/461 [==============================] - 39s 84ms/step - loss: 1.0552 - categorical_accuracy: 0.5586 - val_loss: 1.1244 - val_categorical_accuracy: 0.5758\n",
      "Epoch 18/175\n",
      "461/461 [==============================] - 39s 85ms/step - loss: 1.0494 - categorical_accuracy: 0.5615 - val_loss: 1.0318 - val_categorical_accuracy: 0.5871\n",
      "Epoch 19/175\n",
      "461/461 [==============================] - 39s 84ms/step - loss: 1.1038 - categorical_accuracy: 0.5478 - val_loss: 1.2083 - val_categorical_accuracy: 0.5189\n",
      "Epoch 20/175\n",
      "461/461 [==============================] - 40s 86ms/step - loss: 1.0970 - categorical_accuracy: 0.5488 - val_loss: 0.9383 - val_categorical_accuracy: 0.6402\n",
      "Epoch 21/175\n",
      "461/461 [==============================] - 39s 85ms/step - loss: 0.9822 - categorical_accuracy: 0.5962 - val_loss: 1.0687 - val_categorical_accuracy: 0.5114\n",
      "Epoch 22/175\n",
      "461/461 [==============================] - 39s 85ms/step - loss: 1.0434 - categorical_accuracy: 0.5619 - val_loss: 0.9726 - val_categorical_accuracy: 0.5871\n",
      "Epoch 23/175\n",
      "461/461 [==============================] - 39s 85ms/step - loss: 1.0154 - categorical_accuracy: 0.5876 - val_loss: 0.9636 - val_categorical_accuracy: 0.6364\n",
      "Epoch 24/175\n",
      "461/461 [==============================] - 40s 87ms/step - loss: 1.0233 - categorical_accuracy: 0.5836 - val_loss: 1.0351 - val_categorical_accuracy: 0.5909\n",
      "Epoch 25/175\n",
      "461/461 [==============================] - 39s 84ms/step - loss: 1.0632 - categorical_accuracy: 0.5637 - val_loss: 0.9966 - val_categorical_accuracy: 0.5644\n",
      "Epoch 26/175\n",
      "461/461 [==============================] - 39s 86ms/step - loss: 1.0178 - categorical_accuracy: 0.5814 - val_loss: 1.0997 - val_categorical_accuracy: 0.5303\n",
      "Epoch 27/175\n",
      "461/461 [==============================] - 39s 85ms/step - loss: 0.9867 - categorical_accuracy: 0.5970 - val_loss: 0.9626 - val_categorical_accuracy: 0.6136\n",
      "Epoch 28/175\n",
      "461/461 [==============================] - 39s 85ms/step - loss: 0.9390 - categorical_accuracy: 0.6161 - val_loss: 1.0036 - val_categorical_accuracy: 0.6098\n",
      "Epoch 29/175\n",
      "461/461 [==============================] - 39s 85ms/step - loss: 0.9476 - categorical_accuracy: 0.6172 - val_loss: 0.9752 - val_categorical_accuracy: 0.6023\n",
      "Epoch 30/175\n",
      "461/461 [==============================] - 39s 85ms/step - loss: 0.9038 - categorical_accuracy: 0.6559 - val_loss: 0.9678 - val_categorical_accuracy: 0.6212\n",
      "Epoch 31/175\n",
      "461/461 [==============================] - 39s 85ms/step - loss: 0.9068 - categorical_accuracy: 0.6498 - val_loss: 0.9390 - val_categorical_accuracy: 0.6212\n",
      "Epoch 32/175\n",
      "461/461 [==============================] - 39s 86ms/step - loss: 0.8938 - categorical_accuracy: 0.6509 - val_loss: 0.9491 - val_categorical_accuracy: 0.6061\n",
      "Epoch 33/175\n",
      "461/461 [==============================] - 39s 85ms/step - loss: 0.9387 - categorical_accuracy: 0.6274 - val_loss: 0.9388 - val_categorical_accuracy: 0.6477\n",
      "Epoch 34/175\n",
      "461/461 [==============================] - 39s 85ms/step - loss: 0.8822 - categorical_accuracy: 0.6574 - val_loss: 0.9346 - val_categorical_accuracy: 0.6098\n",
      "Epoch 35/175\n",
      "461/461 [==============================] - 39s 85ms/step - loss: 0.9742 - categorical_accuracy: 0.6179 - val_loss: 0.9902 - val_categorical_accuracy: 0.6061\n",
      "Epoch 36/175\n",
      "461/461 [==============================] - 39s 85ms/step - loss: 0.9232 - categorical_accuracy: 0.6274 - val_loss: 0.9338 - val_categorical_accuracy: 0.6553\n",
      "Epoch 37/175\n",
      "461/461 [==============================] - 39s 84ms/step - loss: 0.9877 - categorical_accuracy: 0.6075 - val_loss: 1.6400 - val_categorical_accuracy: 0.3220\n",
      "Epoch 38/175\n",
      "461/461 [==============================] - 39s 85ms/step - loss: 1.1836 - categorical_accuracy: 0.5217 - val_loss: 0.9937 - val_categorical_accuracy: 0.6212\n",
      "Epoch 39/175\n",
      "461/461 [==============================] - 39s 84ms/step - loss: 0.9816 - categorical_accuracy: 0.6161 - val_loss: 0.9358 - val_categorical_accuracy: 0.6250\n",
      "Epoch 40/175\n",
      "461/461 [==============================] - 39s 84ms/step - loss: 0.9476 - categorical_accuracy: 0.6223 - val_loss: 0.9820 - val_categorical_accuracy: 0.5909\n",
      "Epoch 41/175\n",
      "461/461 [==============================] - 39s 85ms/step - loss: 0.7964 - categorical_accuracy: 0.6954 - val_loss: 0.9460 - val_categorical_accuracy: 0.6098\n",
      "Epoch 42/175\n",
      "461/461 [==============================] - 39s 85ms/step - loss: 0.8490 - categorical_accuracy: 0.6719 - val_loss: 0.9222 - val_categorical_accuracy: 0.6439\n",
      "Epoch 43/175\n",
      "461/461 [==============================] - 39s 84ms/step - loss: 0.8103 - categorical_accuracy: 0.7095 - val_loss: 0.8773 - val_categorical_accuracy: 0.6705\n",
      "Epoch 44/175\n",
      "461/461 [==============================] - 39s 85ms/step - loss: 0.7296 - categorical_accuracy: 0.7211 - val_loss: 0.8682 - val_categorical_accuracy: 0.6970\n",
      "Epoch 45/175\n",
      "461/461 [==============================] - 39s 84ms/step - loss: 0.7111 - categorical_accuracy: 0.7348 - val_loss: 0.8171 - val_categorical_accuracy: 0.7045\n",
      "Epoch 46/175\n",
      "461/461 [==============================] - 39s 86ms/step - loss: 0.6858 - categorical_accuracy: 0.7464 - val_loss: 0.7062 - val_categorical_accuracy: 0.7235\n",
      "Epoch 47/175\n",
      "461/461 [==============================] - 39s 85ms/step - loss: 0.6708 - categorical_accuracy: 0.7493 - val_loss: 0.8690 - val_categorical_accuracy: 0.6856\n",
      "Epoch 48/175\n",
      "461/461 [==============================] - 39s 84ms/step - loss: 0.6566 - categorical_accuracy: 0.7558 - val_loss: 0.6624 - val_categorical_accuracy: 0.7576\n",
      "Epoch 49/175\n",
      "461/461 [==============================] - 39s 85ms/step - loss: 0.6224 - categorical_accuracy: 0.7677 - val_loss: 0.7532 - val_categorical_accuracy: 0.7538\n",
      "Epoch 50/175\n",
      "461/461 [==============================] - 39s 85ms/step - loss: 0.6268 - categorical_accuracy: 0.7728 - val_loss: 0.7983 - val_categorical_accuracy: 0.7121\n",
      "Epoch 51/175\n",
      "461/461 [==============================] - 39s 84ms/step - loss: 0.6090 - categorical_accuracy: 0.7732 - val_loss: 0.6095 - val_categorical_accuracy: 0.7538\n",
      "Epoch 52/175\n",
      "461/461 [==============================] - 39s 85ms/step - loss: 0.5833 - categorical_accuracy: 0.7826 - val_loss: 0.6005 - val_categorical_accuracy: 0.7841\n",
      "Epoch 53/175\n",
      "461/461 [==============================] - 39s 85ms/step - loss: 0.5276 - categorical_accuracy: 0.8028 - val_loss: 0.5862 - val_categorical_accuracy: 0.7879\n",
      "Epoch 54/175\n",
      "461/461 [==============================] - 39s 84ms/step - loss: 0.4917 - categorical_accuracy: 0.8133 - val_loss: 0.6543 - val_categorical_accuracy: 0.7500\n",
      "Epoch 55/175\n",
      "461/461 [==============================] - 39s 85ms/step - loss: 0.4842 - categorical_accuracy: 0.8166 - val_loss: 0.6836 - val_categorical_accuracy: 0.7386\n",
      "Epoch 56/175\n",
      "461/461 [==============================] - 39s 85ms/step - loss: 0.5340 - categorical_accuracy: 0.7967 - val_loss: 0.6339 - val_categorical_accuracy: 0.8030\n",
      "Epoch 57/175\n",
      "461/461 [==============================] - 39s 84ms/step - loss: 0.4852 - categorical_accuracy: 0.8234 - val_loss: 0.5826 - val_categorical_accuracy: 0.7917\n",
      "Epoch 58/175\n",
      "461/461 [==============================] - 39s 85ms/step - loss: 0.5041 - categorical_accuracy: 0.8137 - val_loss: 0.5933 - val_categorical_accuracy: 0.7879\n",
      "Epoch 59/175\n",
      "461/461 [==============================] - 39s 85ms/step - loss: 0.4974 - categorical_accuracy: 0.8140 - val_loss: 0.5698 - val_categorical_accuracy: 0.8106\n",
      "Epoch 60/175\n",
      "461/461 [==============================] - 39s 84ms/step - loss: 0.5134 - categorical_accuracy: 0.8090 - val_loss: 0.5336 - val_categorical_accuracy: 0.8182\n",
      "Epoch 61/175\n",
      "461/461 [==============================] - 39s 85ms/step - loss: 0.4619 - categorical_accuracy: 0.8303 - val_loss: 0.5122 - val_categorical_accuracy: 0.8068\n",
      "Epoch 62/175\n",
      "461/461 [==============================] - 39s 85ms/step - loss: 0.4554 - categorical_accuracy: 0.8281 - val_loss: 0.5564 - val_categorical_accuracy: 0.7841\n",
      "Epoch 63/175\n",
      "461/461 [==============================] - 39s 84ms/step - loss: 0.4337 - categorical_accuracy: 0.8379 - val_loss: 0.5541 - val_categorical_accuracy: 0.7765\n",
      "Epoch 64/175\n",
      "461/461 [==============================] - 39s 85ms/step - loss: 0.4552 - categorical_accuracy: 0.8278 - val_loss: 0.5379 - val_categorical_accuracy: 0.8068\n",
      "Epoch 65/175\n",
      "461/461 [==============================] - 39s 84ms/step - loss: 0.4270 - categorical_accuracy: 0.8401 - val_loss: 0.5979 - val_categorical_accuracy: 0.7765\n",
      "Epoch 66/175\n",
      "461/461 [==============================] - 39s 85ms/step - loss: 0.4176 - categorical_accuracy: 0.8462 - val_loss: 0.4804 - val_categorical_accuracy: 0.8295\n",
      "Epoch 67/175\n",
      "461/461 [==============================] - 39s 85ms/step - loss: 0.4530 - categorical_accuracy: 0.8281 - val_loss: 0.6029 - val_categorical_accuracy: 0.7841\n",
      "Epoch 68/175\n",
      "461/461 [==============================] - 39s 84ms/step - loss: 0.4522 - categorical_accuracy: 0.8300 - val_loss: 0.6826 - val_categorical_accuracy: 0.7727\n",
      "Epoch 69/175\n",
      "461/461 [==============================] - 39s 85ms/step - loss: 0.4508 - categorical_accuracy: 0.8249 - val_loss: 0.4818 - val_categorical_accuracy: 0.8371\n",
      "Epoch 70/175\n",
      "461/461 [==============================] - 39s 85ms/step - loss: 0.3889 - categorical_accuracy: 0.8517 - val_loss: 0.6443 - val_categorical_accuracy: 0.7614\n",
      "Epoch 71/175\n",
      "461/461 [==============================] - 40s 86ms/step - loss: 0.3698 - categorical_accuracy: 0.8589 - val_loss: 0.5226 - val_categorical_accuracy: 0.8144\n",
      "Epoch 72/175\n",
      "461/461 [==============================] - 40s 86ms/step - loss: 0.3528 - categorical_accuracy: 0.8600 - val_loss: 0.6415 - val_categorical_accuracy: 0.7727\n",
      "Epoch 73/175\n",
      "461/461 [==============================] - 39s 85ms/step - loss: 0.3903 - categorical_accuracy: 0.8524 - val_loss: 0.5014 - val_categorical_accuracy: 0.8258\n",
      "Epoch 74/175\n",
      "461/461 [==============================] - 39s 85ms/step - loss: 0.4012 - categorical_accuracy: 0.8520 - val_loss: 0.6059 - val_categorical_accuracy: 0.7879\n",
      "Epoch 75/175\n",
      "461/461 [==============================] - 39s 86ms/step - loss: 0.3919 - categorical_accuracy: 0.8556 - val_loss: 0.4709 - val_categorical_accuracy: 0.8333\n",
      "Epoch 76/175\n",
      "461/461 [==============================] - 40s 87ms/step - loss: 0.3648 - categorical_accuracy: 0.8585 - val_loss: 0.5999 - val_categorical_accuracy: 0.7955\n",
      "Epoch 77/175\n",
      "461/461 [==============================] - 39s 84ms/step - loss: 0.3845 - categorical_accuracy: 0.8549 - val_loss: 0.5119 - val_categorical_accuracy: 0.8182\n",
      "Epoch 78/175\n",
      "461/461 [==============================] - 40s 86ms/step - loss: 0.3342 - categorical_accuracy: 0.8723 - val_loss: 0.5535 - val_categorical_accuracy: 0.7992\n",
      "Epoch 79/175\n",
      "461/461 [==============================] - 39s 85ms/step - loss: 0.3685 - categorical_accuracy: 0.8636 - val_loss: 0.5000 - val_categorical_accuracy: 0.7992\n",
      "Epoch 80/175\n",
      "461/461 [==============================] - 39s 84ms/step - loss: 0.3346 - categorical_accuracy: 0.8687 - val_loss: 0.4071 - val_categorical_accuracy: 0.8409\n",
      "Epoch 81/175\n",
      "461/461 [==============================] - 40s 88ms/step - loss: 0.3641 - categorical_accuracy: 0.8571 - val_loss: 0.5124 - val_categorical_accuracy: 0.8182\n",
      "Epoch 82/175\n",
      "461/461 [==============================] - 39s 85ms/step - loss: 0.3210 - categorical_accuracy: 0.8748 - val_loss: 0.4637 - val_categorical_accuracy: 0.8371\n",
      "Epoch 83/175\n",
      "461/461 [==============================] - 39s 85ms/step - loss: 0.3514 - categorical_accuracy: 0.8578 - val_loss: 0.4829 - val_categorical_accuracy: 0.8182\n",
      "Epoch 84/175\n",
      "461/461 [==============================] - 39s 85ms/step - loss: 0.3337 - categorical_accuracy: 0.8708 - val_loss: 0.4639 - val_categorical_accuracy: 0.8333\n",
      "Epoch 85/175\n",
      "461/461 [==============================] - 39s 86ms/step - loss: 0.3282 - categorical_accuracy: 0.8752 - val_loss: 0.4314 - val_categorical_accuracy: 0.8561\n",
      "Epoch 86/175\n",
      "461/461 [==============================] - 39s 85ms/step - loss: 0.3451 - categorical_accuracy: 0.8679 - val_loss: 0.6911 - val_categorical_accuracy: 0.7879\n",
      "Epoch 87/175\n",
      "461/461 [==============================] - 40s 86ms/step - loss: 0.3274 - categorical_accuracy: 0.8730 - val_loss: 0.4303 - val_categorical_accuracy: 0.8561\n",
      "Epoch 88/175\n",
      "461/461 [==============================] - 40s 87ms/step - loss: 0.3056 - categorical_accuracy: 0.8781 - val_loss: 0.4395 - val_categorical_accuracy: 0.8409\n",
      "Epoch 89/175\n",
      "461/461 [==============================] - 39s 85ms/step - loss: 0.3542 - categorical_accuracy: 0.8665 - val_loss: 0.5117 - val_categorical_accuracy: 0.8523\n",
      "Epoch 90/175\n",
      "461/461 [==============================] - 39s 85ms/step - loss: 0.3225 - categorical_accuracy: 0.8784 - val_loss: 0.5039 - val_categorical_accuracy: 0.8220\n",
      "Epoch 91/175\n",
      "461/461 [==============================] - 39s 85ms/step - loss: 0.3484 - categorical_accuracy: 0.8683 - val_loss: 0.4423 - val_categorical_accuracy: 0.8371\n",
      "Epoch 92/175\n",
      "461/461 [==============================] - 39s 84ms/step - loss: 0.3817 - categorical_accuracy: 0.8578 - val_loss: 0.3856 - val_categorical_accuracy: 0.8674\n",
      "Epoch 93/175\n",
      "461/461 [==============================] - 39s 85ms/step - loss: 0.2936 - categorical_accuracy: 0.8788 - val_loss: 0.4529 - val_categorical_accuracy: 0.8144\n",
      "Epoch 94/175\n",
      "461/461 [==============================] - 39s 84ms/step - loss: 0.2951 - categorical_accuracy: 0.8806 - val_loss: 0.5454 - val_categorical_accuracy: 0.8258\n",
      "Epoch 95/175\n",
      "461/461 [==============================] - 40s 86ms/step - loss: 0.3765 - categorical_accuracy: 0.8549 - val_loss: 0.5468 - val_categorical_accuracy: 0.8106\n",
      "Epoch 96/175\n",
      "461/461 [==============================] - 39s 85ms/step - loss: 0.2929 - categorical_accuracy: 0.8947 - val_loss: 0.4404 - val_categorical_accuracy: 0.8485\n",
      "Epoch 97/175\n"
     ]
    },
    {
     "name": "stdout",
     "output_type": "stream",
     "text": [
      "461/461 [==============================] - 39s 84ms/step - loss: 0.2981 - categorical_accuracy: 0.8853 - val_loss: 0.5161 - val_categorical_accuracy: 0.8030\n",
      "Epoch 98/175\n",
      "461/461 [==============================] - 39s 85ms/step - loss: 0.2977 - categorical_accuracy: 0.8835 - val_loss: 0.4495 - val_categorical_accuracy: 0.8561\n",
      "Epoch 99/175\n",
      "461/461 [==============================] - 39s 85ms/step - loss: 0.2876 - categorical_accuracy: 0.8929 - val_loss: 0.5036 - val_categorical_accuracy: 0.8258\n",
      "Epoch 100/175\n",
      "461/461 [==============================] - 39s 85ms/step - loss: 0.3002 - categorical_accuracy: 0.8813 - val_loss: 0.4621 - val_categorical_accuracy: 0.8333\n",
      "Epoch 101/175\n",
      "461/461 [==============================] - 39s 86ms/step - loss: 0.3176 - categorical_accuracy: 0.8734 - val_loss: 0.4642 - val_categorical_accuracy: 0.8561\n",
      "Epoch 102/175\n",
      "461/461 [==============================] - 39s 85ms/step - loss: 0.2867 - categorical_accuracy: 0.8904 - val_loss: 0.4115 - val_categorical_accuracy: 0.8561\n",
      "Epoch 103/175\n",
      "461/461 [==============================] - 39s 84ms/step - loss: 0.3091 - categorical_accuracy: 0.8788 - val_loss: 0.4219 - val_categorical_accuracy: 0.8750\n",
      "Epoch 104/175\n",
      "461/461 [==============================] - 39s 85ms/step - loss: 0.3314 - categorical_accuracy: 0.8737 - val_loss: 0.5241 - val_categorical_accuracy: 0.8409\n",
      "Epoch 105/175\n",
      "461/461 [==============================] - 39s 85ms/step - loss: 0.3404 - categorical_accuracy: 0.8712 - val_loss: 0.4786 - val_categorical_accuracy: 0.8295\n",
      "Epoch 106/175\n",
      "461/461 [==============================] - 40s 86ms/step - loss: 0.2825 - categorical_accuracy: 0.8936 - val_loss: 0.3934 - val_categorical_accuracy: 0.8561\n",
      "Epoch 107/175\n",
      "461/461 [==============================] - 39s 85ms/step - loss: 0.2901 - categorical_accuracy: 0.8857 - val_loss: 0.5309 - val_categorical_accuracy: 0.8220\n",
      "Epoch 108/175\n",
      "461/461 [==============================] - 40s 86ms/step - loss: 0.2767 - categorical_accuracy: 0.8962 - val_loss: 0.4910 - val_categorical_accuracy: 0.8561\n",
      "Epoch 109/175\n",
      "461/461 [==============================] - 39s 84ms/step - loss: 0.2864 - categorical_accuracy: 0.8875 - val_loss: 0.4633 - val_categorical_accuracy: 0.8333\n",
      "Epoch 110/175\n",
      "461/461 [==============================] - 40s 87ms/step - loss: 0.3286 - categorical_accuracy: 0.8774 - val_loss: 0.5533 - val_categorical_accuracy: 0.8144\n",
      "Epoch 111/175\n",
      "461/461 [==============================] - 39s 85ms/step - loss: 0.3141 - categorical_accuracy: 0.8748 - val_loss: 0.4212 - val_categorical_accuracy: 0.8598\n",
      "Epoch 112/175\n",
      "461/461 [==============================] - 39s 85ms/step - loss: 0.2909 - categorical_accuracy: 0.8882 - val_loss: 0.4382 - val_categorical_accuracy: 0.8561\n",
      "Epoch 113/175\n",
      "461/461 [==============================] - 39s 85ms/step - loss: 0.3110 - categorical_accuracy: 0.8802 - val_loss: 0.4779 - val_categorical_accuracy: 0.8258\n",
      "Epoch 114/175\n",
      "461/461 [==============================] - 41s 88ms/step - loss: 0.3174 - categorical_accuracy: 0.8831 - val_loss: 0.4598 - val_categorical_accuracy: 0.8371\n",
      "Epoch 115/175\n",
      "461/461 [==============================] - 39s 85ms/step - loss: 0.2700 - categorical_accuracy: 0.8925 - val_loss: 0.5080 - val_categorical_accuracy: 0.8258\n",
      "Epoch 116/175\n",
      "461/461 [==============================] - 39s 85ms/step - loss: 0.2941 - categorical_accuracy: 0.8897 - val_loss: 0.4638 - val_categorical_accuracy: 0.8371\n",
      "Epoch 117/175\n",
      "461/461 [==============================] - 39s 85ms/step - loss: 0.2740 - categorical_accuracy: 0.8900 - val_loss: 0.4262 - val_categorical_accuracy: 0.8447\n",
      "Epoch 118/175\n",
      "461/461 [==============================] - 39s 85ms/step - loss: 0.2632 - categorical_accuracy: 0.8980 - val_loss: 0.5514 - val_categorical_accuracy: 0.8295\n",
      "Epoch 119/175\n",
      "461/461 [==============================] - 40s 86ms/step - loss: 0.2993 - categorical_accuracy: 0.8810 - val_loss: 0.4779 - val_categorical_accuracy: 0.8182\n",
      "Epoch 120/175\n",
      "461/461 [==============================] - 39s 85ms/step - loss: 0.3102 - categorical_accuracy: 0.8853 - val_loss: 0.5042 - val_categorical_accuracy: 0.8220\n",
      "Epoch 121/175\n",
      "461/461 [==============================] - 39s 85ms/step - loss: 0.2917 - categorical_accuracy: 0.8864 - val_loss: 0.5551 - val_categorical_accuracy: 0.8371\n",
      "Epoch 122/175\n",
      "461/461 [==============================] - 39s 85ms/step - loss: 0.2698 - categorical_accuracy: 0.8940 - val_loss: 0.4297 - val_categorical_accuracy: 0.8598\n",
      "Epoch 123/175\n",
      "461/461 [==============================] - 39s 85ms/step - loss: 0.2756 - categorical_accuracy: 0.8973 - val_loss: 0.4571 - val_categorical_accuracy: 0.8523\n",
      "Epoch 124/175\n",
      "461/461 [==============================] - 39s 85ms/step - loss: 0.2490 - categorical_accuracy: 0.9034 - val_loss: 0.5685 - val_categorical_accuracy: 0.8220\n",
      "Epoch 125/175\n",
      "461/461 [==============================] - 39s 85ms/step - loss: 0.2584 - categorical_accuracy: 0.8962 - val_loss: 0.4693 - val_categorical_accuracy: 0.8485\n",
      "Epoch 126/175\n",
      "461/461 [==============================] - 39s 84ms/step - loss: 0.2589 - categorical_accuracy: 0.8998 - val_loss: 0.4033 - val_categorical_accuracy: 0.8523\n",
      "Epoch 127/175\n",
      "461/461 [==============================] - 40s 86ms/step - loss: 0.2659 - categorical_accuracy: 0.8929 - val_loss: 0.4313 - val_categorical_accuracy: 0.8371\n",
      "Epoch 128/175\n",
      "461/461 [==============================] - 39s 85ms/step - loss: 0.2727 - categorical_accuracy: 0.8962 - val_loss: 0.4310 - val_categorical_accuracy: 0.8561\n",
      "Epoch 129/175\n",
      "461/461 [==============================] - 39s 84ms/step - loss: 0.2422 - categorical_accuracy: 0.8998 - val_loss: 0.4885 - val_categorical_accuracy: 0.8333\n",
      "Epoch 130/175\n",
      "461/461 [==============================] - 39s 85ms/step - loss: 0.2524 - categorical_accuracy: 0.9016 - val_loss: 0.3753 - val_categorical_accuracy: 0.8750\n",
      "Epoch 131/175\n",
      "461/461 [==============================] - 39s 84ms/step - loss: 0.2396 - categorical_accuracy: 0.9052 - val_loss: 0.5036 - val_categorical_accuracy: 0.8258\n",
      "Epoch 132/175\n",
      "461/461 [==============================] - 39s 84ms/step - loss: 0.2908 - categorical_accuracy: 0.8907 - val_loss: 0.5814 - val_categorical_accuracy: 0.8068\n",
      "Epoch 133/175\n",
      "461/461 [==============================] - 39s 85ms/step - loss: 0.2923 - categorical_accuracy: 0.8835 - val_loss: 0.4115 - val_categorical_accuracy: 0.8409\n",
      "Epoch 134/175\n",
      "461/461 [==============================] - 39s 85ms/step - loss: 0.2777 - categorical_accuracy: 0.8936 - val_loss: 0.4684 - val_categorical_accuracy: 0.8182\n",
      "Epoch 135/175\n",
      "461/461 [==============================] - 39s 84ms/step - loss: 0.3145 - categorical_accuracy: 0.8849 - val_loss: 0.4011 - val_categorical_accuracy: 0.8561\n",
      "Epoch 136/175\n",
      "461/461 [==============================] - 40s 86ms/step - loss: 0.2666 - categorical_accuracy: 0.8915 - val_loss: 0.4185 - val_categorical_accuracy: 0.8409\n",
      "Epoch 137/175\n",
      "461/461 [==============================] - 39s 85ms/step - loss: 0.2964 - categorical_accuracy: 0.8893 - val_loss: 0.4256 - val_categorical_accuracy: 0.8561\n",
      "Epoch 138/175\n",
      "461/461 [==============================] - 39s 84ms/step - loss: 0.2457 - categorical_accuracy: 0.8983 - val_loss: 0.4292 - val_categorical_accuracy: 0.8523\n",
      "Epoch 139/175\n",
      "461/461 [==============================] - 39s 85ms/step - loss: 0.2551 - categorical_accuracy: 0.8983 - val_loss: 0.4004 - val_categorical_accuracy: 0.8712\n",
      "Epoch 140/175\n",
      "461/461 [==============================] - 39s 84ms/step - loss: 0.2890 - categorical_accuracy: 0.8951 - val_loss: 0.3922 - val_categorical_accuracy: 0.8598\n",
      "Epoch 141/175\n",
      "461/461 [==============================] - 39s 84ms/step - loss: 0.2436 - categorical_accuracy: 0.9041 - val_loss: 0.4123 - val_categorical_accuracy: 0.8712\n",
      "Epoch 142/175\n",
      "461/461 [==============================] - 40s 87ms/step - loss: 0.2349 - categorical_accuracy: 0.9077 - val_loss: 0.4476 - val_categorical_accuracy: 0.8447\n",
      "Epoch 143/175\n",
      "461/461 [==============================] - 39s 85ms/step - loss: 0.2366 - categorical_accuracy: 0.9059 - val_loss: 0.4601 - val_categorical_accuracy: 0.8523\n",
      "Epoch 144/175\n",
      "461/461 [==============================] - 39s 85ms/step - loss: 0.2559 - categorical_accuracy: 0.8998 - val_loss: 0.4097 - val_categorical_accuracy: 0.8750\n",
      "Epoch 145/175\n"
     ]
    },
    {
     "name": "stdout",
     "output_type": "stream",
     "text": [
      "461/461 [==============================] - 39s 85ms/step - loss: 0.2188 - categorical_accuracy: 0.9161 - val_loss: 0.3937 - val_categorical_accuracy: 0.8788\n",
      "Epoch 146/175\n",
      "461/461 [==============================] - 39s 84ms/step - loss: 0.2262 - categorical_accuracy: 0.9150 - val_loss: 0.3762 - val_categorical_accuracy: 0.8674\n",
      "Epoch 147/175\n",
      "461/461 [==============================] - 39s 85ms/step - loss: 0.2479 - categorical_accuracy: 0.9077 - val_loss: 0.4367 - val_categorical_accuracy: 0.8485\n",
      "Epoch 148/175\n",
      "461/461 [==============================] - 39s 85ms/step - loss: 0.2308 - categorical_accuracy: 0.9143 - val_loss: 0.4410 - val_categorical_accuracy: 0.8295\n",
      "Epoch 149/175\n",
      "461/461 [==============================] - 39s 85ms/step - loss: 0.2204 - categorical_accuracy: 0.9117 - val_loss: 0.4296 - val_categorical_accuracy: 0.8561\n",
      "Epoch 150/175\n",
      "461/461 [==============================] - 39s 85ms/step - loss: 0.2147 - categorical_accuracy: 0.9150 - val_loss: 0.4177 - val_categorical_accuracy: 0.8750\n",
      "Epoch 151/175\n",
      "461/461 [==============================] - 39s 85ms/step - loss: 0.2277 - categorical_accuracy: 0.9135 - val_loss: 0.3801 - val_categorical_accuracy: 0.8750\n",
      "Epoch 152/175\n",
      "461/461 [==============================] - 39s 84ms/step - loss: 0.2156 - categorical_accuracy: 0.9208 - val_loss: 0.3920 - val_categorical_accuracy: 0.8712\n",
      "Epoch 153/175\n",
      "461/461 [==============================] - 39s 85ms/step - loss: 0.2254 - categorical_accuracy: 0.9117 - val_loss: 0.4047 - val_categorical_accuracy: 0.8636\n",
      "Epoch 154/175\n",
      "461/461 [==============================] - 40s 87ms/step - loss: 0.2145 - categorical_accuracy: 0.9237 - val_loss: 0.4078 - val_categorical_accuracy: 0.8447\n",
      "Epoch 155/175\n",
      "461/461 [==============================] - 40s 86ms/step - loss: 0.2322 - categorical_accuracy: 0.9074 - val_loss: 0.3898 - val_categorical_accuracy: 0.8750\n",
      "Epoch 156/175\n",
      "461/461 [==============================] - 40s 87ms/step - loss: 0.2148 - categorical_accuracy: 0.9179 - val_loss: 0.4149 - val_categorical_accuracy: 0.8598\n",
      "Epoch 157/175\n",
      "461/461 [==============================] - 40s 86ms/step - loss: 0.2248 - categorical_accuracy: 0.9182 - val_loss: 0.4604 - val_categorical_accuracy: 0.8295\n",
      "Epoch 158/175\n",
      "461/461 [==============================] - 40s 86ms/step - loss: 0.1960 - categorical_accuracy: 0.9251 - val_loss: 0.4399 - val_categorical_accuracy: 0.8561\n",
      "Epoch 159/175\n",
      "461/461 [==============================] - 40s 86ms/step - loss: 0.2032 - categorical_accuracy: 0.9200 - val_loss: 0.4040 - val_categorical_accuracy: 0.8674\n",
      "Epoch 160/175\n",
      "461/461 [==============================] - 40s 87ms/step - loss: 0.2245 - categorical_accuracy: 0.9215 - val_loss: 0.3885 - val_categorical_accuracy: 0.8712\n",
      "Epoch 161/175\n",
      "461/461 [==============================] - 40s 87ms/step - loss: 0.2187 - categorical_accuracy: 0.9164 - val_loss: 0.3872 - val_categorical_accuracy: 0.8674\n",
      "Epoch 162/175\n",
      "461/461 [==============================] - 40s 88ms/step - loss: 0.2051 - categorical_accuracy: 0.9215 - val_loss: 0.4288 - val_categorical_accuracy: 0.8409\n",
      "Epoch 163/175\n",
      "461/461 [==============================] - 41s 90ms/step - loss: 0.2261 - categorical_accuracy: 0.9175 - val_loss: 0.6270 - val_categorical_accuracy: 0.7917\n",
      "Epoch 164/175\n",
      "461/461 [==============================] - 41s 89ms/step - loss: 0.2212 - categorical_accuracy: 0.9157 - val_loss: 0.4256 - val_categorical_accuracy: 0.8674\n",
      "Epoch 165/175\n",
      "461/461 [==============================] - 40s 88ms/step - loss: 0.2037 - categorical_accuracy: 0.9255 - val_loss: 0.4584 - val_categorical_accuracy: 0.8598\n",
      "Epoch 166/175\n",
      "461/461 [==============================] - 2975s 6s/step - loss: 0.1886 - categorical_accuracy: 0.9273 - val_loss: 0.3757 - val_categorical_accuracy: 0.8674\n",
      "Epoch 167/175\n",
      "461/461 [==============================] - 39s 85ms/step - loss: 0.1810 - categorical_accuracy: 0.9320 - val_loss: 0.5162 - val_categorical_accuracy: 0.8371\n",
      "Epoch 168/175\n",
      "461/461 [==============================] - 39s 85ms/step - loss: 0.1974 - categorical_accuracy: 0.9240 - val_loss: 0.3925 - val_categorical_accuracy: 0.8750\n",
      "Epoch 169/175\n",
      "461/461 [==============================] - 44s 96ms/step - loss: 0.1919 - categorical_accuracy: 0.9338 - val_loss: 0.3905 - val_categorical_accuracy: 0.8523\n",
      "Epoch 170/175\n",
      "461/461 [==============================] - 41s 90ms/step - loss: 0.1864 - categorical_accuracy: 0.9276 - val_loss: 0.4156 - val_categorical_accuracy: 0.8598\n",
      "Epoch 171/175\n",
      "461/461 [==============================] - 39s 86ms/step - loss: 0.2425 - categorical_accuracy: 0.9175 - val_loss: 0.4122 - val_categorical_accuracy: 0.8712\n",
      "Epoch 172/175\n",
      "461/461 [==============================] - 42s 90ms/step - loss: 0.1752 - categorical_accuracy: 0.9363 - val_loss: 0.4420 - val_categorical_accuracy: 0.8636\n",
      "Epoch 173/175\n",
      "461/461 [==============================] - 39s 85ms/step - loss: 0.1650 - categorical_accuracy: 0.9370 - val_loss: 0.3894 - val_categorical_accuracy: 0.9015\n",
      "Epoch 174/175\n",
      "461/461 [==============================] - 39s 85ms/step - loss: 0.1654 - categorical_accuracy: 0.9363 - val_loss: 0.4519 - val_categorical_accuracy: 0.8447\n",
      "Epoch 175/175\n",
      "461/461 [==============================] - 40s 86ms/step - loss: 0.2209 - categorical_accuracy: 0.9240 - val_loss: 0.4950 - val_categorical_accuracy: 0.8712\n"
     ]
    }
   ],
   "source": [
    "rlrop = callbacks.ReduceLROnPlateau(monitor='val_categorical_accuracy', factor=0.01, patience=100)\n",
    "MODEL.compile(loss='categorical_crossentropy', optimizer='ADAM', metrics=['categorical_accuracy'])\n",
    "model = MODEL.fit(X_train, y_train_class, epochs=175, batch_size=6, validation_data=(X_val, y_val_class))"
   ]
  },
  {
   "cell_type": "markdown",
   "metadata": {},
   "source": [
    "# 6. Evaluate and conclude\n",
    "\n",
    "Let's see how good are model is. "
   ]
  },
  {
   "cell_type": "code",
   "execution_count": 25,
   "metadata": {},
   "outputs": [],
   "source": [
    "from sklearn.metrics import confusion_matrix"
   ]
  },
  {
   "cell_type": "code",
   "execution_count": 26,
   "metadata": {},
   "outputs": [
    {
     "data": {
      "image/png": "[encoded data removed]",
      "text/plain": [
       "<Figure size 1000x500 with 2 Axes>"
      ]
     },
     "metadata": {},
     "output_type": "display_data"
    }
   ],
   "source": [
    "fig, axes = plt.subplots(1, 2, figsize=(10, 5))\n",
    "\n",
    "axes[0].plot(model.history['loss'])\n",
    "axes[0].plot(model.history['val_loss'])\n",
    "axes[0].set_title('Loss for Train and Validation Sets')\n",
    "axes[0].set_ylabel('Loss')\n",
    "axes[0].set_xlabel('Epochs')\n",
    "axes[0].legend(['Training', 'Validation'])\n",
    "\n",
    "axes[1].plot(model.history['categorical_accuracy'])\n",
    "axes[1].plot(model.history['val_categorical_accuracy'])\n",
    "axes[1].set_title('Accuracy for Train and Validation Sets')\n",
    "axes[1].set_ylabel('Accuracy')\n",
    "axes[1].set_xlabel('Epochs')\n",
    "axes[1].legend(['Training', 'Validation'])\n",
    "\n",
    "fig.tight_layout()\n",
    "\n",
    "plt.show()"
   ]
  },
  {
   "cell_type": "code",
   "execution_count": 27,
   "metadata": {},
   "outputs": [
    {
     "name": "stdout",
     "output_type": "stream",
     "text": [
      "9/9 [==============================] - 1s 32ms/step\n"
     ]
    },
    {
     "data": {
      "image/png": "[encoded data removed]",
      "text/plain": [
       "<Figure size 640x480 with 2 Axes>"
      ]
     },
     "metadata": {},
     "output_type": "display_data"
    }
   ],
   "source": [
    "import seaborn as sns\n",
    "\n",
    "y_pred = np.argmax(MODEL.predict(X_val), axis=1)\n",
    "labels = ['neutral', 'calm', 'sad', 'happy', 'fear', 'disgust']\n",
    "cm = confusion_matrix(np.argmax(y_val_class, axis=1), y_pred, labels=range(6))\n",
    "\n",
    "sns.heatmap(cm, annot=True, fmt='d', cmap='Reds', xticklabels=labels, yticklabels=labels)\n",
    "plt.xlabel('Predicted label')\n",
    "plt.ylabel('True label')\n",
    "plt.title('Confusion matrix')\n",
    "plt.show()"
   ]
  },
  {
   "cell_type": "code",
   "execution_count": 33,
   "metadata": {},
   "outputs": [
    {
     "ename": "NameError",
     "evalue": "name 'MODEL' is not defined",
     "output_type": "error",
     "traceback": [
      "\u001b[0;31m---------------------------------------------------------------------------\u001b[0m",
      "\u001b[0;31mNameError\u001b[0m                                 Traceback (most recent call last)",
      "Cell \u001b[0;32mIn[33], line 3\u001b[0m\n\u001b[1;32m      1\u001b[0m \u001b[38;5;28;01mimport\u001b[39;00m \u001b[38;5;21;01mseaborn\u001b[39;00m \u001b[38;5;28;01mas\u001b[39;00m \u001b[38;5;21;01msns\u001b[39;00m\n\u001b[0;32m----> 3\u001b[0m y_pred \u001b[38;5;241m=\u001b[39m np\u001b[38;5;241m.\u001b[39margmax(\u001b[43mMODEL\u001b[49m\u001b[38;5;241m.\u001b[39mpredict(X_val), axis\u001b[38;5;241m=\u001b[39m\u001b[38;5;241m1\u001b[39m)\n\u001b[1;32m      4\u001b[0m labels \u001b[38;5;241m=\u001b[39m [\u001b[38;5;124m'\u001b[39m\u001b[38;5;124mneutral\u001b[39m\u001b[38;5;124m'\u001b[39m, \u001b[38;5;124m'\u001b[39m\u001b[38;5;124mcalm\u001b[39m\u001b[38;5;124m'\u001b[39m, \u001b[38;5;124m'\u001b[39m\u001b[38;5;124msad\u001b[39m\u001b[38;5;124m'\u001b[39m, \u001b[38;5;124m'\u001b[39m\u001b[38;5;124mhappy\u001b[39m\u001b[38;5;124m'\u001b[39m, \u001b[38;5;124m'\u001b[39m\u001b[38;5;124mfear\u001b[39m\u001b[38;5;124m'\u001b[39m, \u001b[38;5;124m'\u001b[39m\u001b[38;5;124mdisgust\u001b[39m\u001b[38;5;124m'\u001b[39m]\n\u001b[1;32m      5\u001b[0m cm \u001b[38;5;241m=\u001b[39m confusion_matrix(np\u001b[38;5;241m.\u001b[39margmax(y_val_class, axis\u001b[38;5;241m=\u001b[39m\u001b[38;5;241m1\u001b[39m), y_pred, labels\u001b[38;5;241m=\u001b[39m\u001b[38;5;28mrange\u001b[39m(\u001b[38;5;241m6\u001b[39m))\n",
      "\u001b[0;31mNameError\u001b[0m: name 'MODEL' is not defined"
     ]
    }
   ],
   "source": [
    "import seaborn as sns\n",
    "\n",
    "y_pred = np.argmax(MODEL.predict(X_val), axis=1)\n",
    "labels = ['neutral', 'calm', 'sad', 'happy', 'fear', 'disgust']\n",
    "cm = confusion_matrix(np.argmax(y_val_class, axis=1), y_pred, labels=range(6))\n",
    "\n",
    "# Calculate the sum of each row (true class) to normalize the confusion matrix\n",
    "cm_normalized = cm.astype('float') / cm.sum(axis=1)[:, np.newaxis]\n",
    "\n",
    "sns.heatmap(cm_normalized, annot=True, cmap='Blues', xticklabels=labels, yticklabels=labels)\n",
    "plt.xlabel('Predicted label')\n",
    "plt.ylabel('True label')\n",
    "plt.title('Normalized Confusion Matrix')\n",
    "plt.show()\n"
   ]
  },
  {
   "cell_type": "markdown",
   "metadata": {},
   "source": [
    "**Conclusion**\n",
    "\n",
    "In summary, our model achieved 95.36% accuracy in classifying six different emotions. However, there are several ways we could improve it. For example, we could change the model, obtain a better dataset and extract different features. One optimization that we could make is to generate a codebook and apply vector quantization to reduce the dimensionality. This can help to improve the model's training speed and reduce the risk of overfitting. Lastly, don't forget to use accelerators to speed up the training process. "
   ]
  },
  {
   "cell_type": "code",
   "execution_count": 46,
   "metadata": {},
   "outputs": [
    {
     "ename": "NameError",
     "evalue": "name 'class_names' is not defined",
     "output_type": "error",
     "traceback": [
      "\u001b[0;31m---------------------------------------------------------------------------\u001b[0m",
      "\u001b[0;31mNameError\u001b[0m                                 Traceback (most recent call last)",
      "Cell \u001b[0;32mIn[46], line 2\u001b[0m\n\u001b[1;32m      1\u001b[0m \u001b[38;5;28;01mfrom\u001b[39;00m \u001b[38;5;21;01msklearn\u001b[39;00m\u001b[38;5;21;01m.\u001b[39;00m\u001b[38;5;21;01mmetrics\u001b[39;00m \u001b[38;5;28;01mimport\u001b[39;00m classification_report\n\u001b[0;32m----> 2\u001b[0m \u001b[38;5;28mprint\u001b[39m(classification_report(y_train_class,y_val_class,target_names\u001b[38;5;241m=\u001b[39m\u001b[43mclass_names\u001b[49m,digits\u001b[38;5;241m=\u001b[39m\u001b[38;5;241m4\u001b[39m))\n",
      "\u001b[0;31mNameError\u001b[0m: name 'class_names' is not defined"
     ]
    }
   ],
   "source": [
    "from sklearn.metrics import classification_report\n",
    "print(classification_report(y_train_class,y_val_class,target_names=class_names,digits=4))"
   ]
  },
  {
   "cell_type": "code",
   "execution_count": 28,
   "metadata": {},
   "outputs": [
    {
     "name": "stdout",
     "output_type": "stream",
     "text": [
      "Macro Precision: 0.8644\n",
      "Macro Recall: 0.8689\n",
      "Macro F1 Score: 0.8654\n"
     ]
    }
   ],
   "source": [
    "from sklearn.metrics import confusion_matrix, precision_score, recall_score, f1_score\n",
    "\n",
    "# ... (Rest of the code)\n",
    "\n",
    "# Calculate precision, recall, and F1 score\n",
    "precision = precision_score(np.argmax(y_val_class, axis=1), y_pred, average='macro')\n",
    "recall = recall_score(np.argmax(y_val_class, axis=1), y_pred, average='macro')\n",
    "f1 = f1_score(np.argmax(y_val_class, axis=1), y_pred, average='macro')\n",
    "\n",
    "print(f\"Macro Precision: {precision:.4f}\")\n",
    "print(f\"Macro Recall: {recall:.4f}\")\n",
    "print(f\"Macro F1 Score: {f1:.4f}\")\n"
   ]
  },
  {
   "cell_type": "code",
   "execution_count": 29,
   "metadata": {},
   "outputs": [
    {
     "name": "stdout",
     "output_type": "stream",
     "text": [
      "Weighted Precision: 0.8759\n",
      "Weighted Recall: 0.8712\n",
      "Weighted F1 Score: 0.8724\n"
     ]
    }
   ],
   "source": [
    "precision = precision_score(np.argmax(y_val_class, axis=1), y_pred, average='weighted')\n",
    "recall = recall_score(np.argmax(y_val_class, axis=1), y_pred, average='weighted')\n",
    "f1 = f1_score(np.argmax(y_val_class, axis=1), y_pred, average='weighted')\n",
    "\n",
    "print(f\"Weighted Precision: {precision:.4f}\")\n",
    "print(f\"Weighted Recall: {recall:.4f}\")\n",
    "print(f\"Weighted F1 Score: {f1:.4f}\")\n"
   ]
  },
  {
   "cell_type": "code",
   "execution_count": null,
   "metadata": {},
   "outputs": [],
   "source": []
  }
 ],
 "metadata": {
  "kernelspec": {
   "display_name": "Python 3 (ipykernel)",
   "language": "python",
   "name": "python3"
  },
  "language_info": {
   "codemirror_mode": {
    "name": "ipython",
    "version": 3
   },
   "file_extension": ".py",
   "mimetype": "text/x-python",
   "name": "python",
   "nbconvert_exporter": "python",
   "pygments_lexer": "ipython3",
   "version": "3.10.9"
  }
 },
 "nbformat": 4,
 "nbformat_minor": 4
}
